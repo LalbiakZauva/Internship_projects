{
 "cells": [
  {
   "cell_type": "code",
   "execution_count": 1,
   "id": "cee23f8b",
   "metadata": {},
   "outputs": [],
   "source": [
    "# importing necessary libraries\n",
    "import selenium\n",
    "from selenium import webdriver\n",
    "from selenium.webdriver.common.by import By\n",
    "import pandas as pd\n",
    "import numpy as np\n",
    "import time\n",
    "import re\n",
    "import requests\n",
    "from selenium.common.exceptions import NoSuchElementException\n",
    "\n",
    "import warnings\n",
    "warnings.filterwarnings('ignore')"
   ]
  },
  {
   "cell_type": "markdown",
   "id": "0288eb36",
   "metadata": {},
   "source": [
    "# Details for Cars in Ahmedabad"
   ]
  },
  {
   "cell_type": "code",
   "execution_count": 2,
   "id": "a7a4e398",
   "metadata": {},
   "outputs": [],
   "source": [
    "# running webdriver\n",
    "driver = webdriver.Chrome(r'C:\\Users\\HP\\chromedriver_win32\\chromedriver.exe')\n",
    "\n",
    "# getting the url\n",
    "url = 'https://www.cardekho.com/'\n",
    "driver.get(url)\n",
    "driver.maximize_window()"
   ]
  },
  {
   "cell_type": "code",
   "execution_count": 3,
   "id": "3f7187df",
   "metadata": {},
   "outputs": [],
   "source": [
    "search = driver.find_element(By.XPATH,'/html/body/div[2]/div/header/div[1]/div/div/div[2]/div/div/form/div[1]/input')\n",
    "search.send_keys('used cars')"
   ]
  },
  {
   "cell_type": "code",
   "execution_count": 4,
   "id": "9a230a51",
   "metadata": {},
   "outputs": [],
   "source": [
    "from selenium.webdriver.common.keys import Keys\n",
    "driver.find_element(By.CLASS_NAME,\"searchbtn\").send_keys(Keys.RETURN)"
   ]
  },
  {
   "cell_type": "code",
   "execution_count": 5,
   "id": "ba9fbec2",
   "metadata": {},
   "outputs": [],
   "source": [
    "#Location\n",
    "\n",
    "loc = driver.find_element(By.XPATH,'/html/body/div[2]/div/div[1]/div/div/main/div[1]/div[2]/div/div[1]/div[1]/div[2]/input')\n",
    "loc.click()"
   ]
  },
  {
   "cell_type": "code",
   "execution_count": 6,
   "id": "86e7d4c7",
   "metadata": {},
   "outputs": [],
   "source": [
    "loc1 = driver.find_element(By.XPATH,'/html/body/div[2]/div/div[3]/div[3]/div/div/div[3]/section/div/ul/li[1]/a/span[3]')\n",
    "loc1.click()"
   ]
  },
  {
   "cell_type": "code",
   "execution_count": 12,
   "id": "731b5386",
   "metadata": {},
   "outputs": [],
   "source": [
    "brand_url = []\n",
    "brand_urls = driver.find_elements(By.XPATH,'//div[@class=\" gsc_row minheight\"]/div[1]/a')\n",
    "for i in brand_urls:\n",
    "    time.sleep(1)\n",
    "    brand_url.append(i.get_attribute('href'))\n",
    "for _ in range(100):\n",
    "    driver.execute_script(\"window.scrollBy(0,100)\")"
   ]
  },
  {
   "cell_type": "code",
   "execution_count": 13,
   "id": "196c3311",
   "metadata": {},
   "outputs": [
    {
     "data": {
      "text/plain": [
       "868"
      ]
     },
     "execution_count": 13,
     "metadata": {},
     "output_type": "execute_result"
    }
   ],
   "source": [
    "len(brand_url)"
   ]
  },
  {
   "cell_type": "markdown",
   "id": "07752488",
   "metadata": {},
   "source": [
    "## 1. Brand"
   ]
  },
  {
   "cell_type": "code",
   "execution_count": 14,
   "id": "8bec9710",
   "metadata": {},
   "outputs": [],
   "source": [
    "brand1 = []\n",
    "\n",
    "for i in brand_url:\n",
    "    driver.get(i)\n",
    "    time.sleep(1)\n",
    "    try:\n",
    "        bn = driver.find_element(By.XPATH,'//*[@class=\"overviewBox viewall gs_readmore\"]/span')\n",
    "        brand1.append(bn.text.split())\n",
    "    except NoSuchElementException:\n",
    "        brand1.append(None)"
   ]
  },
  {
   "cell_type": "code",
   "execution_count": 15,
   "id": "21789f6a",
   "metadata": {},
   "outputs": [],
   "source": [
    "brands1 = []\n",
    "\n",
    "for i in range(len(brand1)):\n",
    "    if brand1[i]==None:\n",
    "        brands1.append(np.nan)\n",
    "    else:\n",
    "        brands1.append(brand1[i][1])"
   ]
  },
  {
   "cell_type": "code",
   "execution_count": 16,
   "id": "4e5ae442",
   "metadata": {},
   "outputs": [
    {
     "data": {
      "text/plain": [
       "868"
      ]
     },
     "execution_count": 16,
     "metadata": {},
     "output_type": "execute_result"
    }
   ],
   "source": [
    "len(brands1)"
   ]
  },
  {
   "cell_type": "markdown",
   "id": "3f191597",
   "metadata": {},
   "source": [
    "## 2. Engine"
   ]
  },
  {
   "cell_type": "code",
   "execution_count": 41,
   "id": "6ec0e285",
   "metadata": {},
   "outputs": [],
   "source": [
    "engine1 = []\n",
    "\n",
    "for i in brand_url:\n",
    "    driver.get(i)\n",
    "    time.sleep(1)\n",
    "    try:\n",
    "        eg = driver.find_element(By.XPATH,'//div[@class=\"SpecsFeatureList\"]/ul/li[2]/div[2]')\n",
    "        engine1.append(eg.text.split())\n",
    "    except NoSuchElementException:\n",
    "        engine1.append('NaN')"
   ]
  },
  {
   "cell_type": "code",
   "execution_count": 94,
   "id": "9d9a6294",
   "metadata": {},
   "outputs": [],
   "source": [
    "engines1 = []\n",
    "\n",
    "for i in range(0,868):\n",
    "    if engine1[i]=='NaN':\n",
    "        engines1.append('NaN')\n",
    "    elif len(engine1[i])==1:\n",
    "        engines1.append('NaN')\n",
    "    else:\n",
    "        engines1.append(engine1[i][0])"
   ]
  },
  {
   "cell_type": "code",
   "execution_count": 99,
   "id": "556b23f3",
   "metadata": {},
   "outputs": [],
   "source": [
    "Engines1 = []\n",
    "for i in range(0,868):\n",
    "    if engines1[i]=='NaN':\n",
    "        Engines1.append(np.nan)\n",
    "    else:\n",
    "        Engines1.append(eval(engines1[i]))"
   ]
  },
  {
   "cell_type": "code",
   "execution_count": 103,
   "id": "2f3c30a1",
   "metadata": {},
   "outputs": [
    {
     "data": {
      "text/plain": [
       "868"
      ]
     },
     "execution_count": 103,
     "metadata": {},
     "output_type": "execute_result"
    }
   ],
   "source": [
    "len(Engines1)"
   ]
  },
  {
   "cell_type": "markdown",
   "id": "a7810a61",
   "metadata": {},
   "source": [
    "## 3. Number of owner"
   ]
  },
  {
   "cell_type": "code",
   "execution_count": 45,
   "id": "bfb4f49d",
   "metadata": {},
   "outputs": [],
   "source": [
    "owner1 = []\n",
    "\n",
    "for i in brand_url:\n",
    "    driver.get(i)\n",
    "    time.sleep(1)\n",
    "    try:\n",
    "        own = driver.find_element(By.XPATH,'//div[@class=\"GenDetailBox\"]/ul/li[4]/div/div')\n",
    "        owner1.append(own.text)\n",
    "    except NoSuchElementException:\n",
    "        owner1.append(np.nan)"
   ]
  },
  {
   "cell_type": "code",
   "execution_count": 46,
   "id": "159d26c9",
   "metadata": {},
   "outputs": [
    {
     "data": {
      "text/plain": [
       "868"
      ]
     },
     "execution_count": 46,
     "metadata": {},
     "output_type": "execute_result"
    }
   ],
   "source": [
    "len(owner1)"
   ]
  },
  {
   "cell_type": "markdown",
   "id": "6c5717f4",
   "metadata": {},
   "source": [
    "## 4. Insurance"
   ]
  },
  {
   "cell_type": "code",
   "execution_count": 47,
   "id": "c939f1b7",
   "metadata": {},
   "outputs": [],
   "source": [
    "insurance1 = []\n",
    "\n",
    "for i in brand_url:\n",
    "    driver.get(i)\n",
    "    time.sleep(1)\n",
    "    try:\n",
    "        ins = driver.find_element(By.XPATH,'//div[@class=\"GenDetailBox\"]/ul/li[7]/div/div')\n",
    "        insurance1.append(ins.text)\n",
    "    except NoSuchElementException:\n",
    "        insurance1.append(np.nan)"
   ]
  },
  {
   "cell_type": "code",
   "execution_count": 48,
   "id": "7a25cbac",
   "metadata": {},
   "outputs": [
    {
     "data": {
      "text/plain": [
       "868"
      ]
     },
     "execution_count": 48,
     "metadata": {},
     "output_type": "execute_result"
    }
   ],
   "source": [
    "len(insurance1)"
   ]
  },
  {
   "cell_type": "markdown",
   "id": "15218b96",
   "metadata": {},
   "source": [
    "## 5. Manufacturing year"
   ]
  },
  {
   "cell_type": "code",
   "execution_count": 113,
   "id": "8fdfc16e",
   "metadata": {},
   "outputs": [],
   "source": [
    "year1 = []\n",
    "\n",
    "for i in brand_url:\n",
    "    driver.get(i)\n",
    "    time.sleep(1)\n",
    "    try:\n",
    "        yr = driver.find_element(By.XPATH,'//div[@class=\"GenDetailBox\"]/ul/li[1]/div/div')\n",
    "        year1.append(yr.text)\n",
    "    except NoSuchElementException:\n",
    "        year1.append('NaN')"
   ]
  },
  {
   "cell_type": "code",
   "execution_count": 121,
   "id": "6abc35bd",
   "metadata": {},
   "outputs": [],
   "source": [
    "years1 = []\n",
    "for i in year1:\n",
    "    years1.append(i.replace('N/A','NaN'))"
   ]
  },
  {
   "cell_type": "code",
   "execution_count": 123,
   "id": "971fe354",
   "metadata": {},
   "outputs": [],
   "source": [
    "Years1 = []\n",
    "for i in range(len(years1)):\n",
    "    if years1[i]=='NaN':\n",
    "        Years1.append(np.nan)\n",
    "    else:\n",
    "        Years1.append(eval(years1[i]))"
   ]
  },
  {
   "cell_type": "code",
   "execution_count": 140,
   "id": "a81d32ec",
   "metadata": {},
   "outputs": [
    {
     "data": {
      "text/plain": [
       "868"
      ]
     },
     "execution_count": 140,
     "metadata": {},
     "output_type": "execute_result"
    }
   ],
   "source": [
    "len(Years1)"
   ]
  },
  {
   "cell_type": "markdown",
   "id": "79d81d55",
   "metadata": {},
   "source": [
    "## 6. Driven kms"
   ]
  },
  {
   "cell_type": "code",
   "execution_count": 57,
   "id": "55853e36",
   "metadata": {},
   "outputs": [],
   "source": [
    "kms1 = []\n",
    "\n",
    "for i in brand_url:\n",
    "    driver.get(i)\n",
    "    time.sleep(1)\n",
    "    try:\n",
    "        km = driver.find_element(By.XPATH,'//div[@class=\"GenDetailBox\"]/ul/li[3]/div/div')\n",
    "        kms1.append(km.text.split())\n",
    "    except NoSuchElementException:\n",
    "        kms1.append('NaN')"
   ]
  },
  {
   "cell_type": "code",
   "execution_count": 58,
   "id": "39a5e440",
   "metadata": {},
   "outputs": [],
   "source": [
    "Kms1 = []\n",
    "for i in range(len(kms1)):\n",
    "    if kms1[i]=='NaN':\n",
    "        Kms1.append('NaN')\n",
    "    else:\n",
    "        Kms1.append(kms1[i][0])"
   ]
  },
  {
   "cell_type": "code",
   "execution_count": 62,
   "id": "ade6330a",
   "metadata": {},
   "outputs": [],
   "source": [
    "Kilo1 = []\n",
    "for i in range(len(Kms1)):\n",
    "    if Kms1[i]=='NaN':\n",
    "        Kilo1.append('NaN')\n",
    "    else:\n",
    "        Kilo1.append(Kms1[i].replace(',',''))"
   ]
  },
  {
   "cell_type": "code",
   "execution_count": 63,
   "id": "0390527b",
   "metadata": {},
   "outputs": [],
   "source": [
    "Kilos1 = []\n",
    "for i in range(len(Kilo1)):\n",
    "    if Kilo1[i]=='NaN':\n",
    "        Kilos1.append(np.nan)\n",
    "    else:\n",
    "        Kilos1.append(eval(Kilo1[i]))"
   ]
  },
  {
   "cell_type": "code",
   "execution_count": 65,
   "id": "4fc98be9",
   "metadata": {},
   "outputs": [
    {
     "data": {
      "text/plain": [
       "868"
      ]
     },
     "execution_count": 65,
     "metadata": {},
     "output_type": "execute_result"
    }
   ],
   "source": [
    "len(Kilos1)"
   ]
  },
  {
   "cell_type": "markdown",
   "id": "a33cbc85",
   "metadata": {},
   "source": [
    "## 7. Fuel type"
   ]
  },
  {
   "cell_type": "code",
   "execution_count": 66,
   "id": "8809a6a2",
   "metadata": {},
   "outputs": [],
   "source": [
    "fuel1 = []\n",
    "\n",
    "for i in brand_url:\n",
    "    driver.get(i)\n",
    "    time.sleep(1)\n",
    "    try:\n",
    "        fl = driver.find_element(By.XPATH,'//div[@class=\"GenDetailBox\"]/ul/li[5]/div/div')\n",
    "        fuel1.append(fl.text)\n",
    "    except NoSuchElementException:\n",
    "        fuel1.append(np.nan)"
   ]
  },
  {
   "cell_type": "code",
   "execution_count": 67,
   "id": "a97ea7d9",
   "metadata": {},
   "outputs": [
    {
     "data": {
      "text/plain": [
       "868"
      ]
     },
     "execution_count": 67,
     "metadata": {},
     "output_type": "execute_result"
    }
   ],
   "source": [
    "len(fuel1)"
   ]
  },
  {
   "cell_type": "markdown",
   "id": "7144a0e8",
   "metadata": {},
   "source": [
    "## 8. Mileage"
   ]
  },
  {
   "cell_type": "code",
   "execution_count": 68,
   "id": "63363379",
   "metadata": {},
   "outputs": [],
   "source": [
    "mileage1 = []\n",
    "\n",
    "for i in brand_url:\n",
    "    driver.get(i)\n",
    "    time.sleep(1)\n",
    "    try:\n",
    "        ml = driver.find_element(By.XPATH,'//div[@class=\"SpecsFeatureList\"]/ul/li[1]/div[2]')\n",
    "        mileage1.append(ml.text.split())\n",
    "    except NoSuchElementException:\n",
    "        mileage1.append('NaN')"
   ]
  },
  {
   "cell_type": "code",
   "execution_count": 144,
   "id": "42ee6ff1",
   "metadata": {},
   "outputs": [],
   "source": [
    "milg1 = []\n",
    "\n",
    "for i in range(len(mileage1)):\n",
    "    if mileage1[i]=='NaN':\n",
    "        milg1.append('NaN')\n",
    "    else:\n",
    "        milg1.append(mileage1[i][0])"
   ]
  },
  {
   "cell_type": "code",
   "execution_count": 145,
   "id": "daf89c42",
   "metadata": {},
   "outputs": [],
   "source": [
    "Milg1 = []\n",
    "for i in range(len(milg1)):\n",
    "    if milg1[i]=='NaN':\n",
    "        Milg1.append(np.nan)\n",
    "    else:\n",
    "        Milg1.append(eval(milg1[i]))"
   ]
  },
  {
   "cell_type": "code",
   "execution_count": 147,
   "id": "a575d449",
   "metadata": {},
   "outputs": [
    {
     "data": {
      "text/plain": [
       "868"
      ]
     },
     "execution_count": 147,
     "metadata": {},
     "output_type": "execute_result"
    }
   ],
   "source": [
    "len(Milg1)"
   ]
  },
  {
   "cell_type": "markdown",
   "id": "8871a09a",
   "metadata": {},
   "source": [
    "## 9. Price"
   ]
  },
  {
   "cell_type": "code",
   "execution_count": 283,
   "id": "0a01769f",
   "metadata": {},
   "outputs": [],
   "source": [
    "price1 = []\n",
    "\n",
    "for i in brand_url:\n",
    "    driver.get(i)\n",
    "    time.sleep(1)\n",
    "    try:\n",
    "        pc = driver.find_element(By.XPATH,'//div[@class=\"gsc_container_hold\"]/span/span[1]')\n",
    "        price1.append(pc.text.split())\n",
    "    except NoSuchElementException:\n",
    "        price1.append('NaN')"
   ]
  },
  {
   "cell_type": "code",
   "execution_count": 316,
   "id": "9e2a6c46",
   "metadata": {},
   "outputs": [],
   "source": [
    "Price1 = []\n",
    "for i in range(len(price1)):\n",
    "    if price1[i] == 'NaN':\n",
    "        Price1.append('NaN')\n",
    "    elif price1[i] !='NaN':\n",
    "        Price1.append(price1[i][0].replace(',',''))\n",
    "    else:\n",
    "        Price1.append(price1[i][0])"
   ]
  },
  {
   "cell_type": "code",
   "execution_count": 318,
   "id": "7147ed79",
   "metadata": {},
   "outputs": [],
   "source": [
    "Prices1 = []\n",
    "for i in range(len(Price1)):\n",
    "    if Price1[i]!='NaN':\n",
    "        Prices1.append(Price1[i].split('*'))\n",
    "    else:\n",
    "        Prices1.append('NaN')"
   ]
  },
  {
   "cell_type": "code",
   "execution_count": 324,
   "id": "2cea560c",
   "metadata": {},
   "outputs": [],
   "source": [
    "Prc1 = []\n",
    "for i in range(len(Prices1)):\n",
    "    Prc1.append(Prices1[i][0])"
   ]
  },
  {
   "cell_type": "code",
   "execution_count": 325,
   "id": "9f049096",
   "metadata": {},
   "outputs": [],
   "source": [
    "Prcs1 = []\n",
    "for i in range(len(Prc1)):\n",
    "    if Prc1[i]=='N':\n",
    "        Prcs1.append(np.nan)\n",
    "    else:\n",
    "        Prcs1.append(eval(Prc1[i]))"
   ]
  },
  {
   "cell_type": "code",
   "execution_count": 327,
   "id": "5577cad7",
   "metadata": {},
   "outputs": [
    {
     "data": {
      "text/plain": [
       "868"
      ]
     },
     "execution_count": 327,
     "metadata": {},
     "output_type": "execute_result"
    }
   ],
   "source": [
    "len(Prcs1)"
   ]
  },
  {
   "cell_type": "code",
   "execution_count": 328,
   "id": "d2782d06",
   "metadata": {},
   "outputs": [
    {
     "data": {
      "text/html": [
       "<div>\n",
       "<style scoped>\n",
       "    .dataframe tbody tr th:only-of-type {\n",
       "        vertical-align: middle;\n",
       "    }\n",
       "\n",
       "    .dataframe tbody tr th {\n",
       "        vertical-align: top;\n",
       "    }\n",
       "\n",
       "    .dataframe thead th {\n",
       "        text-align: right;\n",
       "    }\n",
       "</style>\n",
       "<table border=\"1\" class=\"dataframe\">\n",
       "  <thead>\n",
       "    <tr style=\"text-align: right;\">\n",
       "      <th></th>\n",
       "      <th>Brand</th>\n",
       "      <th>Engine (in cc)</th>\n",
       "      <th>Number of owner</th>\n",
       "      <th>Insurance</th>\n",
       "      <th>Manufacturing year</th>\n",
       "      <th>Driven kilometers</th>\n",
       "      <th>Fuel type</th>\n",
       "      <th>Mileage</th>\n",
       "      <th>Price (in lakhs)</th>\n",
       "    </tr>\n",
       "  </thead>\n",
       "  <tbody>\n",
       "    <tr>\n",
       "      <th>0</th>\n",
       "      <td>NaN</td>\n",
       "      <td>NaN</td>\n",
       "      <td>NaN</td>\n",
       "      <td>NaN</td>\n",
       "      <td>NaN</td>\n",
       "      <td>NaN</td>\n",
       "      <td>NaN</td>\n",
       "      <td>NaN</td>\n",
       "      <td>NaN</td>\n",
       "    </tr>\n",
       "    <tr>\n",
       "      <th>1</th>\n",
       "      <td>NaN</td>\n",
       "      <td>NaN</td>\n",
       "      <td>NaN</td>\n",
       "      <td>NaN</td>\n",
       "      <td>NaN</td>\n",
       "      <td>NaN</td>\n",
       "      <td>NaN</td>\n",
       "      <td>NaN</td>\n",
       "      <td>NaN</td>\n",
       "    </tr>\n",
       "    <tr>\n",
       "      <th>2</th>\n",
       "      <td>NaN</td>\n",
       "      <td>NaN</td>\n",
       "      <td>NaN</td>\n",
       "      <td>NaN</td>\n",
       "      <td>NaN</td>\n",
       "      <td>NaN</td>\n",
       "      <td>NaN</td>\n",
       "      <td>NaN</td>\n",
       "      <td>NaN</td>\n",
       "    </tr>\n",
       "    <tr>\n",
       "      <th>3</th>\n",
       "      <td>NaN</td>\n",
       "      <td>NaN</td>\n",
       "      <td>NaN</td>\n",
       "      <td>NaN</td>\n",
       "      <td>NaN</td>\n",
       "      <td>NaN</td>\n",
       "      <td>NaN</td>\n",
       "      <td>NaN</td>\n",
       "      <td>NaN</td>\n",
       "    </tr>\n",
       "    <tr>\n",
       "      <th>4</th>\n",
       "      <td>NaN</td>\n",
       "      <td>NaN</td>\n",
       "      <td>NaN</td>\n",
       "      <td>NaN</td>\n",
       "      <td>NaN</td>\n",
       "      <td>NaN</td>\n",
       "      <td>NaN</td>\n",
       "      <td>NaN</td>\n",
       "      <td>NaN</td>\n",
       "    </tr>\n",
       "    <tr>\n",
       "      <th>...</th>\n",
       "      <td>...</td>\n",
       "      <td>...</td>\n",
       "      <td>...</td>\n",
       "      <td>...</td>\n",
       "      <td>...</td>\n",
       "      <td>...</td>\n",
       "      <td>...</td>\n",
       "      <td>...</td>\n",
       "      <td>...</td>\n",
       "    </tr>\n",
       "    <tr>\n",
       "      <th>863</th>\n",
       "      <td>Hyundai</td>\n",
       "      <td>1582.0</td>\n",
       "      <td>Second Owner</td>\n",
       "      <td>Active</td>\n",
       "      <td>2018.0</td>\n",
       "      <td>76613.0</td>\n",
       "      <td>Diesel</td>\n",
       "      <td>22.00</td>\n",
       "      <td>8.37</td>\n",
       "    </tr>\n",
       "    <tr>\n",
       "      <th>864</th>\n",
       "      <td>Maruti</td>\n",
       "      <td>1248.0</td>\n",
       "      <td>First Owner</td>\n",
       "      <td>Active</td>\n",
       "      <td>2017.0</td>\n",
       "      <td>125450.0</td>\n",
       "      <td>Diesel</td>\n",
       "      <td>23.40</td>\n",
       "      <td>5.00</td>\n",
       "    </tr>\n",
       "    <tr>\n",
       "      <th>865</th>\n",
       "      <td>Maruti</td>\n",
       "      <td>796.0</td>\n",
       "      <td>First Owner</td>\n",
       "      <td>No Insurance</td>\n",
       "      <td>NaN</td>\n",
       "      <td>120000.0</td>\n",
       "      <td>Petrol</td>\n",
       "      <td>22.74</td>\n",
       "      <td>2.80</td>\n",
       "    </tr>\n",
       "    <tr>\n",
       "      <th>866</th>\n",
       "      <td>Maruti</td>\n",
       "      <td>1248.0</td>\n",
       "      <td>First Owner</td>\n",
       "      <td>No Insurance</td>\n",
       "      <td>2017.0</td>\n",
       "      <td>87000.0</td>\n",
       "      <td>Diesel</td>\n",
       "      <td>28.09</td>\n",
       "      <td>6.95</td>\n",
       "    </tr>\n",
       "    <tr>\n",
       "      <th>867</th>\n",
       "      <td>Maruti</td>\n",
       "      <td>1197.0</td>\n",
       "      <td>First Owner</td>\n",
       "      <td>No Insurance</td>\n",
       "      <td>NaN</td>\n",
       "      <td>120000.0</td>\n",
       "      <td>Petrol</td>\n",
       "      <td>22.00</td>\n",
       "      <td>6.00</td>\n",
       "    </tr>\n",
       "  </tbody>\n",
       "</table>\n",
       "<p>868 rows × 9 columns</p>\n",
       "</div>"
      ],
      "text/plain": [
       "       Brand  Engine (in cc) Number of owner     Insurance  \\\n",
       "0        NaN             NaN             NaN           NaN   \n",
       "1        NaN             NaN             NaN           NaN   \n",
       "2        NaN             NaN             NaN           NaN   \n",
       "3        NaN             NaN             NaN           NaN   \n",
       "4        NaN             NaN             NaN           NaN   \n",
       "..       ...             ...             ...           ...   \n",
       "863  Hyundai          1582.0    Second Owner        Active   \n",
       "864   Maruti          1248.0     First Owner        Active   \n",
       "865   Maruti           796.0     First Owner  No Insurance   \n",
       "866   Maruti          1248.0     First Owner  No Insurance   \n",
       "867   Maruti          1197.0     First Owner  No Insurance   \n",
       "\n",
       "     Manufacturing year  Driven kilometers Fuel type  Mileage  \\\n",
       "0                   NaN                NaN       NaN      NaN   \n",
       "1                   NaN                NaN       NaN      NaN   \n",
       "2                   NaN                NaN       NaN      NaN   \n",
       "3                   NaN                NaN       NaN      NaN   \n",
       "4                   NaN                NaN       NaN      NaN   \n",
       "..                  ...                ...       ...      ...   \n",
       "863              2018.0            76613.0    Diesel    22.00   \n",
       "864              2017.0           125450.0    Diesel    23.40   \n",
       "865                 NaN           120000.0    Petrol    22.74   \n",
       "866              2017.0            87000.0    Diesel    28.09   \n",
       "867                 NaN           120000.0    Petrol    22.00   \n",
       "\n",
       "     Price (in lakhs)  \n",
       "0                 NaN  \n",
       "1                 NaN  \n",
       "2                 NaN  \n",
       "3                 NaN  \n",
       "4                 NaN  \n",
       "..                ...  \n",
       "863              8.37  \n",
       "864              5.00  \n",
       "865              2.80  \n",
       "866              6.95  \n",
       "867              6.00  \n",
       "\n",
       "[868 rows x 9 columns]"
      ]
     },
     "execution_count": 328,
     "metadata": {},
     "output_type": "execute_result"
    }
   ],
   "source": [
    "df = pd.DataFrame()\n",
    "df['Brand'] = brands1\n",
    "df['Engine (in cc)'] = Engines1\n",
    "df['Number of owner'] = owner1\n",
    "df['Insurance'] = insurance1\n",
    "df['Manufacturing year'] = Years1\n",
    "df['Driven kilometers'] = Kilos1\n",
    "df['Fuel type'] = fuel1\n",
    "df['Mileage'] = Milg1\n",
    "df['Price (in lakhs)'] = Prcs1\n",
    "df"
   ]
  },
  {
   "cell_type": "code",
   "execution_count": 329,
   "id": "02a58b04",
   "metadata": {},
   "outputs": [
    {
     "name": "stdout",
     "output_type": "stream",
     "text": [
      "<class 'pandas.core.frame.DataFrame'>\n",
      "RangeIndex: 868 entries, 0 to 867\n",
      "Data columns (total 9 columns):\n",
      " #   Column              Non-Null Count  Dtype  \n",
      "---  ------              --------------  -----  \n",
      " 0   Brand               776 non-null    object \n",
      " 1   Engine (in cc)      760 non-null    float64\n",
      " 2   Number of owner     775 non-null    object \n",
      " 3   Insurance           775 non-null    object \n",
      " 4   Manufacturing year  689 non-null    float64\n",
      " 5   Driven kilometers   775 non-null    float64\n",
      " 6   Fuel type           772 non-null    object \n",
      " 7   Mileage             772 non-null    float64\n",
      " 8   Price (in lakhs)    761 non-null    float64\n",
      "dtypes: float64(5), object(4)\n",
      "memory usage: 61.2+ KB\n"
     ]
    }
   ],
   "source": [
    "df.info()"
   ]
  },
  {
   "cell_type": "code",
   "execution_count": 330,
   "id": "a10922d9",
   "metadata": {},
   "outputs": [],
   "source": [
    "df.to_csv('Ahmedabad.csv')"
   ]
  },
  {
   "cell_type": "code",
   "execution_count": 153,
   "id": "d14a60cd",
   "metadata": {},
   "outputs": [],
   "source": [
    "driver.close()"
   ]
  },
  {
   "cell_type": "markdown",
   "id": "a7d19362",
   "metadata": {},
   "source": [
    "# Details for cars in Bangalore"
   ]
  },
  {
   "cell_type": "code",
   "execution_count": 167,
   "id": "9100f6e6",
   "metadata": {},
   "outputs": [],
   "source": [
    "# running webdriver\n",
    "driver = webdriver.Chrome(r'C:\\Users\\HP\\chromedriver_win32\\chromedriver.exe')\n",
    "\n",
    "# getting the url\n",
    "url = 'https://www.cardekho.com/'\n",
    "driver.get(url)\n",
    "driver.maximize_window()"
   ]
  },
  {
   "cell_type": "code",
   "execution_count": 168,
   "id": "092390b4",
   "metadata": {},
   "outputs": [],
   "source": [
    "search = driver.find_element(By.XPATH,'/html/body/div[2]/div/header/div[1]/div/div/div[2]/div/div/form/div[1]/input')\n",
    "search.send_keys('used cars')"
   ]
  },
  {
   "cell_type": "code",
   "execution_count": 169,
   "id": "8e0c053c",
   "metadata": {},
   "outputs": [],
   "source": [
    "from selenium.webdriver.common.keys import Keys\n",
    "driver.find_element(By.CLASS_NAME,\"searchbtn\").send_keys(Keys.RETURN)"
   ]
  },
  {
   "cell_type": "code",
   "execution_count": 170,
   "id": "c5e294d1",
   "metadata": {},
   "outputs": [],
   "source": [
    "#Location\n",
    "\n",
    "loc = driver.find_element(By.XPATH,'/html/body/div[2]/div/div[1]/div/div/main/div[1]/div[2]/div/div[1]/div[1]/div[2]/input')\n",
    "loc.click()"
   ]
  },
  {
   "cell_type": "code",
   "execution_count": 171,
   "id": "7a8f59af",
   "metadata": {},
   "outputs": [],
   "source": [
    "loc1 = driver.find_element(By.XPATH,'/html/body/div[2]/div/div[3]/div[3]/div/div/div[3]/section/div/ul/li[2]/a/span[3]')\n",
    "loc1.click()"
   ]
  },
  {
   "cell_type": "code",
   "execution_count": 172,
   "id": "dd7510c4",
   "metadata": {},
   "outputs": [],
   "source": [
    "#driver.execute_script(\"window.scrollTo(0,document.body.scrollHeight)\")"
   ]
  },
  {
   "cell_type": "code",
   "execution_count": 177,
   "id": "7c7e6b92",
   "metadata": {},
   "outputs": [],
   "source": [
    "brand_url2 = []\n",
    "brand_urls2 = driver.find_elements(By.XPATH,'//div[@class=\"gsc_col-xs-7  carsName\"]/a')\n",
    "for i in brand_urls2:\n",
    "    time.sleep(2)\n",
    "    brand_url2.append(i.get_attribute('href'))\n",
    "for _ in range(500):\n",
    "    driver.execute_script(\"window.scrollBy(0,1000)\")"
   ]
  },
  {
   "cell_type": "code",
   "execution_count": 331,
   "id": "aabb4158",
   "metadata": {},
   "outputs": [
    {
     "data": {
      "text/plain": [
       "1738"
      ]
     },
     "execution_count": 331,
     "metadata": {},
     "output_type": "execute_result"
    }
   ],
   "source": [
    "len(brand_url2)"
   ]
  },
  {
   "cell_type": "markdown",
   "id": "bc831f99",
   "metadata": {},
   "source": [
    "## 1. Brand"
   ]
  },
  {
   "cell_type": "code",
   "execution_count": 184,
   "id": "eb20d7bb",
   "metadata": {},
   "outputs": [],
   "source": [
    "brand2 = []\n",
    "\n",
    "for i in brand_url2:\n",
    "    driver.get(i)\n",
    "    time.sleep(2)\n",
    "    try:\n",
    "        br = driver.find_element(By.XPATH,'//div[@class=\"usedSpecFeatureBoxs \"]/div[1]/span')\n",
    "        brand2.append(br.text.split())\n",
    "    except NoSuchElementException:\n",
    "        brand2.append('NaN')"
   ]
  },
  {
   "cell_type": "code",
   "execution_count": 185,
   "id": "bd6a071a",
   "metadata": {},
   "outputs": [],
   "source": [
    "brands2 = []\n",
    "for i in range(len(brand2)):\n",
    "    if brand2[i]=='NaN':\n",
    "        brands2.append(np.nan)\n",
    "    else:\n",
    "        brands2.append(brand2[i][1])"
   ]
  },
  {
   "cell_type": "code",
   "execution_count": 332,
   "id": "acfc38ed",
   "metadata": {},
   "outputs": [
    {
     "data": {
      "text/plain": [
       "1738"
      ]
     },
     "execution_count": 332,
     "metadata": {},
     "output_type": "execute_result"
    }
   ],
   "source": [
    "len(brands2)"
   ]
  },
  {
   "cell_type": "markdown",
   "id": "1583243a",
   "metadata": {},
   "source": [
    "## 2. Engine"
   ]
  },
  {
   "cell_type": "code",
   "execution_count": 189,
   "id": "513429d1",
   "metadata": {},
   "outputs": [],
   "source": [
    "engine2 = []\n",
    "\n",
    "for i in brand_url2:\n",
    "    driver.get(i)\n",
    "    time.sleep(1)\n",
    "    try:\n",
    "        en = driver.find_element(By.XPATH,'//div[@class=\"SpecsFeatureList\"]/ul/li[2]/div[2]')\n",
    "        engine2.append(en.text.split())\n",
    "    except NoSuchElementException:\n",
    "        engine2.append('NaN')"
   ]
  },
  {
   "cell_type": "code",
   "execution_count": 211,
   "id": "dfaf794c",
   "metadata": {},
   "outputs": [],
   "source": [
    "engines2 = []\n",
    "for i in range(len(engine2)):\n",
    "    if engine2[i] == 'NaN':\n",
    "        engines2.append('NaN')\n",
    "    else:\n",
    "        engines2.append(engine2[i][0].split('B'))"
   ]
  },
  {
   "cell_type": "code",
   "execution_count": 218,
   "id": "c5f57605",
   "metadata": {},
   "outputs": [],
   "source": [
    "Engines2 = []\n",
    "for i in range(len(engines2)):\n",
    "    if engines2[i] == 'NaN':\n",
    "        Engines2.append('NaN')\n",
    "   # elif engine2[i] != 'NaN':\n",
    "        #engines2.append(engine2[i][0].split('b' or 'B'))\n",
    "    else:\n",
    "        Engines2.append(engines2[i][0].split('b'))"
   ]
  },
  {
   "cell_type": "code",
   "execution_count": 219,
   "id": "a90f5c51",
   "metadata": {},
   "outputs": [],
   "source": [
    "Engine2 = []\n",
    "for i in range(len(Engines2)):\n",
    "    if Engines2[i]=='NaN':\n",
    "        Engine2.append('NaN')\n",
    "    else:\n",
    "        Engine2.append(Engines2[i][0])"
   ]
  },
  {
   "cell_type": "code",
   "execution_count": 221,
   "id": "303fcda1",
   "metadata": {},
   "outputs": [],
   "source": [
    "Eng2 = []\n",
    "for i in range(len(Engine2)):\n",
    "    if Engine2[i]=='NaN':\n",
    "        Eng2.append(np.nan)\n",
    "    else:\n",
    "        Eng2.append(eval(Engine2[i]))"
   ]
  },
  {
   "cell_type": "code",
   "execution_count": 333,
   "id": "a2ecf788",
   "metadata": {},
   "outputs": [
    {
     "data": {
      "text/plain": [
       "1738"
      ]
     },
     "execution_count": 333,
     "metadata": {},
     "output_type": "execute_result"
    }
   ],
   "source": [
    "len(Eng2)"
   ]
  },
  {
   "cell_type": "markdown",
   "id": "5edc97b1",
   "metadata": {},
   "source": [
    "## 3. Number of owner"
   ]
  },
  {
   "cell_type": "code",
   "execution_count": 224,
   "id": "e10ce3cc",
   "metadata": {},
   "outputs": [],
   "source": [
    "owner2 = []\n",
    "\n",
    "for i in brand_url2:\n",
    "    driver.get(i)\n",
    "    time.sleep(1)\n",
    "    try:\n",
    "        own = driver.find_element(By.XPATH,'//div[@class=\"GenDetailBox\"]/ul/li[4]/div/div')\n",
    "        owner2.append(own.text)\n",
    "    except NoSuchElementException:\n",
    "        owner2.append(np.nan)"
   ]
  },
  {
   "cell_type": "code",
   "execution_count": 334,
   "id": "44848c42",
   "metadata": {},
   "outputs": [
    {
     "data": {
      "text/plain": [
       "1738"
      ]
     },
     "execution_count": 334,
     "metadata": {},
     "output_type": "execute_result"
    }
   ],
   "source": [
    "len(owner2)"
   ]
  },
  {
   "cell_type": "markdown",
   "id": "0405e8d4",
   "metadata": {},
   "source": [
    "## 4. Insurance"
   ]
  },
  {
   "cell_type": "code",
   "execution_count": 421,
   "id": "4512f514",
   "metadata": {},
   "outputs": [],
   "source": [
    "insurance2 = []\n",
    "\n",
    "for i in brand_url2:\n",
    "    driver.get(i)\n",
    "    time.sleep(1)\n",
    "    try:\n",
    "        ins = driver.find_element(By.XPATH,'//div[@class=\"GenDetailBox\"]/ul/li[7]/div/div')\n",
    "        insurance2.append(ins.text)\n",
    "    except NoSuchElementException:\n",
    "        insurance2.append(np.nan)"
   ]
  },
  {
   "cell_type": "code",
   "execution_count": 422,
   "id": "199096f8",
   "metadata": {},
   "outputs": [
    {
     "data": {
      "text/plain": [
       "1738"
      ]
     },
     "execution_count": 422,
     "metadata": {},
     "output_type": "execute_result"
    }
   ],
   "source": [
    "len(insurance2)"
   ]
  },
  {
   "cell_type": "markdown",
   "id": "ee8568fa",
   "metadata": {},
   "source": [
    "## 5. Manufacturing year"
   ]
  },
  {
   "cell_type": "code",
   "execution_count": 235,
   "id": "e135ae90",
   "metadata": {},
   "outputs": [],
   "source": [
    "year2 = []\n",
    "\n",
    "for i in brand_url2:\n",
    "    driver.get(i)\n",
    "    time.sleep(1)\n",
    "    try:\n",
    "        yr2 = driver.find_element(By.XPATH,'//div[@class=\"GenDetailBox\"]/ul/li[1]/div/div')\n",
    "        year2.append(yr2.text)\n",
    "    except NoSuchElementException:\n",
    "        year2.append('NaN')"
   ]
  },
  {
   "cell_type": "code",
   "execution_count": 244,
   "id": "bd8e8840",
   "metadata": {},
   "outputs": [],
   "source": [
    "years2 = []\n",
    "for i in range(len(year2)):\n",
    "    if year2[i]=='N/A':\n",
    "        years2.append('NaN')\n",
    "    elif year2[i]=='NaN':\n",
    "        years2.append('NaN')\n",
    "    else:\n",
    "        years2.append(year2[i])"
   ]
  },
  {
   "cell_type": "code",
   "execution_count": 246,
   "id": "5dd26e4d",
   "metadata": {},
   "outputs": [],
   "source": [
    "Years2 = []\n",
    "for i in range(len(years2)):\n",
    "    if years2[i]=='NaN':\n",
    "        Years2.append(np.nan)\n",
    "    else:\n",
    "        Years2.append(eval(years2[i]))"
   ]
  },
  {
   "cell_type": "code",
   "execution_count": 336,
   "id": "00bf8718",
   "metadata": {},
   "outputs": [
    {
     "data": {
      "text/plain": [
       "1738"
      ]
     },
     "execution_count": 336,
     "metadata": {},
     "output_type": "execute_result"
    }
   ],
   "source": [
    "len(Years2)"
   ]
  },
  {
   "cell_type": "markdown",
   "id": "1933cd9b",
   "metadata": {},
   "source": [
    "## 6. Kilometers driven"
   ]
  },
  {
   "cell_type": "code",
   "execution_count": 252,
   "id": "00d38030",
   "metadata": {},
   "outputs": [],
   "source": [
    "kms2 = []\n",
    "\n",
    "for i in brand_url2:\n",
    "    driver.get(i)\n",
    "    time.sleep(1)\n",
    "    try:\n",
    "        km2 = driver.find_element(By.XPATH,'//div[@class=\"GenDetailBox\"]/ul/li[3]/div/div')\n",
    "        kms2.append(km2.text.split())\n",
    "    except NoSuchElementException:\n",
    "        kms2.append('NaN')"
   ]
  },
  {
   "cell_type": "code",
   "execution_count": 253,
   "id": "e2d56b91",
   "metadata": {},
   "outputs": [],
   "source": [
    "Kms2 = []\n",
    "for i in range(len(kms2)):\n",
    "    if kms2[i]=='NaN':\n",
    "        Kms2.append('NaN')\n",
    "    else:\n",
    "        Kms2.append(kms2[i][0])"
   ]
  },
  {
   "cell_type": "code",
   "execution_count": 254,
   "id": "6a47ea3d",
   "metadata": {},
   "outputs": [],
   "source": [
    "Kilo2 = []\n",
    "for i in range(len(Kms2)):\n",
    "    if Kms2[i]=='NaN':\n",
    "        Kilo2.append('NaN')\n",
    "    else:\n",
    "        Kilo2.append(Kms2[i].replace(',',''))"
   ]
  },
  {
   "cell_type": "code",
   "execution_count": 255,
   "id": "dfdc77de",
   "metadata": {},
   "outputs": [],
   "source": [
    "Kilos2 = []\n",
    "for i in range(len(Kilo2)):\n",
    "    if Kilo2[i]=='NaN':\n",
    "        Kilos2.append(np.nan)\n",
    "    else:\n",
    "        Kilos2.append(eval(Kilo2[i]))"
   ]
  },
  {
   "cell_type": "code",
   "execution_count": 337,
   "id": "2f6e1a14",
   "metadata": {},
   "outputs": [
    {
     "data": {
      "text/plain": [
       "1738"
      ]
     },
     "execution_count": 337,
     "metadata": {},
     "output_type": "execute_result"
    }
   ],
   "source": [
    "len(Kilos2)"
   ]
  },
  {
   "cell_type": "markdown",
   "id": "8f118d2c",
   "metadata": {},
   "source": [
    "## 7. Fuel type"
   ]
  },
  {
   "cell_type": "code",
   "execution_count": 258,
   "id": "a0cd7671",
   "metadata": {},
   "outputs": [],
   "source": [
    "fuel2 = []\n",
    "\n",
    "for i in brand_url2:\n",
    "    driver.get(i)\n",
    "    time.sleep(1)\n",
    "    try:\n",
    "        fl2 = driver.find_element(By.XPATH,'//div[@class=\"GenDetailBox\"]/ul/li[5]/div/div')\n",
    "        fuel2.append(fl2.text)\n",
    "    except NoSuchElementException:\n",
    "        fuel2.append(np.nan)"
   ]
  },
  {
   "cell_type": "code",
   "execution_count": 338,
   "id": "390ac2be",
   "metadata": {},
   "outputs": [
    {
     "data": {
      "text/plain": [
       "1738"
      ]
     },
     "execution_count": 338,
     "metadata": {},
     "output_type": "execute_result"
    }
   ],
   "source": [
    "len(fuel2)"
   ]
  },
  {
   "cell_type": "markdown",
   "id": "8ba2b6f7",
   "metadata": {},
   "source": [
    "## 8. Mileage"
   ]
  },
  {
   "cell_type": "code",
   "execution_count": 340,
   "id": "004074f4",
   "metadata": {},
   "outputs": [],
   "source": [
    "mileage2 = []\n",
    "\n",
    "for i in brand_url2:\n",
    "    driver.get(i)\n",
    "    time.sleep(1)\n",
    "    try:\n",
    "        ml2 = driver.find_element(By.XPATH,'//div[@class=\"SpecsFeatureList\"]/ul/li[1]/div[2]')\n",
    "        mileage2.append(ml2.text.split())\n",
    "    except NoSuchElementException:\n",
    "        mileage2.append('NaN')"
   ]
  },
  {
   "cell_type": "code",
   "execution_count": 341,
   "id": "4d9d4096",
   "metadata": {},
   "outputs": [],
   "source": [
    "milg2 = []\n",
    "\n",
    "for i in range(len(mileage2)):\n",
    "    if mileage2[i]=='NaN':\n",
    "        milg2.append('NaN')\n",
    "    else:\n",
    "        milg2.append(mileage2[i][0])"
   ]
  },
  {
   "cell_type": "code",
   "execution_count": 342,
   "id": "5f9e02cd",
   "metadata": {},
   "outputs": [],
   "source": [
    "Mileage2 = []\n",
    "for i in range(len(milg2)):\n",
    "    if milg2[i]=='NaN':\n",
    "        Mileage2.append(np.nan)\n",
    "    else:\n",
    "        Mileage2.append(eval(milg2[i]))"
   ]
  },
  {
   "cell_type": "code",
   "execution_count": 365,
   "id": "14927476",
   "metadata": {},
   "outputs": [
    {
     "data": {
      "text/plain": [
       "1738"
      ]
     },
     "execution_count": 365,
     "metadata": {},
     "output_type": "execute_result"
    }
   ],
   "source": [
    "len(Mileage2)"
   ]
  },
  {
   "cell_type": "markdown",
   "id": "dd23b564",
   "metadata": {},
   "source": [
    "## 9. Price"
   ]
  },
  {
   "cell_type": "code",
   "execution_count": 344,
   "id": "525fdca4",
   "metadata": {},
   "outputs": [],
   "source": [
    "price2 = []\n",
    "\n",
    "for i in brand_url2:\n",
    "    driver.get(i)\n",
    "    time.sleep(1)\n",
    "    try:\n",
    "        pc2 = driver.find_element(By.XPATH,'//div[@class=\"gsc_container_hold\"]/span/span[1]')\n",
    "        price2.append(pc2.text.split())\n",
    "    except NoSuchElementException:\n",
    "        price2.append('NaN')"
   ]
  },
  {
   "cell_type": "code",
   "execution_count": 353,
   "id": "3a2bebec",
   "metadata": {},
   "outputs": [],
   "source": [
    "prices2 = []\n",
    "for i in range(len(price2)):\n",
    "    if price2 == 'NaN':\n",
    "        prices2.append('NaN')\n",
    "    elif price2[i] !='NaN':\n",
    "        prices2.append(price2[i][0].replace(',',''))\n",
    "    else:\n",
    "        prices2.append(price2[i][0])"
   ]
  },
  {
   "cell_type": "code",
   "execution_count": 354,
   "id": "3179f06a",
   "metadata": {},
   "outputs": [],
   "source": [
    "Prices2 = []\n",
    "for i in range(len(prices2)):\n",
    "    if prices2[i]!='N':\n",
    "        Prices2.append(prices2[i].split('*'))\n",
    "    else:\n",
    "        Prices2.append('NaN')"
   ]
  },
  {
   "cell_type": "code",
   "execution_count": 360,
   "id": "f1e89045",
   "metadata": {},
   "outputs": [],
   "source": [
    "Prc2 = []\n",
    "for i in range(len(Prices2)):\n",
    "    Prc2.append(Prices2[i][0])"
   ]
  },
  {
   "cell_type": "code",
   "execution_count": 362,
   "id": "d3cb2dc3",
   "metadata": {},
   "outputs": [],
   "source": [
    "Prcs2 = []\n",
    "for i in range(len(Prc2)):\n",
    "    if Prc2[i]=='N':\n",
    "        Prcs2.append(np.nan)\n",
    "    else:\n",
    "        Prcs2.append(eval(Prc2[i]))"
   ]
  },
  {
   "cell_type": "code",
   "execution_count": 364,
   "id": "f164de75",
   "metadata": {},
   "outputs": [
    {
     "data": {
      "text/plain": [
       "1738"
      ]
     },
     "execution_count": 364,
     "metadata": {},
     "output_type": "execute_result"
    }
   ],
   "source": [
    "len(Prcs2)"
   ]
  },
  {
   "cell_type": "code",
   "execution_count": 366,
   "id": "bab085d3",
   "metadata": {},
   "outputs": [
    {
     "data": {
      "text/html": [
       "<div>\n",
       "<style scoped>\n",
       "    .dataframe tbody tr th:only-of-type {\n",
       "        vertical-align: middle;\n",
       "    }\n",
       "\n",
       "    .dataframe tbody tr th {\n",
       "        vertical-align: top;\n",
       "    }\n",
       "\n",
       "    .dataframe thead th {\n",
       "        text-align: right;\n",
       "    }\n",
       "</style>\n",
       "<table border=\"1\" class=\"dataframe\">\n",
       "  <thead>\n",
       "    <tr style=\"text-align: right;\">\n",
       "      <th></th>\n",
       "      <th>Brand</th>\n",
       "      <th>Engine (in cc)</th>\n",
       "      <th>Number of owner</th>\n",
       "      <th>Insurance</th>\n",
       "      <th>Manufacturing year</th>\n",
       "      <th>Driven kilometers</th>\n",
       "      <th>Fuel type</th>\n",
       "      <th>Mileage</th>\n",
       "      <th>Price (in lakhs)</th>\n",
       "    </tr>\n",
       "  </thead>\n",
       "  <tbody>\n",
       "    <tr>\n",
       "      <th>0</th>\n",
       "      <td>NaN</td>\n",
       "      <td>NaN</td>\n",
       "      <td>NaN</td>\n",
       "      <td>NaN</td>\n",
       "      <td>NaN</td>\n",
       "      <td>NaN</td>\n",
       "      <td>NaN</td>\n",
       "      <td>NaN</td>\n",
       "      <td>NaN</td>\n",
       "    </tr>\n",
       "    <tr>\n",
       "      <th>1</th>\n",
       "      <td>NaN</td>\n",
       "      <td>NaN</td>\n",
       "      <td>NaN</td>\n",
       "      <td>NaN</td>\n",
       "      <td>NaN</td>\n",
       "      <td>NaN</td>\n",
       "      <td>NaN</td>\n",
       "      <td>NaN</td>\n",
       "      <td>NaN</td>\n",
       "    </tr>\n",
       "    <tr>\n",
       "      <th>2</th>\n",
       "      <td>NaN</td>\n",
       "      <td>NaN</td>\n",
       "      <td>NaN</td>\n",
       "      <td>NaN</td>\n",
       "      <td>NaN</td>\n",
       "      <td>NaN</td>\n",
       "      <td>NaN</td>\n",
       "      <td>NaN</td>\n",
       "      <td>NaN</td>\n",
       "    </tr>\n",
       "    <tr>\n",
       "      <th>3</th>\n",
       "      <td>NaN</td>\n",
       "      <td>NaN</td>\n",
       "      <td>NaN</td>\n",
       "      <td>NaN</td>\n",
       "      <td>NaN</td>\n",
       "      <td>NaN</td>\n",
       "      <td>NaN</td>\n",
       "      <td>NaN</td>\n",
       "      <td>NaN</td>\n",
       "    </tr>\n",
       "    <tr>\n",
       "      <th>4</th>\n",
       "      <td>NaN</td>\n",
       "      <td>NaN</td>\n",
       "      <td>NaN</td>\n",
       "      <td>NaN</td>\n",
       "      <td>NaN</td>\n",
       "      <td>NaN</td>\n",
       "      <td>NaN</td>\n",
       "      <td>NaN</td>\n",
       "      <td>NaN</td>\n",
       "    </tr>\n",
       "    <tr>\n",
       "      <th>...</th>\n",
       "      <td>...</td>\n",
       "      <td>...</td>\n",
       "      <td>...</td>\n",
       "      <td>...</td>\n",
       "      <td>...</td>\n",
       "      <td>...</td>\n",
       "      <td>...</td>\n",
       "      <td>...</td>\n",
       "      <td>...</td>\n",
       "    </tr>\n",
       "    <tr>\n",
       "      <th>1733</th>\n",
       "      <td>Maruti</td>\n",
       "      <td>796.0</td>\n",
       "      <td>Second Owner</td>\n",
       "      <td>No Insurance</td>\n",
       "      <td>NaN</td>\n",
       "      <td>60000.0</td>\n",
       "      <td>Petrol</td>\n",
       "      <td>19.70</td>\n",
       "      <td>1.80</td>\n",
       "    </tr>\n",
       "    <tr>\n",
       "      <th>1734</th>\n",
       "      <td>Ford</td>\n",
       "      <td>1498.0</td>\n",
       "      <td>First Owner</td>\n",
       "      <td>No Insurance</td>\n",
       "      <td>2016.0</td>\n",
       "      <td>48545.0</td>\n",
       "      <td>Diesel</td>\n",
       "      <td>25.83</td>\n",
       "      <td>5.20</td>\n",
       "    </tr>\n",
       "    <tr>\n",
       "      <th>1735</th>\n",
       "      <td>Hyundai</td>\n",
       "      <td>1495.0</td>\n",
       "      <td>Second Owner</td>\n",
       "      <td>No Insurance</td>\n",
       "      <td>NaN</td>\n",
       "      <td>90000.0</td>\n",
       "      <td>Petrol</td>\n",
       "      <td>13.20</td>\n",
       "      <td>90000.00</td>\n",
       "    </tr>\n",
       "    <tr>\n",
       "      <th>1736</th>\n",
       "      <td>Datsun</td>\n",
       "      <td>799.0</td>\n",
       "      <td>Second Owner</td>\n",
       "      <td>Active</td>\n",
       "      <td>NaN</td>\n",
       "      <td>38000.0</td>\n",
       "      <td>Petrol</td>\n",
       "      <td>22.70</td>\n",
       "      <td>2.57</td>\n",
       "    </tr>\n",
       "    <tr>\n",
       "      <th>1737</th>\n",
       "      <td>Maruti</td>\n",
       "      <td>796.0</td>\n",
       "      <td>First Owner</td>\n",
       "      <td>Active</td>\n",
       "      <td>NaN</td>\n",
       "      <td>60000.0</td>\n",
       "      <td>Petrol</td>\n",
       "      <td>19.70</td>\n",
       "      <td>1.25</td>\n",
       "    </tr>\n",
       "  </tbody>\n",
       "</table>\n",
       "<p>1738 rows × 9 columns</p>\n",
       "</div>"
      ],
      "text/plain": [
       "        Brand  Engine (in cc) Number of owner     Insurance  \\\n",
       "0         NaN             NaN             NaN           NaN   \n",
       "1         NaN             NaN             NaN           NaN   \n",
       "2         NaN             NaN             NaN           NaN   \n",
       "3         NaN             NaN             NaN           NaN   \n",
       "4         NaN             NaN             NaN           NaN   \n",
       "...       ...             ...             ...           ...   \n",
       "1733   Maruti           796.0    Second Owner  No Insurance   \n",
       "1734     Ford          1498.0     First Owner  No Insurance   \n",
       "1735  Hyundai          1495.0    Second Owner  No Insurance   \n",
       "1736   Datsun           799.0    Second Owner        Active   \n",
       "1737   Maruti           796.0     First Owner        Active   \n",
       "\n",
       "      Manufacturing year  Driven kilometers Fuel type  Mileage  \\\n",
       "0                    NaN                NaN       NaN      NaN   \n",
       "1                    NaN                NaN       NaN      NaN   \n",
       "2                    NaN                NaN       NaN      NaN   \n",
       "3                    NaN                NaN       NaN      NaN   \n",
       "4                    NaN                NaN       NaN      NaN   \n",
       "...                  ...                ...       ...      ...   \n",
       "1733                 NaN            60000.0    Petrol    19.70   \n",
       "1734              2016.0            48545.0    Diesel    25.83   \n",
       "1735                 NaN            90000.0    Petrol    13.20   \n",
       "1736                 NaN            38000.0    Petrol    22.70   \n",
       "1737                 NaN            60000.0    Petrol    19.70   \n",
       "\n",
       "      Price (in lakhs)  \n",
       "0                  NaN  \n",
       "1                  NaN  \n",
       "2                  NaN  \n",
       "3                  NaN  \n",
       "4                  NaN  \n",
       "...                ...  \n",
       "1733              1.80  \n",
       "1734              5.20  \n",
       "1735          90000.00  \n",
       "1736              2.57  \n",
       "1737              1.25  \n",
       "\n",
       "[1738 rows x 9 columns]"
      ]
     },
     "execution_count": 366,
     "metadata": {},
     "output_type": "execute_result"
    }
   ],
   "source": [
    "df2 = pd.DataFrame()\n",
    "df2['Brand'] = brands2\n",
    "df2['Engine (in cc)'] = Eng2\n",
    "df2['Number of owner'] = owner2\n",
    "df2['Insurance'] = insurance2\n",
    "df2['Manufacturing year'] = Years2\n",
    "df2['Driven kilometers'] = Kilos2\n",
    "df2['Fuel type'] = fuel2\n",
    "df2['Mileage'] = Mileage2\n",
    "df2['Price (in lakhs)'] = Prcs2\n",
    "df2"
   ]
  },
  {
   "cell_type": "code",
   "execution_count": 368,
   "id": "8fe23faa",
   "metadata": {},
   "outputs": [
    {
     "name": "stdout",
     "output_type": "stream",
     "text": [
      "<class 'pandas.core.frame.DataFrame'>\n",
      "RangeIndex: 1738 entries, 0 to 1737\n",
      "Data columns (total 9 columns):\n",
      " #   Column              Non-Null Count  Dtype  \n",
      "---  ------              --------------  -----  \n",
      " 0   Brand               1566 non-null   object \n",
      " 1   Engine (in cc)      1563 non-null   float64\n",
      " 2   Number of owner     1565 non-null   object \n",
      " 3   Insurance           1565 non-null   object \n",
      " 4   Manufacturing year  1410 non-null   float64\n",
      " 5   Driven kilometers   1563 non-null   float64\n",
      " 6   Fuel type           1561 non-null   object \n",
      " 7   Mileage             1550 non-null   float64\n",
      " 8   Price (in lakhs)    1551 non-null   float64\n",
      "dtypes: float64(5), object(4)\n",
      "memory usage: 122.3+ KB\n"
     ]
    }
   ],
   "source": [
    "df2.info()"
   ]
  },
  {
   "cell_type": "code",
   "execution_count": 369,
   "id": "e2ef507b",
   "metadata": {},
   "outputs": [],
   "source": [
    "df2.to_csv('Bangalore.csv')"
   ]
  },
  {
   "cell_type": "code",
   "execution_count": 373,
   "id": "3e85fbe5",
   "metadata": {},
   "outputs": [],
   "source": [
    "driver.close()"
   ]
  },
  {
   "cell_type": "markdown",
   "id": "aad2f56e",
   "metadata": {},
   "source": [
    "## Details for cars in Mumbai"
   ]
  },
  {
   "cell_type": "code",
   "execution_count": 378,
   "id": "dcda6221",
   "metadata": {},
   "outputs": [],
   "source": [
    "# running webdriver\n",
    "driver = webdriver.Chrome(r'C:\\Users\\HP\\chromedriver_win32\\chromedriver.exe')\n",
    "\n",
    "# getting the url\n",
    "url = 'https://www.cardekho.com/'\n",
    "driver.get(url)\n",
    "driver.maximize_window()"
   ]
  },
  {
   "cell_type": "code",
   "execution_count": 379,
   "id": "b2d29993",
   "metadata": {},
   "outputs": [],
   "source": [
    "search = driver.find_element(By.XPATH,'/html/body/div[2]/div/header/div[1]/div/div/div[2]/div/div/form/div[1]/input')\n",
    "search.send_keys('used cars')"
   ]
  },
  {
   "cell_type": "code",
   "execution_count": 380,
   "id": "c036ed2c",
   "metadata": {},
   "outputs": [],
   "source": [
    "from selenium.webdriver.common.keys import Keys\n",
    "driver.find_element(By.CLASS_NAME,\"searchbtn\").send_keys(Keys.RETURN)"
   ]
  },
  {
   "cell_type": "code",
   "execution_count": 381,
   "id": "b2fad8b9",
   "metadata": {},
   "outputs": [],
   "source": [
    "#Location\n",
    "\n",
    "loc = driver.find_element(By.XPATH,'/html/body/div[2]/div/div[1]/div/div/main/div[1]/div[2]/div/div[1]/div[1]/div[2]/input')\n",
    "loc.click()"
   ]
  },
  {
   "cell_type": "code",
   "execution_count": 382,
   "id": "d3401641",
   "metadata": {},
   "outputs": [],
   "source": [
    "loc1 = driver.find_element(By.XPATH,'/html/body/div[2]/div/div[3]/div[3]/div/div/div[3]/section/div/ul/li[3]/a/span[1]/img')\n",
    "loc1.click()"
   ]
  },
  {
   "cell_type": "code",
   "execution_count": 388,
   "id": "2ca4ab3e",
   "metadata": {},
   "outputs": [],
   "source": [
    "brand_url3 = []\n",
    "brand_urls3 = driver.find_elements(By.XPATH,'//div[@class=\"gsc_col-xs-7  carsName\"]/a')\n",
    "for i in brand_urls3:\n",
    "    time.sleep(2)\n",
    "    brand_url3.append(i.get_attribute('href'))\n",
    "for _ in range(500):\n",
    "    driver.execute_script(\"window.scrollBy(0,100)\")\n",
    "#driver.execute_script(\"window.scrollTo(0,document.body.scrollHeight)\")"
   ]
  },
  {
   "cell_type": "code",
   "execution_count": 394,
   "id": "72a6ec84",
   "metadata": {},
   "outputs": [
    {
     "data": {
      "text/plain": [
       "2905"
      ]
     },
     "execution_count": 394,
     "metadata": {},
     "output_type": "execute_result"
    }
   ],
   "source": [
    "len(brand_url3)"
   ]
  },
  {
   "cell_type": "markdown",
   "id": "4d6d169b",
   "metadata": {},
   "source": [
    "## 1. Brand"
   ]
  },
  {
   "cell_type": "code",
   "execution_count": 395,
   "id": "a3a6eb52",
   "metadata": {},
   "outputs": [],
   "source": [
    "brand3 = []\n",
    "\n",
    "for i in brand_url3:\n",
    "    driver.get(i)\n",
    "    time.sleep(2)\n",
    "    try:\n",
    "        br = driver.find_element(By.XPATH,'//div[@class=\"usedSpecFeatureBoxs \"]/div[1]/span')\n",
    "        brand3.append(br.text.split())\n",
    "    except NoSuchElementException:\n",
    "        brand3.append('NaN')"
   ]
  },
  {
   "cell_type": "code",
   "execution_count": 396,
   "id": "5054c2b2",
   "metadata": {},
   "outputs": [],
   "source": [
    "brands3 = []\n",
    "for i in range(len(brand3)):\n",
    "    if brand3[i]=='NaN':\n",
    "        brands3.append(np.nan)\n",
    "    else:\n",
    "        brands3.append(brand3[i][1])"
   ]
  },
  {
   "cell_type": "code",
   "execution_count": 397,
   "id": "10f9c81c",
   "metadata": {},
   "outputs": [
    {
     "data": {
      "text/plain": [
       "2905"
      ]
     },
     "execution_count": 397,
     "metadata": {},
     "output_type": "execute_result"
    }
   ],
   "source": [
    "len(brands3)"
   ]
  },
  {
   "cell_type": "markdown",
   "id": "c44689e8",
   "metadata": {},
   "source": [
    "## 2. Engine"
   ]
  },
  {
   "cell_type": "code",
   "execution_count": 398,
   "id": "aaf14ba5",
   "metadata": {},
   "outputs": [],
   "source": [
    "engine3 = []\n",
    "\n",
    "for i in brand_url3:\n",
    "    driver.get(i)\n",
    "    time.sleep(1)\n",
    "    try:\n",
    "        en = driver.find_element(By.XPATH,'//div[@class=\"SpecsFeatureList\"]/ul/li[2]/div[2]')\n",
    "        engine3.append(en.text.split())\n",
    "    except NoSuchElementException:\n",
    "        engine3.append('NaN')"
   ]
  },
  {
   "cell_type": "code",
   "execution_count": 402,
   "id": "fe7cae2c",
   "metadata": {},
   "outputs": [],
   "source": [
    "engines3 = []\n",
    "for i in range(len(engine3)):\n",
    "    if engine3[i]=='NaN':\n",
    "        engines3.append('NaN')\n",
    "    else:\n",
    "        engines3.append(engine3[i][0].split('B'))"
   ]
  },
  {
   "cell_type": "code",
   "execution_count": 403,
   "id": "34df99a6",
   "metadata": {},
   "outputs": [],
   "source": [
    "Engines3 = []\n",
    "for i in range(len(engines3)):\n",
    "    if engines3[i] == 'NaN':\n",
    "        Engines3.append('NaN')\n",
    "    else:\n",
    "        Engines3.append(engines3[i][0].split('b'))"
   ]
  },
  {
   "cell_type": "code",
   "execution_count": 404,
   "id": "59e5c91d",
   "metadata": {},
   "outputs": [],
   "source": [
    "Engine3 = []\n",
    "for i in range(len(Engines3)):\n",
    "    if Engines3[i]=='NaN':\n",
    "        Engine3.append('NaN')\n",
    "    else:\n",
    "        Engine3.append(Engines3[i][0])"
   ]
  },
  {
   "cell_type": "code",
   "execution_count": 406,
   "id": "69be237e",
   "metadata": {},
   "outputs": [],
   "source": [
    "Eng3 = []\n",
    "for i in range(len(Engine3)):\n",
    "    if Engine3[i]=='NaN':\n",
    "        Eng3.append('NaN')\n",
    "    else:\n",
    "        Eng3.append(Engine3[i].split('n'))"
   ]
  },
  {
   "cell_type": "code",
   "execution_count": 409,
   "id": "d4ca9a60",
   "metadata": {},
   "outputs": [],
   "source": [
    "Engs3 = []\n",
    "for i in range(len(Eng3)):\n",
    "    if Eng3[i]=='NaN':\n",
    "        Engs3.append(np.nan)\n",
    "    else:\n",
    "        Engs3.append(eval(Eng3[i][0]))"
   ]
  },
  {
   "cell_type": "code",
   "execution_count": 471,
   "id": "fb802a40",
   "metadata": {},
   "outputs": [
    {
     "data": {
      "text/plain": [
       "2905"
      ]
     },
     "execution_count": 471,
     "metadata": {},
     "output_type": "execute_result"
    }
   ],
   "source": [
    "len(Engs3)"
   ]
  },
  {
   "cell_type": "markdown",
   "id": "2591a956",
   "metadata": {},
   "source": [
    "## 3. Number of owner"
   ]
  },
  {
   "cell_type": "code",
   "execution_count": 412,
   "id": "39d4e5f9",
   "metadata": {},
   "outputs": [],
   "source": [
    "owner3 = []\n",
    "\n",
    "for i in brand_url3:\n",
    "    driver.get(i)\n",
    "    time.sleep(1)\n",
    "    try:\n",
    "        own = driver.find_element(By.XPATH,'//div[@class=\"GenDetailBox\"]/ul/li[4]/div/div')\n",
    "        owner3.append(own.text)\n",
    "    except NoSuchElementException:\n",
    "        owner3.append(np.nan)"
   ]
  },
  {
   "cell_type": "code",
   "execution_count": 424,
   "id": "7c4e11d2",
   "metadata": {},
   "outputs": [
    {
     "data": {
      "text/plain": [
       "2905"
      ]
     },
     "execution_count": 424,
     "metadata": {},
     "output_type": "execute_result"
    }
   ],
   "source": [
    "len(owner3)"
   ]
  },
  {
   "cell_type": "markdown",
   "id": "3fc59edf",
   "metadata": {},
   "source": [
    "## 4. Insurance"
   ]
  },
  {
   "cell_type": "code",
   "execution_count": 427,
   "id": "efdca6f3",
   "metadata": {},
   "outputs": [],
   "source": [
    "insurance3 = []\n",
    "\n",
    "for i in brand_url3:\n",
    "    driver.get(i)\n",
    "    time.sleep(1)\n",
    "    try:\n",
    "        ins = driver.find_element(By.XPATH,'//div[@id=\"Overview\"]/div/div/div/ul/li[9]/div/div[2]')\n",
    "        insurance3.append(ins.text)\n",
    "    except NoSuchElementException:\n",
    "        insurance3.append(np.nan)"
   ]
  },
  {
   "cell_type": "code",
   "execution_count": 429,
   "id": "b6230065",
   "metadata": {},
   "outputs": [
    {
     "data": {
      "text/plain": [
       "2905"
      ]
     },
     "execution_count": 429,
     "metadata": {},
     "output_type": "execute_result"
    }
   ],
   "source": [
    "len(insurance3)"
   ]
  },
  {
   "cell_type": "markdown",
   "id": "423d155a",
   "metadata": {},
   "source": [
    "## 5. Manufacturing year"
   ]
  },
  {
   "cell_type": "code",
   "execution_count": 430,
   "id": "b49f780b",
   "metadata": {},
   "outputs": [],
   "source": [
    "year3 = []\n",
    "\n",
    "for i in brand_url3:\n",
    "    driver.get(i)\n",
    "    time.sleep(1)\n",
    "    try:\n",
    "        yr = driver.find_element(By.XPATH,'//div[@class=\"GenDetailBox\"]/ul/li[1]/div/div')\n",
    "        year3.append(yr.text)\n",
    "    except NoSuchElementException:\n",
    "        year3.append('NaN')"
   ]
  },
  {
   "cell_type": "code",
   "execution_count": 432,
   "id": "28ab576e",
   "metadata": {},
   "outputs": [],
   "source": [
    "years3 = []\n",
    "for i in range(len(year3)):\n",
    "    if year3[i]=='N/A':\n",
    "        years3.append('NaN')\n",
    "    elif year3[i]=='NaN':\n",
    "        years3.append('NaN')\n",
    "    else:\n",
    "        years3.append(year3[i])"
   ]
  },
  {
   "cell_type": "code",
   "execution_count": 433,
   "id": "ad3628f6",
   "metadata": {},
   "outputs": [],
   "source": [
    "Years3 = []\n",
    "for i in range(len(years3)):\n",
    "    if years3[i]=='NaN':\n",
    "        Years3.append(np.nan)\n",
    "    else:\n",
    "        Years3.append(eval(years3[i]))"
   ]
  },
  {
   "cell_type": "code",
   "execution_count": 436,
   "id": "7e4d543e",
   "metadata": {},
   "outputs": [
    {
     "data": {
      "text/plain": [
       "2905"
      ]
     },
     "execution_count": 436,
     "metadata": {},
     "output_type": "execute_result"
    }
   ],
   "source": [
    "len(Years3)"
   ]
  },
  {
   "cell_type": "markdown",
   "id": "38f8094d",
   "metadata": {},
   "source": [
    "## 6. Kilometers driven"
   ]
  },
  {
   "cell_type": "code",
   "execution_count": 437,
   "id": "f910a22d",
   "metadata": {},
   "outputs": [],
   "source": [
    "kms3 = []\n",
    "\n",
    "for i in brand_url3:\n",
    "    driver.get(i)\n",
    "    time.sleep(1)\n",
    "    try:\n",
    "        km = driver.find_element(By.XPATH,'//div[@class=\"GenDetailBox\"]/ul/li[3]/div/div')\n",
    "        kms3.append(km.text.split())\n",
    "    except NoSuchElementException:\n",
    "        kms3.append('NaN')"
   ]
  },
  {
   "cell_type": "code",
   "execution_count": 439,
   "id": "269f5d53",
   "metadata": {},
   "outputs": [],
   "source": [
    "Kms3 = []\n",
    "for i in range(len(kms3)):\n",
    "    if kms3[i]=='NaN':\n",
    "        Kms3.append('NaN')\n",
    "    else:\n",
    "        Kms3.append(kms3[i][0])"
   ]
  },
  {
   "cell_type": "code",
   "execution_count": 440,
   "id": "ccfba5e9",
   "metadata": {},
   "outputs": [],
   "source": [
    "Kilo3 = []\n",
    "for i in range(len(Kms3)):\n",
    "    if Kms3[i]=='NaN':\n",
    "        Kilo3.append('NaN')\n",
    "    else:\n",
    "        Kilo3.append(Kms3[i].replace(',',''))"
   ]
  },
  {
   "cell_type": "code",
   "execution_count": 441,
   "id": "acc1ad6a",
   "metadata": {},
   "outputs": [],
   "source": [
    "Kilos3 = []\n",
    "for i in range(len(Kilo3)):\n",
    "    if Kilo3[i]=='NaN':\n",
    "        Kilos3.append(np.nan)\n",
    "    else:\n",
    "        Kilos3.append(eval(Kilo3[i]))"
   ]
  },
  {
   "cell_type": "code",
   "execution_count": 443,
   "id": "acdcd566",
   "metadata": {},
   "outputs": [
    {
     "data": {
      "text/plain": [
       "2905"
      ]
     },
     "execution_count": 443,
     "metadata": {},
     "output_type": "execute_result"
    }
   ],
   "source": [
    "len(Kilos3)"
   ]
  },
  {
   "cell_type": "markdown",
   "id": "69393d6c",
   "metadata": {},
   "source": [
    "## 7. Fuel type"
   ]
  },
  {
   "cell_type": "code",
   "execution_count": 445,
   "id": "ff43e45e",
   "metadata": {},
   "outputs": [],
   "source": [
    "fuel3 = []\n",
    "\n",
    "for i in brand_url3:\n",
    "    driver.get(i)\n",
    "    time.sleep(1)\n",
    "    try:\n",
    "        fl = driver.find_element(By.XPATH,'//div[@class=\"GenDetailBox\"]/ul/li[5]/div/div')\n",
    "        fuel3.append(fl.text)\n",
    "    except NoSuchElementException:\n",
    "        fuel3.append(np.nan)"
   ]
  },
  {
   "cell_type": "code",
   "execution_count": 472,
   "id": "1cd27de8",
   "metadata": {},
   "outputs": [
    {
     "data": {
      "text/plain": [
       "2905"
      ]
     },
     "execution_count": 472,
     "metadata": {},
     "output_type": "execute_result"
    }
   ],
   "source": [
    "len(fuel3)"
   ]
  },
  {
   "cell_type": "markdown",
   "id": "757e09b3",
   "metadata": {},
   "source": [
    "## 8. Mileage"
   ]
  },
  {
   "cell_type": "code",
   "execution_count": 447,
   "id": "2f7a0006",
   "metadata": {},
   "outputs": [],
   "source": [
    "mileage3 = []\n",
    "\n",
    "for i in brand_url3:\n",
    "    driver.get(i)\n",
    "    time.sleep(1)\n",
    "    try:\n",
    "        ml = driver.find_element(By.XPATH,'//div[@class=\"SpecsFeatureList\"]/ul/li[1]/div[2]')\n",
    "        mileage3.append(ml.text.split())\n",
    "    except NoSuchElementException:\n",
    "        mileage3.append('NaN')"
   ]
  },
  {
   "cell_type": "code",
   "execution_count": 452,
   "id": "25dd0dda",
   "metadata": {},
   "outputs": [],
   "source": [
    "milg3 = []\n",
    "\n",
    "for i in range(len(mileage3)):\n",
    "    if mileage3[i]=='NaN':\n",
    "        milg3.append('NaN')\n",
    "    else:\n",
    "        milg3.append(mileage3[i][0].split('b'))"
   ]
  },
  {
   "cell_type": "code",
   "execution_count": 453,
   "id": "c96b0ffe",
   "metadata": {},
   "outputs": [],
   "source": [
    "milgs3 = []\n",
    "\n",
    "for i in range(len(milg3)):\n",
    "    if milg3[i]=='NaN':\n",
    "        milgs3.append('NaN')\n",
    "    else:\n",
    "        milgs3.append(milg3[i][0])"
   ]
  },
  {
   "cell_type": "code",
   "execution_count": 454,
   "id": "dfccaa1e",
   "metadata": {},
   "outputs": [],
   "source": [
    "Mileage3 = []\n",
    "for i in range(len(milgs3)):\n",
    "    if milgs3[i]=='NaN':\n",
    "        Mileage3.append(np.nan)\n",
    "    else:\n",
    "        Mileage3.append(eval(milgs3[i]))"
   ]
  },
  {
   "cell_type": "code",
   "execution_count": 456,
   "id": "779d87e3",
   "metadata": {},
   "outputs": [
    {
     "data": {
      "text/plain": [
       "2905"
      ]
     },
     "execution_count": 456,
     "metadata": {},
     "output_type": "execute_result"
    }
   ],
   "source": [
    "len(Mileage3)"
   ]
  },
  {
   "cell_type": "markdown",
   "id": "2473a282",
   "metadata": {},
   "source": [
    "## 9. Price"
   ]
  },
  {
   "cell_type": "code",
   "execution_count": 457,
   "id": "f518f8a9",
   "metadata": {},
   "outputs": [],
   "source": [
    "price3 = []\n",
    "\n",
    "for i in brand_url3:\n",
    "    driver.get(i)\n",
    "    time.sleep(1)\n",
    "    try:\n",
    "        pc = driver.find_element(By.XPATH,'//div[@class=\"gsc_container_hold\"]/span/span[1]')\n",
    "        price3.append(pc.text.split())\n",
    "    except NoSuchElementException:\n",
    "        price3.append('NaN')"
   ]
  },
  {
   "cell_type": "code",
   "execution_count": 458,
   "id": "8cf3aace",
   "metadata": {},
   "outputs": [],
   "source": [
    "prices3 = []\n",
    "for i in range(len(price3)):\n",
    "    if price3 == 'NaN':\n",
    "        prices3.append('NaN')\n",
    "    elif price3[i] !='NaN':\n",
    "        prices3.append(price3[i][0].replace(',',''))\n",
    "    else:\n",
    "        prices3.append(price3[i][0])"
   ]
  },
  {
   "cell_type": "code",
   "execution_count": 459,
   "id": "7fa3c4b1",
   "metadata": {},
   "outputs": [],
   "source": [
    "Prices3 = []\n",
    "for i in range(len(prices3)):\n",
    "    if prices3[i]!='N':\n",
    "        Prices3.append(prices3[i].split('*'))\n",
    "    else:\n",
    "        Prices3.append('NaN')"
   ]
  },
  {
   "cell_type": "code",
   "execution_count": 460,
   "id": "ddd95614",
   "metadata": {},
   "outputs": [],
   "source": [
    "Prc3 = []\n",
    "for i in range(len(Prices3)):\n",
    "    Prc3.append(Prices3[i][0])"
   ]
  },
  {
   "cell_type": "code",
   "execution_count": 461,
   "id": "561a4ffc",
   "metadata": {},
   "outputs": [],
   "source": [
    "Prcs3 = []\n",
    "for i in range(len(Prc3)):\n",
    "    if Prc3[i]=='N':\n",
    "        Prcs3.append(np.nan)\n",
    "    else:\n",
    "        Prcs3.append(eval(Prc3[i]))"
   ]
  },
  {
   "cell_type": "code",
   "execution_count": 473,
   "id": "07bbad4a",
   "metadata": {},
   "outputs": [
    {
     "data": {
      "text/plain": [
       "2905"
      ]
     },
     "execution_count": 473,
     "metadata": {},
     "output_type": "execute_result"
    }
   ],
   "source": [
    "len(Prcs3)"
   ]
  },
  {
   "cell_type": "code",
   "execution_count": 469,
   "id": "2ea80700",
   "metadata": {},
   "outputs": [
    {
     "data": {
      "text/html": [
       "<div>\n",
       "<style scoped>\n",
       "    .dataframe tbody tr th:only-of-type {\n",
       "        vertical-align: middle;\n",
       "    }\n",
       "\n",
       "    .dataframe tbody tr th {\n",
       "        vertical-align: top;\n",
       "    }\n",
       "\n",
       "    .dataframe thead th {\n",
       "        text-align: right;\n",
       "    }\n",
       "</style>\n",
       "<table border=\"1\" class=\"dataframe\">\n",
       "  <thead>\n",
       "    <tr style=\"text-align: right;\">\n",
       "      <th></th>\n",
       "      <th>Brand</th>\n",
       "      <th>Engine (in cc)</th>\n",
       "      <th>Number of owner</th>\n",
       "      <th>Insurance</th>\n",
       "      <th>Manufacturing year</th>\n",
       "      <th>Driven kilometers</th>\n",
       "      <th>Fuel type</th>\n",
       "      <th>Mileage</th>\n",
       "      <th>Price (in lakhs)</th>\n",
       "    </tr>\n",
       "  </thead>\n",
       "  <tbody>\n",
       "    <tr>\n",
       "      <th>0</th>\n",
       "      <td>NaN</td>\n",
       "      <td>NaN</td>\n",
       "      <td>NaN</td>\n",
       "      <td>Third Party insurance</td>\n",
       "      <td>NaN</td>\n",
       "      <td>NaN</td>\n",
       "      <td>NaN</td>\n",
       "      <td>NaN</td>\n",
       "      <td>NaN</td>\n",
       "    </tr>\n",
       "    <tr>\n",
       "      <th>1</th>\n",
       "      <td>NaN</td>\n",
       "      <td>NaN</td>\n",
       "      <td>NaN</td>\n",
       "      <td>Third Party insurance</td>\n",
       "      <td>NaN</td>\n",
       "      <td>NaN</td>\n",
       "      <td>NaN</td>\n",
       "      <td>NaN</td>\n",
       "      <td>NaN</td>\n",
       "    </tr>\n",
       "    <tr>\n",
       "      <th>2</th>\n",
       "      <td>NaN</td>\n",
       "      <td>NaN</td>\n",
       "      <td>NaN</td>\n",
       "      <td>Third Party insurance</td>\n",
       "      <td>NaN</td>\n",
       "      <td>NaN</td>\n",
       "      <td>NaN</td>\n",
       "      <td>NaN</td>\n",
       "      <td>NaN</td>\n",
       "    </tr>\n",
       "    <tr>\n",
       "      <th>3</th>\n",
       "      <td>NaN</td>\n",
       "      <td>NaN</td>\n",
       "      <td>NaN</td>\n",
       "      <td>Third Party insurance</td>\n",
       "      <td>NaN</td>\n",
       "      <td>NaN</td>\n",
       "      <td>NaN</td>\n",
       "      <td>NaN</td>\n",
       "      <td>NaN</td>\n",
       "    </tr>\n",
       "    <tr>\n",
       "      <th>4</th>\n",
       "      <td>NaN</td>\n",
       "      <td>NaN</td>\n",
       "      <td>NaN</td>\n",
       "      <td>Third Party insurance</td>\n",
       "      <td>NaN</td>\n",
       "      <td>NaN</td>\n",
       "      <td>NaN</td>\n",
       "      <td>NaN</td>\n",
       "      <td>NaN</td>\n",
       "    </tr>\n",
       "    <tr>\n",
       "      <th>...</th>\n",
       "      <td>...</td>\n",
       "      <td>...</td>\n",
       "      <td>...</td>\n",
       "      <td>...</td>\n",
       "      <td>...</td>\n",
       "      <td>...</td>\n",
       "      <td>...</td>\n",
       "      <td>...</td>\n",
       "      <td>...</td>\n",
       "    </tr>\n",
       "    <tr>\n",
       "      <th>2900</th>\n",
       "      <td>Maruti</td>\n",
       "      <td>1248.0</td>\n",
       "      <td>First Owner</td>\n",
       "      <td>NaN</td>\n",
       "      <td>2015.0</td>\n",
       "      <td>57000.0</td>\n",
       "      <td>Diesel</td>\n",
       "      <td>26.21</td>\n",
       "      <td>6.25</td>\n",
       "    </tr>\n",
       "    <tr>\n",
       "      <th>2901</th>\n",
       "      <td>Maruti</td>\n",
       "      <td>993.0</td>\n",
       "      <td>Second Owner</td>\n",
       "      <td>NaN</td>\n",
       "      <td>NaN</td>\n",
       "      <td>50000.0</td>\n",
       "      <td>Petrol</td>\n",
       "      <td>17.30</td>\n",
       "      <td>70000.00</td>\n",
       "    </tr>\n",
       "    <tr>\n",
       "      <th>2902</th>\n",
       "      <td>Maruti</td>\n",
       "      <td>1197.0</td>\n",
       "      <td>First Owner</td>\n",
       "      <td>NaN</td>\n",
       "      <td>2019.0</td>\n",
       "      <td>3972.0</td>\n",
       "      <td>Petrol</td>\n",
       "      <td>21.01</td>\n",
       "      <td>8.00</td>\n",
       "    </tr>\n",
       "    <tr>\n",
       "      <th>2903</th>\n",
       "      <td>Maruti</td>\n",
       "      <td>1197.0</td>\n",
       "      <td>First Owner</td>\n",
       "      <td>NaN</td>\n",
       "      <td>2019.0</td>\n",
       "      <td>6441.0</td>\n",
       "      <td>Petrol</td>\n",
       "      <td>19.56</td>\n",
       "      <td>8.40</td>\n",
       "    </tr>\n",
       "    <tr>\n",
       "      <th>2904</th>\n",
       "      <td>Tata</td>\n",
       "      <td>1199.0</td>\n",
       "      <td>First Owner</td>\n",
       "      <td>NaN</td>\n",
       "      <td>2020.0</td>\n",
       "      <td>12524.0</td>\n",
       "      <td>Petrol</td>\n",
       "      <td>23.84</td>\n",
       "      <td>7.30</td>\n",
       "    </tr>\n",
       "  </tbody>\n",
       "</table>\n",
       "<p>2905 rows × 9 columns</p>\n",
       "</div>"
      ],
      "text/plain": [
       "       Brand  Engine (in cc) Number of owner              Insurance  \\\n",
       "0        NaN             NaN             NaN  Third Party insurance   \n",
       "1        NaN             NaN             NaN  Third Party insurance   \n",
       "2        NaN             NaN             NaN  Third Party insurance   \n",
       "3        NaN             NaN             NaN  Third Party insurance   \n",
       "4        NaN             NaN             NaN  Third Party insurance   \n",
       "...      ...             ...             ...                    ...   \n",
       "2900  Maruti          1248.0     First Owner                    NaN   \n",
       "2901  Maruti           993.0    Second Owner                    NaN   \n",
       "2902  Maruti          1197.0     First Owner                    NaN   \n",
       "2903  Maruti          1197.0     First Owner                    NaN   \n",
       "2904    Tata          1199.0     First Owner                    NaN   \n",
       "\n",
       "      Manufacturing year  Driven kilometers Fuel type  Mileage  \\\n",
       "0                    NaN                NaN       NaN      NaN   \n",
       "1                    NaN                NaN       NaN      NaN   \n",
       "2                    NaN                NaN       NaN      NaN   \n",
       "3                    NaN                NaN       NaN      NaN   \n",
       "4                    NaN                NaN       NaN      NaN   \n",
       "...                  ...                ...       ...      ...   \n",
       "2900              2015.0            57000.0    Diesel    26.21   \n",
       "2901                 NaN            50000.0    Petrol    17.30   \n",
       "2902              2019.0             3972.0    Petrol    21.01   \n",
       "2903              2019.0             6441.0    Petrol    19.56   \n",
       "2904              2020.0            12524.0    Petrol    23.84   \n",
       "\n",
       "      Price (in lakhs)  \n",
       "0                  NaN  \n",
       "1                  NaN  \n",
       "2                  NaN  \n",
       "3                  NaN  \n",
       "4                  NaN  \n",
       "...                ...  \n",
       "2900              6.25  \n",
       "2901          70000.00  \n",
       "2902              8.00  \n",
       "2903              8.40  \n",
       "2904              7.30  \n",
       "\n",
       "[2905 rows x 9 columns]"
      ]
     },
     "execution_count": 469,
     "metadata": {},
     "output_type": "execute_result"
    }
   ],
   "source": [
    "df3 = pd.DataFrame()\n",
    "df3['Brand'] = brands3\n",
    "df3['Engine (in cc)'] = Engs3\n",
    "df3['Number of owner'] = owner3\n",
    "df3['Insurance'] = insurance3\n",
    "df3['Manufacturing year'] = Years3\n",
    "df3['Driven kilometers'] = Kilos3\n",
    "df3['Fuel type'] = fuel3\n",
    "df3['Mileage'] = Mileage3\n",
    "df3['Price (in lakhs)'] = Prcs3\n",
    "df3"
   ]
  },
  {
   "cell_type": "code",
   "execution_count": 470,
   "id": "5e6b9723",
   "metadata": {},
   "outputs": [
    {
     "name": "stdout",
     "output_type": "stream",
     "text": [
      "<class 'pandas.core.frame.DataFrame'>\n",
      "RangeIndex: 2905 entries, 0 to 2904\n",
      "Data columns (total 9 columns):\n",
      " #   Column              Non-Null Count  Dtype  \n",
      "---  ------              --------------  -----  \n",
      " 0   Brand               2525 non-null   object \n",
      " 1   Engine (in cc)      2602 non-null   float64\n",
      " 2   Number of owner     2547 non-null   object \n",
      " 3   Insurance           271 non-null    object \n",
      " 4   Manufacturing year  1534 non-null   float64\n",
      " 5   Driven kilometers   1793 non-null   float64\n",
      " 6   Fuel type           2505 non-null   object \n",
      " 7   Mileage             2482 non-null   float64\n",
      " 8   Price (in lakhs)    2474 non-null   float64\n",
      "dtypes: float64(5), object(4)\n",
      "memory usage: 204.4+ KB\n"
     ]
    }
   ],
   "source": [
    "df3.info()"
   ]
  },
  {
   "cell_type": "code",
   "execution_count": 474,
   "id": "6f850c43",
   "metadata": {},
   "outputs": [],
   "source": [
    "df3.to_csv('Mumbai.csv')"
   ]
  },
  {
   "cell_type": "code",
   "execution_count": null,
   "id": "018282b9",
   "metadata": {},
   "outputs": [],
   "source": [
    "driver.close()"
   ]
  },
  {
   "cell_type": "markdown",
   "id": "3a5c6e60",
   "metadata": {},
   "source": [
    "#### It would be wise to save to csv file for each location before proceeding to scrape data for the next location because in case the kernel is dead, we would not have to wait hours and hours again."
   ]
  },
  {
   "cell_type": "code",
   "execution_count": 476,
   "id": "a0ba591e",
   "metadata": {},
   "outputs": [],
   "source": [
    "data1 = pd.read_csv('Ahmedabad.csv')\n",
    "data2 = pd.read_csv('Bangalore.csv')\n",
    "data3 = pd.read_csv('Mumbai.csv')"
   ]
  },
  {
   "cell_type": "code",
   "execution_count": 478,
   "id": "81cecf28",
   "metadata": {},
   "outputs": [
    {
     "data": {
      "text/html": [
       "<div>\n",
       "<style scoped>\n",
       "    .dataframe tbody tr th:only-of-type {\n",
       "        vertical-align: middle;\n",
       "    }\n",
       "\n",
       "    .dataframe tbody tr th {\n",
       "        vertical-align: top;\n",
       "    }\n",
       "\n",
       "    .dataframe thead th {\n",
       "        text-align: right;\n",
       "    }\n",
       "</style>\n",
       "<table border=\"1\" class=\"dataframe\">\n",
       "  <thead>\n",
       "    <tr style=\"text-align: right;\">\n",
       "      <th></th>\n",
       "      <th>Unnamed: 0</th>\n",
       "      <th>Brand</th>\n",
       "      <th>Engine (in cc)</th>\n",
       "      <th>Number of owner</th>\n",
       "      <th>Insurance</th>\n",
       "      <th>Manufacturing year</th>\n",
       "      <th>Driven kilometers</th>\n",
       "      <th>Fuel type</th>\n",
       "      <th>Mileage</th>\n",
       "      <th>Price (in lakhs)</th>\n",
       "    </tr>\n",
       "  </thead>\n",
       "  <tbody>\n",
       "    <tr>\n",
       "      <th>0</th>\n",
       "      <td>0</td>\n",
       "      <td>NaN</td>\n",
       "      <td>NaN</td>\n",
       "      <td>NaN</td>\n",
       "      <td>NaN</td>\n",
       "      <td>NaN</td>\n",
       "      <td>NaN</td>\n",
       "      <td>NaN</td>\n",
       "      <td>NaN</td>\n",
       "      <td>NaN</td>\n",
       "    </tr>\n",
       "    <tr>\n",
       "      <th>1</th>\n",
       "      <td>1</td>\n",
       "      <td>NaN</td>\n",
       "      <td>NaN</td>\n",
       "      <td>NaN</td>\n",
       "      <td>NaN</td>\n",
       "      <td>NaN</td>\n",
       "      <td>NaN</td>\n",
       "      <td>NaN</td>\n",
       "      <td>NaN</td>\n",
       "      <td>NaN</td>\n",
       "    </tr>\n",
       "    <tr>\n",
       "      <th>2</th>\n",
       "      <td>2</td>\n",
       "      <td>NaN</td>\n",
       "      <td>NaN</td>\n",
       "      <td>NaN</td>\n",
       "      <td>NaN</td>\n",
       "      <td>NaN</td>\n",
       "      <td>NaN</td>\n",
       "      <td>NaN</td>\n",
       "      <td>NaN</td>\n",
       "      <td>NaN</td>\n",
       "    </tr>\n",
       "    <tr>\n",
       "      <th>3</th>\n",
       "      <td>3</td>\n",
       "      <td>NaN</td>\n",
       "      <td>NaN</td>\n",
       "      <td>NaN</td>\n",
       "      <td>NaN</td>\n",
       "      <td>NaN</td>\n",
       "      <td>NaN</td>\n",
       "      <td>NaN</td>\n",
       "      <td>NaN</td>\n",
       "      <td>NaN</td>\n",
       "    </tr>\n",
       "    <tr>\n",
       "      <th>4</th>\n",
       "      <td>4</td>\n",
       "      <td>NaN</td>\n",
       "      <td>NaN</td>\n",
       "      <td>NaN</td>\n",
       "      <td>NaN</td>\n",
       "      <td>NaN</td>\n",
       "      <td>NaN</td>\n",
       "      <td>NaN</td>\n",
       "      <td>NaN</td>\n",
       "      <td>NaN</td>\n",
       "    </tr>\n",
       "    <tr>\n",
       "      <th>...</th>\n",
       "      <td>...</td>\n",
       "      <td>...</td>\n",
       "      <td>...</td>\n",
       "      <td>...</td>\n",
       "      <td>...</td>\n",
       "      <td>...</td>\n",
       "      <td>...</td>\n",
       "      <td>...</td>\n",
       "      <td>...</td>\n",
       "      <td>...</td>\n",
       "    </tr>\n",
       "    <tr>\n",
       "      <th>2900</th>\n",
       "      <td>2900</td>\n",
       "      <td>Maruti</td>\n",
       "      <td>1248.0</td>\n",
       "      <td>First Owner</td>\n",
       "      <td>NaN</td>\n",
       "      <td>2015.0</td>\n",
       "      <td>57000.0</td>\n",
       "      <td>Diesel</td>\n",
       "      <td>26.21</td>\n",
       "      <td>6.25</td>\n",
       "    </tr>\n",
       "    <tr>\n",
       "      <th>2901</th>\n",
       "      <td>2901</td>\n",
       "      <td>Maruti</td>\n",
       "      <td>993.0</td>\n",
       "      <td>Second Owner</td>\n",
       "      <td>NaN</td>\n",
       "      <td>NaN</td>\n",
       "      <td>50000.0</td>\n",
       "      <td>Petrol</td>\n",
       "      <td>17.30</td>\n",
       "      <td>70000.00</td>\n",
       "    </tr>\n",
       "    <tr>\n",
       "      <th>2902</th>\n",
       "      <td>2902</td>\n",
       "      <td>Maruti</td>\n",
       "      <td>1197.0</td>\n",
       "      <td>First Owner</td>\n",
       "      <td>NaN</td>\n",
       "      <td>2019.0</td>\n",
       "      <td>3972.0</td>\n",
       "      <td>Petrol</td>\n",
       "      <td>21.01</td>\n",
       "      <td>8.00</td>\n",
       "    </tr>\n",
       "    <tr>\n",
       "      <th>2903</th>\n",
       "      <td>2903</td>\n",
       "      <td>Maruti</td>\n",
       "      <td>1197.0</td>\n",
       "      <td>First Owner</td>\n",
       "      <td>NaN</td>\n",
       "      <td>2019.0</td>\n",
       "      <td>6441.0</td>\n",
       "      <td>Petrol</td>\n",
       "      <td>19.56</td>\n",
       "      <td>8.40</td>\n",
       "    </tr>\n",
       "    <tr>\n",
       "      <th>2904</th>\n",
       "      <td>2904</td>\n",
       "      <td>Tata</td>\n",
       "      <td>1199.0</td>\n",
       "      <td>First Owner</td>\n",
       "      <td>NaN</td>\n",
       "      <td>2020.0</td>\n",
       "      <td>12524.0</td>\n",
       "      <td>Petrol</td>\n",
       "      <td>23.84</td>\n",
       "      <td>7.30</td>\n",
       "    </tr>\n",
       "  </tbody>\n",
       "</table>\n",
       "<p>5511 rows × 10 columns</p>\n",
       "</div>"
      ],
      "text/plain": [
       "      Unnamed: 0   Brand  Engine (in cc) Number of owner Insurance  \\\n",
       "0              0     NaN             NaN             NaN       NaN   \n",
       "1              1     NaN             NaN             NaN       NaN   \n",
       "2              2     NaN             NaN             NaN       NaN   \n",
       "3              3     NaN             NaN             NaN       NaN   \n",
       "4              4     NaN             NaN             NaN       NaN   \n",
       "...          ...     ...             ...             ...       ...   \n",
       "2900        2900  Maruti          1248.0     First Owner       NaN   \n",
       "2901        2901  Maruti           993.0    Second Owner       NaN   \n",
       "2902        2902  Maruti          1197.0     First Owner       NaN   \n",
       "2903        2903  Maruti          1197.0     First Owner       NaN   \n",
       "2904        2904    Tata          1199.0     First Owner       NaN   \n",
       "\n",
       "      Manufacturing year  Driven kilometers Fuel type  Mileage  \\\n",
       "0                    NaN                NaN       NaN      NaN   \n",
       "1                    NaN                NaN       NaN      NaN   \n",
       "2                    NaN                NaN       NaN      NaN   \n",
       "3                    NaN                NaN       NaN      NaN   \n",
       "4                    NaN                NaN       NaN      NaN   \n",
       "...                  ...                ...       ...      ...   \n",
       "2900              2015.0            57000.0    Diesel    26.21   \n",
       "2901                 NaN            50000.0    Petrol    17.30   \n",
       "2902              2019.0             3972.0    Petrol    21.01   \n",
       "2903              2019.0             6441.0    Petrol    19.56   \n",
       "2904              2020.0            12524.0    Petrol    23.84   \n",
       "\n",
       "      Price (in lakhs)  \n",
       "0                  NaN  \n",
       "1                  NaN  \n",
       "2                  NaN  \n",
       "3                  NaN  \n",
       "4                  NaN  \n",
       "...                ...  \n",
       "2900              6.25  \n",
       "2901          70000.00  \n",
       "2902              8.00  \n",
       "2903              8.40  \n",
       "2904              7.30  \n",
       "\n",
       "[5511 rows x 10 columns]"
      ]
     },
     "execution_count": 478,
     "metadata": {},
     "output_type": "execute_result"
    }
   ],
   "source": [
    "df = pd.concat([data1,data2,data3])\n",
    "df"
   ]
  },
  {
   "cell_type": "code",
   "execution_count": 481,
   "id": "726b9183",
   "metadata": {},
   "outputs": [],
   "source": [
    "df.to_csv('Car_prices_prediction.csv')"
   ]
  },
  {
   "cell_type": "code",
   "execution_count": null,
   "id": "017b6bfe",
   "metadata": {},
   "outputs": [],
   "source": []
  }
 ],
 "metadata": {
  "kernelspec": {
   "display_name": "Python 3 (ipykernel)",
   "language": "python",
   "name": "python3"
  },
  "language_info": {
   "codemirror_mode": {
    "name": "ipython",
    "version": 3
   },
   "file_extension": ".py",
   "mimetype": "text/x-python",
   "name": "python",
   "nbconvert_exporter": "python",
   "pygments_lexer": "ipython3",
   "version": "3.9.7"
  }
 },
 "nbformat": 4,
 "nbformat_minor": 5
}
