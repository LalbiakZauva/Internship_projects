{
 "cells": [
  {
   "cell_type": "markdown",
   "id": "eb265760",
   "metadata": {},
   "source": [
    "## Importing necessary libraries"
   ]
  },
  {
   "cell_type": "code",
   "execution_count": 1,
   "id": "d9464aa4",
   "metadata": {},
   "outputs": [],
   "source": [
    "import numpy as np\n",
    "import pandas as pd\n",
    "import seaborn as sns\n",
    "import matplotlib.pyplot as plt\n",
    "\n",
    "import warnings\n",
    "warnings.filterwarnings('ignore')"
   ]
  },
  {
   "cell_type": "code",
   "execution_count": 2,
   "id": "a44491cb",
   "metadata": {},
   "outputs": [
    {
     "data": {
      "text/html": [
       "<div>\n",
       "<style scoped>\n",
       "    .dataframe tbody tr th:only-of-type {\n",
       "        vertical-align: middle;\n",
       "    }\n",
       "\n",
       "    .dataframe tbody tr th {\n",
       "        vertical-align: top;\n",
       "    }\n",
       "\n",
       "    .dataframe thead th {\n",
       "        text-align: right;\n",
       "    }\n",
       "</style>\n",
       "<table border=\"1\" class=\"dataframe\">\n",
       "  <thead>\n",
       "    <tr style=\"text-align: right;\">\n",
       "      <th></th>\n",
       "      <th>Unnamed: 0</th>\n",
       "      <th>Unnamed: 0.1</th>\n",
       "      <th>Brand</th>\n",
       "      <th>Engine (in cc)</th>\n",
       "      <th>Number of owner</th>\n",
       "      <th>Insurance</th>\n",
       "      <th>Manufacturing year</th>\n",
       "      <th>Driven kilometers</th>\n",
       "      <th>Fuel type</th>\n",
       "      <th>Mileage</th>\n",
       "      <th>Price (in lakhs)</th>\n",
       "    </tr>\n",
       "  </thead>\n",
       "  <tbody>\n",
       "    <tr>\n",
       "      <th>5506</th>\n",
       "      <td>2900</td>\n",
       "      <td>2900</td>\n",
       "      <td>Maruti</td>\n",
       "      <td>1248.0</td>\n",
       "      <td>First Owner</td>\n",
       "      <td>NaN</td>\n",
       "      <td>2015.0</td>\n",
       "      <td>57000.0</td>\n",
       "      <td>Diesel</td>\n",
       "      <td>26.21</td>\n",
       "      <td>6.25</td>\n",
       "    </tr>\n",
       "    <tr>\n",
       "      <th>5507</th>\n",
       "      <td>2901</td>\n",
       "      <td>2901</td>\n",
       "      <td>Maruti</td>\n",
       "      <td>993.0</td>\n",
       "      <td>Second Owner</td>\n",
       "      <td>NaN</td>\n",
       "      <td>NaN</td>\n",
       "      <td>50000.0</td>\n",
       "      <td>Petrol</td>\n",
       "      <td>17.30</td>\n",
       "      <td>70000.00</td>\n",
       "    </tr>\n",
       "    <tr>\n",
       "      <th>5508</th>\n",
       "      <td>2902</td>\n",
       "      <td>2902</td>\n",
       "      <td>Maruti</td>\n",
       "      <td>1197.0</td>\n",
       "      <td>First Owner</td>\n",
       "      <td>NaN</td>\n",
       "      <td>2019.0</td>\n",
       "      <td>3972.0</td>\n",
       "      <td>Petrol</td>\n",
       "      <td>21.01</td>\n",
       "      <td>8.00</td>\n",
       "    </tr>\n",
       "    <tr>\n",
       "      <th>5509</th>\n",
       "      <td>2903</td>\n",
       "      <td>2903</td>\n",
       "      <td>Maruti</td>\n",
       "      <td>1197.0</td>\n",
       "      <td>First Owner</td>\n",
       "      <td>NaN</td>\n",
       "      <td>2019.0</td>\n",
       "      <td>6441.0</td>\n",
       "      <td>Petrol</td>\n",
       "      <td>19.56</td>\n",
       "      <td>8.40</td>\n",
       "    </tr>\n",
       "    <tr>\n",
       "      <th>5510</th>\n",
       "      <td>2904</td>\n",
       "      <td>2904</td>\n",
       "      <td>Tata</td>\n",
       "      <td>1199.0</td>\n",
       "      <td>First Owner</td>\n",
       "      <td>NaN</td>\n",
       "      <td>2020.0</td>\n",
       "      <td>12524.0</td>\n",
       "      <td>Petrol</td>\n",
       "      <td>23.84</td>\n",
       "      <td>7.30</td>\n",
       "    </tr>\n",
       "  </tbody>\n",
       "</table>\n",
       "</div>"
      ],
      "text/plain": [
       "      Unnamed: 0  Unnamed: 0.1   Brand  Engine (in cc) Number of owner  \\\n",
       "5506        2900          2900  Maruti          1248.0     First Owner   \n",
       "5507        2901          2901  Maruti           993.0    Second Owner   \n",
       "5508        2902          2902  Maruti          1197.0     First Owner   \n",
       "5509        2903          2903  Maruti          1197.0     First Owner   \n",
       "5510        2904          2904    Tata          1199.0     First Owner   \n",
       "\n",
       "     Insurance  Manufacturing year  Driven kilometers Fuel type  Mileage  \\\n",
       "5506       NaN              2015.0            57000.0    Diesel    26.21   \n",
       "5507       NaN                 NaN            50000.0    Petrol    17.30   \n",
       "5508       NaN              2019.0             3972.0    Petrol    21.01   \n",
       "5509       NaN              2019.0             6441.0    Petrol    19.56   \n",
       "5510       NaN              2020.0            12524.0    Petrol    23.84   \n",
       "\n",
       "      Price (in lakhs)  \n",
       "5506              6.25  \n",
       "5507          70000.00  \n",
       "5508              8.00  \n",
       "5509              8.40  \n",
       "5510              7.30  "
      ]
     },
     "execution_count": 2,
     "metadata": {},
     "output_type": "execute_result"
    }
   ],
   "source": [
    "df = pd.read_csv('Car_prices_prediction.csv', index_col = False)\n",
    "df.tail()"
   ]
  },
  {
   "cell_type": "markdown",
   "id": "535d8e51",
   "metadata": {},
   "source": [
    "## Dropping unrelevant columns"
   ]
  },
  {
   "cell_type": "code",
   "execution_count": 3,
   "id": "b240902f",
   "metadata": {},
   "outputs": [],
   "source": [
    "df = df.drop(columns = ['Unnamed: 0', 'Unnamed: 0.1'], axis = 1)"
   ]
  },
  {
   "cell_type": "code",
   "execution_count": 4,
   "id": "68ec747c",
   "metadata": {},
   "outputs": [
    {
     "data": {
      "text/plain": [
       "(5511, 9)"
      ]
     },
     "execution_count": 4,
     "metadata": {},
     "output_type": "execute_result"
    }
   ],
   "source": [
    "df.shape"
   ]
  },
  {
   "cell_type": "markdown",
   "id": "448861dc",
   "metadata": {},
   "source": [
    "## Checking the data types of each column"
   ]
  },
  {
   "cell_type": "code",
   "execution_count": 5,
   "id": "27d55bcc",
   "metadata": {},
   "outputs": [
    {
     "name": "stdout",
     "output_type": "stream",
     "text": [
      "<class 'pandas.core.frame.DataFrame'>\n",
      "RangeIndex: 5511 entries, 0 to 5510\n",
      "Data columns (total 9 columns):\n",
      " #   Column              Non-Null Count  Dtype  \n",
      "---  ------              --------------  -----  \n",
      " 0   Brand               4867 non-null   object \n",
      " 1   Engine (in cc)      4925 non-null   float64\n",
      " 2   Number of owner     4887 non-null   object \n",
      " 3   Insurance           2611 non-null   object \n",
      " 4   Manufacturing year  3633 non-null   float64\n",
      " 5   Driven kilometers   4131 non-null   float64\n",
      " 6   Fuel type           4838 non-null   object \n",
      " 7   Mileage             4804 non-null   float64\n",
      " 8   Price (in lakhs)    4786 non-null   float64\n",
      "dtypes: float64(5), object(4)\n",
      "memory usage: 387.6+ KB\n"
     ]
    }
   ],
   "source": [
    "df.info()"
   ]
  },
  {
   "cell_type": "code",
   "execution_count": 6,
   "id": "75b9536d",
   "metadata": {},
   "outputs": [
    {
     "data": {
      "text/html": [
       "<div>\n",
       "<style scoped>\n",
       "    .dataframe tbody tr th:only-of-type {\n",
       "        vertical-align: middle;\n",
       "    }\n",
       "\n",
       "    .dataframe tbody tr th {\n",
       "        vertical-align: top;\n",
       "    }\n",
       "\n",
       "    .dataframe thead th {\n",
       "        text-align: right;\n",
       "    }\n",
       "</style>\n",
       "<table border=\"1\" class=\"dataframe\">\n",
       "  <thead>\n",
       "    <tr style=\"text-align: right;\">\n",
       "      <th></th>\n",
       "      <th>Engine (in cc)</th>\n",
       "      <th>Manufacturing year</th>\n",
       "      <th>Driven kilometers</th>\n",
       "      <th>Mileage</th>\n",
       "      <th>Price (in lakhs)</th>\n",
       "    </tr>\n",
       "  </thead>\n",
       "  <tbody>\n",
       "    <tr>\n",
       "      <th>count</th>\n",
       "      <td>4925.000000</td>\n",
       "      <td>3633.000000</td>\n",
       "      <td>4131.000000</td>\n",
       "      <td>4804.000000</td>\n",
       "      <td>4786.00000</td>\n",
       "    </tr>\n",
       "    <tr>\n",
       "      <th>mean</th>\n",
       "      <td>1549.395472</td>\n",
       "      <td>2015.732177</td>\n",
       "      <td>53440.160736</td>\n",
       "      <td>63.829407</td>\n",
       "      <td>719.01099</td>\n",
       "    </tr>\n",
       "    <tr>\n",
       "      <th>std</th>\n",
       "      <td>591.536488</td>\n",
       "      <td>3.394995</td>\n",
       "      <td>33658.759773</td>\n",
       "      <td>303.166589</td>\n",
       "      <td>7170.69288</td>\n",
       "    </tr>\n",
       "    <tr>\n",
       "      <th>min</th>\n",
       "      <td>0.000000</td>\n",
       "      <td>2003.000000</td>\n",
       "      <td>111.000000</td>\n",
       "      <td>0.000000</td>\n",
       "      <td>1.00000</td>\n",
       "    </tr>\n",
       "    <tr>\n",
       "      <th>25%</th>\n",
       "      <td>1197.000000</td>\n",
       "      <td>2013.000000</td>\n",
       "      <td>29698.000000</td>\n",
       "      <td>15.800000</td>\n",
       "      <td>4.45000</td>\n",
       "    </tr>\n",
       "    <tr>\n",
       "      <th>50%</th>\n",
       "      <td>1462.000000</td>\n",
       "      <td>2016.000000</td>\n",
       "      <td>50000.000000</td>\n",
       "      <td>17.900000</td>\n",
       "      <td>7.10500</td>\n",
       "    </tr>\n",
       "    <tr>\n",
       "      <th>75%</th>\n",
       "      <td>1956.000000</td>\n",
       "      <td>2018.000000</td>\n",
       "      <td>72000.000000</td>\n",
       "      <td>20.510000</td>\n",
       "      <td>13.00000</td>\n",
       "    </tr>\n",
       "    <tr>\n",
       "      <th>max</th>\n",
       "      <td>5998.000000</td>\n",
       "      <td>2022.000000</td>\n",
       "      <td>575000.000000</td>\n",
       "      <td>3982.000000</td>\n",
       "      <td>99000.00000</td>\n",
       "    </tr>\n",
       "  </tbody>\n",
       "</table>\n",
       "</div>"
      ],
      "text/plain": [
       "       Engine (in cc)  Manufacturing year  Driven kilometers      Mileage  \\\n",
       "count     4925.000000         3633.000000        4131.000000  4804.000000   \n",
       "mean      1549.395472         2015.732177       53440.160736    63.829407   \n",
       "std        591.536488            3.394995       33658.759773   303.166589   \n",
       "min          0.000000         2003.000000         111.000000     0.000000   \n",
       "25%       1197.000000         2013.000000       29698.000000    15.800000   \n",
       "50%       1462.000000         2016.000000       50000.000000    17.900000   \n",
       "75%       1956.000000         2018.000000       72000.000000    20.510000   \n",
       "max       5998.000000         2022.000000      575000.000000  3982.000000   \n",
       "\n",
       "       Price (in lakhs)  \n",
       "count        4786.00000  \n",
       "mean          719.01099  \n",
       "std          7170.69288  \n",
       "min             1.00000  \n",
       "25%             4.45000  \n",
       "50%             7.10500  \n",
       "75%            13.00000  \n",
       "max         99000.00000  "
      ]
     },
     "execution_count": 6,
     "metadata": {},
     "output_type": "execute_result"
    }
   ],
   "source": [
    "df.describe()"
   ]
  },
  {
   "cell_type": "markdown",
   "id": "ce7e586c",
   "metadata": {},
   "source": [
    "## Checking the number of null values for each column"
   ]
  },
  {
   "cell_type": "code",
   "execution_count": 7,
   "id": "73b40765",
   "metadata": {},
   "outputs": [
    {
     "data": {
      "text/plain": [
       "Brand                  644\n",
       "Engine (in cc)         586\n",
       "Number of owner        624\n",
       "Insurance             2900\n",
       "Manufacturing year    1878\n",
       "Driven kilometers     1380\n",
       "Fuel type              673\n",
       "Mileage                707\n",
       "Price (in lakhs)       725\n",
       "dtype: int64"
      ]
     },
     "execution_count": 7,
     "metadata": {},
     "output_type": "execute_result"
    }
   ],
   "source": [
    "df.isna().sum()"
   ]
  },
  {
   "cell_type": "markdown",
   "id": "b346b389",
   "metadata": {},
   "source": [
    "#### Since i am collecting the data, i have a pre-acquired knowledge that there are rows which are null for all the columns. So, i know that i can safely remove them."
   ]
  },
  {
   "cell_type": "code",
   "execution_count": 8,
   "id": "eb01e8c8",
   "metadata": {},
   "outputs": [
    {
     "data": {
      "text/html": [
       "<div>\n",
       "<style scoped>\n",
       "    .dataframe tbody tr th:only-of-type {\n",
       "        vertical-align: middle;\n",
       "    }\n",
       "\n",
       "    .dataframe tbody tr th {\n",
       "        vertical-align: top;\n",
       "    }\n",
       "\n",
       "    .dataframe thead th {\n",
       "        text-align: right;\n",
       "    }\n",
       "</style>\n",
       "<table border=\"1\" class=\"dataframe\">\n",
       "  <thead>\n",
       "    <tr style=\"text-align: right;\">\n",
       "      <th></th>\n",
       "      <th>Brand</th>\n",
       "      <th>Engine (in cc)</th>\n",
       "      <th>Number of owner</th>\n",
       "      <th>Insurance</th>\n",
       "      <th>Manufacturing year</th>\n",
       "      <th>Driven kilometers</th>\n",
       "      <th>Fuel type</th>\n",
       "      <th>Mileage</th>\n",
       "      <th>Price (in lakhs)</th>\n",
       "    </tr>\n",
       "  </thead>\n",
       "  <tbody>\n",
       "    <tr>\n",
       "      <th>0</th>\n",
       "      <td>NaN</td>\n",
       "      <td>NaN</td>\n",
       "      <td>NaN</td>\n",
       "      <td>NaN</td>\n",
       "      <td>NaN</td>\n",
       "      <td>NaN</td>\n",
       "      <td>NaN</td>\n",
       "      <td>NaN</td>\n",
       "      <td>NaN</td>\n",
       "    </tr>\n",
       "    <tr>\n",
       "      <th>1</th>\n",
       "      <td>NaN</td>\n",
       "      <td>NaN</td>\n",
       "      <td>NaN</td>\n",
       "      <td>NaN</td>\n",
       "      <td>NaN</td>\n",
       "      <td>NaN</td>\n",
       "      <td>NaN</td>\n",
       "      <td>NaN</td>\n",
       "      <td>NaN</td>\n",
       "    </tr>\n",
       "    <tr>\n",
       "      <th>2</th>\n",
       "      <td>NaN</td>\n",
       "      <td>NaN</td>\n",
       "      <td>NaN</td>\n",
       "      <td>NaN</td>\n",
       "      <td>NaN</td>\n",
       "      <td>NaN</td>\n",
       "      <td>NaN</td>\n",
       "      <td>NaN</td>\n",
       "      <td>NaN</td>\n",
       "    </tr>\n",
       "    <tr>\n",
       "      <th>3</th>\n",
       "      <td>NaN</td>\n",
       "      <td>NaN</td>\n",
       "      <td>NaN</td>\n",
       "      <td>NaN</td>\n",
       "      <td>NaN</td>\n",
       "      <td>NaN</td>\n",
       "      <td>NaN</td>\n",
       "      <td>NaN</td>\n",
       "      <td>NaN</td>\n",
       "    </tr>\n",
       "    <tr>\n",
       "      <th>4</th>\n",
       "      <td>NaN</td>\n",
       "      <td>NaN</td>\n",
       "      <td>NaN</td>\n",
       "      <td>NaN</td>\n",
       "      <td>NaN</td>\n",
       "      <td>NaN</td>\n",
       "      <td>NaN</td>\n",
       "      <td>NaN</td>\n",
       "      <td>NaN</td>\n",
       "    </tr>\n",
       "    <tr>\n",
       "      <th>5</th>\n",
       "      <td>NaN</td>\n",
       "      <td>NaN</td>\n",
       "      <td>NaN</td>\n",
       "      <td>NaN</td>\n",
       "      <td>NaN</td>\n",
       "      <td>NaN</td>\n",
       "      <td>NaN</td>\n",
       "      <td>NaN</td>\n",
       "      <td>NaN</td>\n",
       "    </tr>\n",
       "    <tr>\n",
       "      <th>6</th>\n",
       "      <td>NaN</td>\n",
       "      <td>NaN</td>\n",
       "      <td>NaN</td>\n",
       "      <td>NaN</td>\n",
       "      <td>NaN</td>\n",
       "      <td>NaN</td>\n",
       "      <td>NaN</td>\n",
       "      <td>NaN</td>\n",
       "      <td>NaN</td>\n",
       "    </tr>\n",
       "    <tr>\n",
       "      <th>7</th>\n",
       "      <td>NaN</td>\n",
       "      <td>NaN</td>\n",
       "      <td>NaN</td>\n",
       "      <td>NaN</td>\n",
       "      <td>NaN</td>\n",
       "      <td>NaN</td>\n",
       "      <td>NaN</td>\n",
       "      <td>NaN</td>\n",
       "      <td>NaN</td>\n",
       "    </tr>\n",
       "    <tr>\n",
       "      <th>8</th>\n",
       "      <td>NaN</td>\n",
       "      <td>NaN</td>\n",
       "      <td>NaN</td>\n",
       "      <td>NaN</td>\n",
       "      <td>NaN</td>\n",
       "      <td>NaN</td>\n",
       "      <td>NaN</td>\n",
       "      <td>NaN</td>\n",
       "      <td>NaN</td>\n",
       "    </tr>\n",
       "    <tr>\n",
       "      <th>9</th>\n",
       "      <td>NaN</td>\n",
       "      <td>NaN</td>\n",
       "      <td>NaN</td>\n",
       "      <td>NaN</td>\n",
       "      <td>NaN</td>\n",
       "      <td>NaN</td>\n",
       "      <td>NaN</td>\n",
       "      <td>NaN</td>\n",
       "      <td>NaN</td>\n",
       "    </tr>\n",
       "    <tr>\n",
       "      <th>10</th>\n",
       "      <td>NaN</td>\n",
       "      <td>NaN</td>\n",
       "      <td>NaN</td>\n",
       "      <td>NaN</td>\n",
       "      <td>NaN</td>\n",
       "      <td>NaN</td>\n",
       "      <td>NaN</td>\n",
       "      <td>NaN</td>\n",
       "      <td>NaN</td>\n",
       "    </tr>\n",
       "    <tr>\n",
       "      <th>11</th>\n",
       "      <td>NaN</td>\n",
       "      <td>NaN</td>\n",
       "      <td>NaN</td>\n",
       "      <td>NaN</td>\n",
       "      <td>NaN</td>\n",
       "      <td>NaN</td>\n",
       "      <td>NaN</td>\n",
       "      <td>NaN</td>\n",
       "      <td>NaN</td>\n",
       "    </tr>\n",
       "    <tr>\n",
       "      <th>12</th>\n",
       "      <td>NaN</td>\n",
       "      <td>NaN</td>\n",
       "      <td>NaN</td>\n",
       "      <td>NaN</td>\n",
       "      <td>NaN</td>\n",
       "      <td>NaN</td>\n",
       "      <td>NaN</td>\n",
       "      <td>NaN</td>\n",
       "      <td>NaN</td>\n",
       "    </tr>\n",
       "    <tr>\n",
       "      <th>13</th>\n",
       "      <td>NaN</td>\n",
       "      <td>NaN</td>\n",
       "      <td>NaN</td>\n",
       "      <td>NaN</td>\n",
       "      <td>NaN</td>\n",
       "      <td>NaN</td>\n",
       "      <td>NaN</td>\n",
       "      <td>NaN</td>\n",
       "      <td>NaN</td>\n",
       "    </tr>\n",
       "    <tr>\n",
       "      <th>14</th>\n",
       "      <td>Mercedes-Benz</td>\n",
       "      <td>NaN</td>\n",
       "      <td>First Owner</td>\n",
       "      <td>Active</td>\n",
       "      <td>2016.0</td>\n",
       "      <td>16000.0</td>\n",
       "      <td>Petrol</td>\n",
       "      <td>3982.0</td>\n",
       "      <td>1.61</td>\n",
       "    </tr>\n",
       "  </tbody>\n",
       "</table>\n",
       "</div>"
      ],
      "text/plain": [
       "            Brand  Engine (in cc) Number of owner Insurance  \\\n",
       "0             NaN             NaN             NaN       NaN   \n",
       "1             NaN             NaN             NaN       NaN   \n",
       "2             NaN             NaN             NaN       NaN   \n",
       "3             NaN             NaN             NaN       NaN   \n",
       "4             NaN             NaN             NaN       NaN   \n",
       "5             NaN             NaN             NaN       NaN   \n",
       "6             NaN             NaN             NaN       NaN   \n",
       "7             NaN             NaN             NaN       NaN   \n",
       "8             NaN             NaN             NaN       NaN   \n",
       "9             NaN             NaN             NaN       NaN   \n",
       "10            NaN             NaN             NaN       NaN   \n",
       "11            NaN             NaN             NaN       NaN   \n",
       "12            NaN             NaN             NaN       NaN   \n",
       "13            NaN             NaN             NaN       NaN   \n",
       "14  Mercedes-Benz             NaN     First Owner    Active   \n",
       "\n",
       "    Manufacturing year  Driven kilometers Fuel type  Mileage  Price (in lakhs)  \n",
       "0                  NaN                NaN       NaN      NaN               NaN  \n",
       "1                  NaN                NaN       NaN      NaN               NaN  \n",
       "2                  NaN                NaN       NaN      NaN               NaN  \n",
       "3                  NaN                NaN       NaN      NaN               NaN  \n",
       "4                  NaN                NaN       NaN      NaN               NaN  \n",
       "5                  NaN                NaN       NaN      NaN               NaN  \n",
       "6                  NaN                NaN       NaN      NaN               NaN  \n",
       "7                  NaN                NaN       NaN      NaN               NaN  \n",
       "8                  NaN                NaN       NaN      NaN               NaN  \n",
       "9                  NaN                NaN       NaN      NaN               NaN  \n",
       "10                 NaN                NaN       NaN      NaN               NaN  \n",
       "11                 NaN                NaN       NaN      NaN               NaN  \n",
       "12                 NaN                NaN       NaN      NaN               NaN  \n",
       "13                 NaN                NaN       NaN      NaN               NaN  \n",
       "14              2016.0            16000.0    Petrol   3982.0              1.61  "
      ]
     },
     "execution_count": 8,
     "metadata": {},
     "output_type": "execute_result"
    }
   ],
   "source": [
    "df.head(15)"
   ]
  },
  {
   "cell_type": "code",
   "execution_count": 9,
   "id": "ae1b9dd7",
   "metadata": {},
   "outputs": [],
   "source": [
    "n = 14\n",
    "data = df.iloc[n:,:]\n",
    "data.reset_index(inplace = True)"
   ]
  },
  {
   "cell_type": "code",
   "execution_count": 10,
   "id": "bf2a0fe7",
   "metadata": {},
   "outputs": [
    {
     "data": {
      "text/html": [
       "<div>\n",
       "<style scoped>\n",
       "    .dataframe tbody tr th:only-of-type {\n",
       "        vertical-align: middle;\n",
       "    }\n",
       "\n",
       "    .dataframe tbody tr th {\n",
       "        vertical-align: top;\n",
       "    }\n",
       "\n",
       "    .dataframe thead th {\n",
       "        text-align: right;\n",
       "    }\n",
       "</style>\n",
       "<table border=\"1\" class=\"dataframe\">\n",
       "  <thead>\n",
       "    <tr style=\"text-align: right;\">\n",
       "      <th></th>\n",
       "      <th>index</th>\n",
       "      <th>Brand</th>\n",
       "      <th>Engine (in cc)</th>\n",
       "      <th>Number of owner</th>\n",
       "      <th>Insurance</th>\n",
       "      <th>Manufacturing year</th>\n",
       "      <th>Driven kilometers</th>\n",
       "      <th>Fuel type</th>\n",
       "      <th>Mileage</th>\n",
       "      <th>Price (in lakhs)</th>\n",
       "    </tr>\n",
       "  </thead>\n",
       "  <tbody>\n",
       "    <tr>\n",
       "      <th>6</th>\n",
       "      <td>20</td>\n",
       "      <td>NaN</td>\n",
       "      <td>NaN</td>\n",
       "      <td>NaN</td>\n",
       "      <td>NaN</td>\n",
       "      <td>NaN</td>\n",
       "      <td>NaN</td>\n",
       "      <td>NaN</td>\n",
       "      <td>NaN</td>\n",
       "      <td>NaN</td>\n",
       "    </tr>\n",
       "    <tr>\n",
       "      <th>7</th>\n",
       "      <td>21</td>\n",
       "      <td>NaN</td>\n",
       "      <td>NaN</td>\n",
       "      <td>NaN</td>\n",
       "      <td>NaN</td>\n",
       "      <td>NaN</td>\n",
       "      <td>NaN</td>\n",
       "      <td>NaN</td>\n",
       "      <td>NaN</td>\n",
       "      <td>NaN</td>\n",
       "    </tr>\n",
       "    <tr>\n",
       "      <th>8</th>\n",
       "      <td>22</td>\n",
       "      <td>NaN</td>\n",
       "      <td>NaN</td>\n",
       "      <td>NaN</td>\n",
       "      <td>NaN</td>\n",
       "      <td>NaN</td>\n",
       "      <td>NaN</td>\n",
       "      <td>NaN</td>\n",
       "      <td>NaN</td>\n",
       "      <td>NaN</td>\n",
       "    </tr>\n",
       "    <tr>\n",
       "      <th>9</th>\n",
       "      <td>23</td>\n",
       "      <td>NaN</td>\n",
       "      <td>NaN</td>\n",
       "      <td>NaN</td>\n",
       "      <td>NaN</td>\n",
       "      <td>NaN</td>\n",
       "      <td>NaN</td>\n",
       "      <td>NaN</td>\n",
       "      <td>NaN</td>\n",
       "      <td>NaN</td>\n",
       "    </tr>\n",
       "    <tr>\n",
       "      <th>10</th>\n",
       "      <td>24</td>\n",
       "      <td>NaN</td>\n",
       "      <td>NaN</td>\n",
       "      <td>NaN</td>\n",
       "      <td>NaN</td>\n",
       "      <td>NaN</td>\n",
       "      <td>NaN</td>\n",
       "      <td>NaN</td>\n",
       "      <td>NaN</td>\n",
       "      <td>NaN</td>\n",
       "    </tr>\n",
       "    <tr>\n",
       "      <th>...</th>\n",
       "      <td>...</td>\n",
       "      <td>...</td>\n",
       "      <td>...</td>\n",
       "      <td>...</td>\n",
       "      <td>...</td>\n",
       "      <td>...</td>\n",
       "      <td>...</td>\n",
       "      <td>...</td>\n",
       "      <td>...</td>\n",
       "      <td>...</td>\n",
       "    </tr>\n",
       "    <tr>\n",
       "      <th>79</th>\n",
       "      <td>93</td>\n",
       "      <td>NaN</td>\n",
       "      <td>NaN</td>\n",
       "      <td>NaN</td>\n",
       "      <td>NaN</td>\n",
       "      <td>NaN</td>\n",
       "      <td>NaN</td>\n",
       "      <td>NaN</td>\n",
       "      <td>NaN</td>\n",
       "      <td>NaN</td>\n",
       "    </tr>\n",
       "    <tr>\n",
       "      <th>80</th>\n",
       "      <td>94</td>\n",
       "      <td>NaN</td>\n",
       "      <td>NaN</td>\n",
       "      <td>NaN</td>\n",
       "      <td>NaN</td>\n",
       "      <td>NaN</td>\n",
       "      <td>NaN</td>\n",
       "      <td>NaN</td>\n",
       "      <td>NaN</td>\n",
       "      <td>NaN</td>\n",
       "    </tr>\n",
       "    <tr>\n",
       "      <th>81</th>\n",
       "      <td>95</td>\n",
       "      <td>NaN</td>\n",
       "      <td>NaN</td>\n",
       "      <td>NaN</td>\n",
       "      <td>NaN</td>\n",
       "      <td>NaN</td>\n",
       "      <td>NaN</td>\n",
       "      <td>NaN</td>\n",
       "      <td>NaN</td>\n",
       "      <td>NaN</td>\n",
       "    </tr>\n",
       "    <tr>\n",
       "      <th>82</th>\n",
       "      <td>96</td>\n",
       "      <td>NaN</td>\n",
       "      <td>NaN</td>\n",
       "      <td>NaN</td>\n",
       "      <td>NaN</td>\n",
       "      <td>NaN</td>\n",
       "      <td>NaN</td>\n",
       "      <td>NaN</td>\n",
       "      <td>NaN</td>\n",
       "      <td>NaN</td>\n",
       "    </tr>\n",
       "    <tr>\n",
       "      <th>83</th>\n",
       "      <td>97</td>\n",
       "      <td>NaN</td>\n",
       "      <td>NaN</td>\n",
       "      <td>NaN</td>\n",
       "      <td>NaN</td>\n",
       "      <td>NaN</td>\n",
       "      <td>NaN</td>\n",
       "      <td>NaN</td>\n",
       "      <td>NaN</td>\n",
       "      <td>NaN</td>\n",
       "    </tr>\n",
       "  </tbody>\n",
       "</table>\n",
       "<p>78 rows × 10 columns</p>\n",
       "</div>"
      ],
      "text/plain": [
       "    index Brand  Engine (in cc) Number of owner Insurance  Manufacturing year  \\\n",
       "6      20   NaN             NaN             NaN       NaN                 NaN   \n",
       "7      21   NaN             NaN             NaN       NaN                 NaN   \n",
       "8      22   NaN             NaN             NaN       NaN                 NaN   \n",
       "9      23   NaN             NaN             NaN       NaN                 NaN   \n",
       "10     24   NaN             NaN             NaN       NaN                 NaN   \n",
       "..    ...   ...             ...             ...       ...                 ...   \n",
       "79     93   NaN             NaN             NaN       NaN                 NaN   \n",
       "80     94   NaN             NaN             NaN       NaN                 NaN   \n",
       "81     95   NaN             NaN             NaN       NaN                 NaN   \n",
       "82     96   NaN             NaN             NaN       NaN                 NaN   \n",
       "83     97   NaN             NaN             NaN       NaN                 NaN   \n",
       "\n",
       "    Driven kilometers Fuel type  Mileage  Price (in lakhs)  \n",
       "6                 NaN       NaN      NaN               NaN  \n",
       "7                 NaN       NaN      NaN               NaN  \n",
       "8                 NaN       NaN      NaN               NaN  \n",
       "9                 NaN       NaN      NaN               NaN  \n",
       "10                NaN       NaN      NaN               NaN  \n",
       "..                ...       ...      ...               ...  \n",
       "79                NaN       NaN      NaN               NaN  \n",
       "80                NaN       NaN      NaN               NaN  \n",
       "81                NaN       NaN      NaN               NaN  \n",
       "82                NaN       NaN      NaN               NaN  \n",
       "83                NaN       NaN      NaN               NaN  \n",
       "\n",
       "[78 rows x 10 columns]"
      ]
     },
     "execution_count": 10,
     "metadata": {},
     "output_type": "execute_result"
    }
   ],
   "source": [
    "data.iloc[6:84]"
   ]
  },
  {
   "cell_type": "code",
   "execution_count": 11,
   "id": "afca8614",
   "metadata": {},
   "outputs": [],
   "source": [
    "data = data.drop(data.index[6:84])\n",
    "data.reset_index(inplace = True)"
   ]
  },
  {
   "cell_type": "code",
   "execution_count": 12,
   "id": "2e2e7f07",
   "metadata": {},
   "outputs": [
    {
     "data": {
      "text/html": [
       "<div>\n",
       "<style scoped>\n",
       "    .dataframe tbody tr th:only-of-type {\n",
       "        vertical-align: middle;\n",
       "    }\n",
       "\n",
       "    .dataframe tbody tr th {\n",
       "        vertical-align: top;\n",
       "    }\n",
       "\n",
       "    .dataframe thead th {\n",
       "        text-align: right;\n",
       "    }\n",
       "</style>\n",
       "<table border=\"1\" class=\"dataframe\">\n",
       "  <thead>\n",
       "    <tr style=\"text-align: right;\">\n",
       "      <th></th>\n",
       "      <th>level_0</th>\n",
       "      <th>index</th>\n",
       "      <th>Brand</th>\n",
       "      <th>Engine (in cc)</th>\n",
       "      <th>Number of owner</th>\n",
       "      <th>Insurance</th>\n",
       "      <th>Manufacturing year</th>\n",
       "      <th>Driven kilometers</th>\n",
       "      <th>Fuel type</th>\n",
       "      <th>Mileage</th>\n",
       "      <th>Price (in lakhs)</th>\n",
       "    </tr>\n",
       "  </thead>\n",
       "  <tbody>\n",
       "    <tr>\n",
       "      <th>0</th>\n",
       "      <td>0</td>\n",
       "      <td>14</td>\n",
       "      <td>Mercedes-Benz</td>\n",
       "      <td>NaN</td>\n",
       "      <td>First Owner</td>\n",
       "      <td>Active</td>\n",
       "      <td>2016.0</td>\n",
       "      <td>16000.0</td>\n",
       "      <td>Petrol</td>\n",
       "      <td>3982.00</td>\n",
       "      <td>1.61</td>\n",
       "    </tr>\n",
       "    <tr>\n",
       "      <th>1</th>\n",
       "      <td>1</td>\n",
       "      <td>15</td>\n",
       "      <td>Mercedes-Benz</td>\n",
       "      <td>NaN</td>\n",
       "      <td>First Owner</td>\n",
       "      <td>Active</td>\n",
       "      <td>2021.0</td>\n",
       "      <td>4000.0</td>\n",
       "      <td>Diesel</td>\n",
       "      <td>2925.00</td>\n",
       "      <td>1.33</td>\n",
       "    </tr>\n",
       "    <tr>\n",
       "      <th>2</th>\n",
       "      <td>2</td>\n",
       "      <td>16</td>\n",
       "      <td>Mercedes-Benz</td>\n",
       "      <td>4663.0</td>\n",
       "      <td>First Owner</td>\n",
       "      <td>Active</td>\n",
       "      <td>2017.0</td>\n",
       "      <td>5500.0</td>\n",
       "      <td>Petrol</td>\n",
       "      <td>7.81</td>\n",
       "      <td>1.42</td>\n",
       "    </tr>\n",
       "    <tr>\n",
       "      <th>3</th>\n",
       "      <td>3</td>\n",
       "      <td>17</td>\n",
       "      <td>Mercedes-Benz</td>\n",
       "      <td>NaN</td>\n",
       "      <td>First Owner</td>\n",
       "      <td>Active</td>\n",
       "      <td>2020.0</td>\n",
       "      <td>8000.0</td>\n",
       "      <td>Petrol</td>\n",
       "      <td>3982.00</td>\n",
       "      <td>2.71</td>\n",
       "    </tr>\n",
       "    <tr>\n",
       "      <th>4</th>\n",
       "      <td>4</td>\n",
       "      <td>18</td>\n",
       "      <td>Porsche</td>\n",
       "      <td>1984.0</td>\n",
       "      <td>First Owner</td>\n",
       "      <td>Active</td>\n",
       "      <td>2017.0</td>\n",
       "      <td>25000.0</td>\n",
       "      <td>Petrol</td>\n",
       "      <td>13.60</td>\n",
       "      <td>58.00</td>\n",
       "    </tr>\n",
       "  </tbody>\n",
       "</table>\n",
       "</div>"
      ],
      "text/plain": [
       "   level_0  index          Brand  Engine (in cc) Number of owner Insurance  \\\n",
       "0        0     14  Mercedes-Benz             NaN     First Owner    Active   \n",
       "1        1     15  Mercedes-Benz             NaN     First Owner    Active   \n",
       "2        2     16  Mercedes-Benz          4663.0     First Owner    Active   \n",
       "3        3     17  Mercedes-Benz             NaN     First Owner    Active   \n",
       "4        4     18        Porsche          1984.0     First Owner    Active   \n",
       "\n",
       "   Manufacturing year  Driven kilometers Fuel type  Mileage  Price (in lakhs)  \n",
       "0              2016.0            16000.0    Petrol  3982.00              1.61  \n",
       "1              2021.0             4000.0    Diesel  2925.00              1.33  \n",
       "2              2017.0             5500.0    Petrol     7.81              1.42  \n",
       "3              2020.0             8000.0    Petrol  3982.00              2.71  \n",
       "4              2017.0            25000.0    Petrol    13.60             58.00  "
      ]
     },
     "execution_count": 12,
     "metadata": {},
     "output_type": "execute_result"
    }
   ],
   "source": [
    "data.head()"
   ]
  },
  {
   "cell_type": "code",
   "execution_count": 13,
   "id": "f413215d",
   "metadata": {},
   "outputs": [],
   "source": [
    "data = data.drop(columns = ['level_0','index'], axis = 1)"
   ]
  },
  {
   "cell_type": "code",
   "execution_count": 14,
   "id": "ef58b174",
   "metadata": {},
   "outputs": [
    {
     "data": {
      "text/html": [
       "<div>\n",
       "<style scoped>\n",
       "    .dataframe tbody tr th:only-of-type {\n",
       "        vertical-align: middle;\n",
       "    }\n",
       "\n",
       "    .dataframe tbody tr th {\n",
       "        vertical-align: top;\n",
       "    }\n",
       "\n",
       "    .dataframe thead th {\n",
       "        text-align: right;\n",
       "    }\n",
       "</style>\n",
       "<table border=\"1\" class=\"dataframe\">\n",
       "  <thead>\n",
       "    <tr style=\"text-align: right;\">\n",
       "      <th></th>\n",
       "      <th>Brand</th>\n",
       "      <th>Engine (in cc)</th>\n",
       "      <th>Number of owner</th>\n",
       "      <th>Insurance</th>\n",
       "      <th>Manufacturing year</th>\n",
       "      <th>Driven kilometers</th>\n",
       "      <th>Fuel type</th>\n",
       "      <th>Mileage</th>\n",
       "      <th>Price (in lakhs)</th>\n",
       "    </tr>\n",
       "  </thead>\n",
       "  <tbody>\n",
       "    <tr>\n",
       "      <th>0</th>\n",
       "      <td>Mercedes-Benz</td>\n",
       "      <td>NaN</td>\n",
       "      <td>First Owner</td>\n",
       "      <td>Active</td>\n",
       "      <td>2016.0</td>\n",
       "      <td>16000.0</td>\n",
       "      <td>Petrol</td>\n",
       "      <td>3982.00</td>\n",
       "      <td>1.61</td>\n",
       "    </tr>\n",
       "    <tr>\n",
       "      <th>1</th>\n",
       "      <td>Mercedes-Benz</td>\n",
       "      <td>NaN</td>\n",
       "      <td>First Owner</td>\n",
       "      <td>Active</td>\n",
       "      <td>2021.0</td>\n",
       "      <td>4000.0</td>\n",
       "      <td>Diesel</td>\n",
       "      <td>2925.00</td>\n",
       "      <td>1.33</td>\n",
       "    </tr>\n",
       "    <tr>\n",
       "      <th>2</th>\n",
       "      <td>Mercedes-Benz</td>\n",
       "      <td>4663.0</td>\n",
       "      <td>First Owner</td>\n",
       "      <td>Active</td>\n",
       "      <td>2017.0</td>\n",
       "      <td>5500.0</td>\n",
       "      <td>Petrol</td>\n",
       "      <td>7.81</td>\n",
       "      <td>1.42</td>\n",
       "    </tr>\n",
       "    <tr>\n",
       "      <th>3</th>\n",
       "      <td>Mercedes-Benz</td>\n",
       "      <td>NaN</td>\n",
       "      <td>First Owner</td>\n",
       "      <td>Active</td>\n",
       "      <td>2020.0</td>\n",
       "      <td>8000.0</td>\n",
       "      <td>Petrol</td>\n",
       "      <td>3982.00</td>\n",
       "      <td>2.71</td>\n",
       "    </tr>\n",
       "    <tr>\n",
       "      <th>4</th>\n",
       "      <td>Porsche</td>\n",
       "      <td>1984.0</td>\n",
       "      <td>First Owner</td>\n",
       "      <td>Active</td>\n",
       "      <td>2017.0</td>\n",
       "      <td>25000.0</td>\n",
       "      <td>Petrol</td>\n",
       "      <td>13.60</td>\n",
       "      <td>58.00</td>\n",
       "    </tr>\n",
       "  </tbody>\n",
       "</table>\n",
       "</div>"
      ],
      "text/plain": [
       "           Brand  Engine (in cc) Number of owner Insurance  \\\n",
       "0  Mercedes-Benz             NaN     First Owner    Active   \n",
       "1  Mercedes-Benz             NaN     First Owner    Active   \n",
       "2  Mercedes-Benz          4663.0     First Owner    Active   \n",
       "3  Mercedes-Benz             NaN     First Owner    Active   \n",
       "4        Porsche          1984.0     First Owner    Active   \n",
       "\n",
       "   Manufacturing year  Driven kilometers Fuel type  Mileage  Price (in lakhs)  \n",
       "0              2016.0            16000.0    Petrol  3982.00              1.61  \n",
       "1              2021.0             4000.0    Diesel  2925.00              1.33  \n",
       "2              2017.0             5500.0    Petrol     7.81              1.42  \n",
       "3              2020.0             8000.0    Petrol  3982.00              2.71  \n",
       "4              2017.0            25000.0    Petrol    13.60             58.00  "
      ]
     },
     "execution_count": 14,
     "metadata": {},
     "output_type": "execute_result"
    }
   ],
   "source": [
    "data.head()"
   ]
  },
  {
   "cell_type": "markdown",
   "id": "7e0c911b",
   "metadata": {},
   "source": [
    "## Filling null values"
   ]
  },
  {
   "cell_type": "code",
   "execution_count": 15,
   "id": "3ea7c08d",
   "metadata": {},
   "outputs": [],
   "source": [
    "data['Brand'] = data['Brand'].fillna(data['Brand'].mode()[0])\n",
    "data['Engine (in cc)'] = data['Engine (in cc)'].fillna(data['Engine (in cc)'].mode()[0])\n",
    "data['Number of owner'] = data['Number of owner'].fillna(data['Number of owner'].mode()[0])\n",
    "data['Insurance'] = data['Insurance'].fillna(data['Insurance'].mode()[0])\n",
    "data['Manufacturing year'] = data['Manufacturing year'].fillna(data['Manufacturing year'].mode()[0])\n",
    "data['Driven kilometers'] = data['Driven kilometers'].fillna(data['Driven kilometers'].mean())\n",
    "data['Fuel type'] = data['Fuel type'].fillna(data['Fuel type'].mode()[0])\n",
    "data['Mileage'] = data['Mileage'].fillna(data['Mileage'].mean())"
   ]
  },
  {
   "cell_type": "code",
   "execution_count": 16,
   "id": "2f1f25e9",
   "metadata": {},
   "outputs": [
    {
     "data": {
      "text/plain": [
       "Brand                   0\n",
       "Engine (in cc)          0\n",
       "Number of owner         0\n",
       "Insurance               0\n",
       "Manufacturing year      0\n",
       "Driven kilometers       0\n",
       "Fuel type               0\n",
       "Mileage                 0\n",
       "Price (in lakhs)      633\n",
       "dtype: int64"
      ]
     },
     "execution_count": 16,
     "metadata": {},
     "output_type": "execute_result"
    }
   ],
   "source": [
    "data.isna().sum()"
   ]
  },
  {
   "cell_type": "markdown",
   "id": "52a671d3",
   "metadata": {},
   "source": [
    "## We can't just fill null values for the target variable. Instead, let's just drop them."
   ]
  },
  {
   "cell_type": "code",
   "execution_count": 17,
   "id": "1d47467b",
   "metadata": {},
   "outputs": [],
   "source": [
    "data = data.dropna()"
   ]
  },
  {
   "cell_type": "code",
   "execution_count": 18,
   "id": "5178e17f",
   "metadata": {},
   "outputs": [
    {
     "data": {
      "text/plain": [
       "0"
      ]
     },
     "execution_count": 18,
     "metadata": {},
     "output_type": "execute_result"
    }
   ],
   "source": [
    "data.isna().sum().sum()"
   ]
  },
  {
   "cell_type": "code",
   "execution_count": 19,
   "id": "42054c08",
   "metadata": {},
   "outputs": [
    {
     "data": {
      "text/plain": [
       "(4786, 9)"
      ]
     },
     "execution_count": 19,
     "metadata": {},
     "output_type": "execute_result"
    }
   ],
   "source": [
    "data.shape"
   ]
  },
  {
   "cell_type": "code",
   "execution_count": 20,
   "id": "812cc867",
   "metadata": {},
   "outputs": [],
   "source": [
    "data.rename(columns = {'Engine (in cc)':'Engine','Number of owner':'No_of_owner','Manufacturing year':'Year',\n",
    "                      'Driven kilometers':'Kilo_driven','Fuel type':'Fuel_type','Price (in lakhs)':'Price'}, inplace = True)"
   ]
  },
  {
   "cell_type": "markdown",
   "id": "7a1327cb",
   "metadata": {},
   "source": [
    "# EDA\n",
    "### 1. For categorical data"
   ]
  },
  {
   "cell_type": "code",
   "execution_count": 21,
   "id": "2ba6f101",
   "metadata": {},
   "outputs": [
    {
     "name": "stdout",
     "output_type": "stream",
     "text": [
      "The value counts for Brand is\n",
      "\n",
      "Maruti           989\n",
      "Hyundai          860\n",
      "Honda            617\n",
      "Toyota           310\n",
      "Mahindra         246\n",
      "Mercedes-Benz    223\n",
      "BMW              197\n",
      "Tata             177\n",
      "Volkswagen       164\n",
      "Renault          148\n",
      "Ford             139\n",
      "Skoda            138\n",
      "Audi             102\n",
      "Kia               89\n",
      "Jeep              72\n",
      "MG                69\n",
      "Chevrolet         37\n",
      "Nissan            37\n",
      "Land              36\n",
      "Jaguar            30\n",
      "Volvo             23\n",
      "Datsun            22\n",
      "Fiat              21\n",
      "Mini              13\n",
      "Mitsubishi        13\n",
      "Porsche           11\n",
      "Isuzu              2\n",
      "Bentley            1\n",
      "Name: Brand, dtype: int64 \n",
      "\n"
     ]
    },
    {
     "data": {
      "image/png": "[encoded data removed]",
      "text/plain": [
       "<Figure size 1800x2160 with 1 Axes>"
      ]
     },
     "metadata": {
      "needs_background": "light"
     },
     "output_type": "display_data"
    },
    {
     "name": "stdout",
     "output_type": "stream",
     "text": [
      "The value counts for No_of_owner is\n",
      "\n",
      "First Owner               3570\n",
      "Second Owner              1027\n",
      "Third Owner                156\n",
      "Fourth Owner                29\n",
      "Fifth Owner                  3\n",
      "Unregistered Car Owner       1\n",
      "Name: No_of_owner, dtype: int64 \n",
      "\n"
     ]
    },
    {
     "data": {
      "image/png": "[encoded data removed]",
      "text/plain": [
       "<Figure size 1800x2160 with 1 Axes>"
      ]
     },
     "metadata": {
      "needs_background": "light"
     },
     "output_type": "display_data"
    },
    {
     "name": "stdout",
     "output_type": "stream",
     "text": [
      "The value counts for Insurance is\n",
      "\n",
      "Active          4032\n",
      "No Insurance     754\n",
      "Name: Insurance, dtype: int64 \n",
      "\n"
     ]
    },
    {
     "data": {
      "image/png": "[encoded data removed]",
      "text/plain": [
       "<Figure size 1800x2160 with 1 Axes>"
      ]
     },
     "metadata": {
      "needs_background": "light"
     },
     "output_type": "display_data"
    },
    {
     "name": "stdout",
     "output_type": "stream",
     "text": [
      "The value counts for Year is\n",
      "\n",
      "2017.0    1641\n",
      "2018.0     433\n",
      "2016.0     356\n",
      "2015.0     339\n",
      "2019.0     325\n",
      "2014.0     286\n",
      "2020.0     258\n",
      "2013.0     254\n",
      "2012.0     240\n",
      "2021.0     184\n",
      "2011.0     155\n",
      "2010.0     118\n",
      "2009.0      65\n",
      "2008.0      54\n",
      "2022.0      38\n",
      "2007.0      25\n",
      "2006.0       8\n",
      "2005.0       5\n",
      "2003.0       1\n",
      "2004.0       1\n",
      "Name: Year, dtype: int64 \n",
      "\n"
     ]
    },
    {
     "data": {
      "image/png": "[encoded data removed]",
      "text/plain": [
       "<Figure size 1800x2160 with 1 Axes>"
      ]
     },
     "metadata": {
      "needs_background": "light"
     },
     "output_type": "display_data"
    },
    {
     "name": "stdout",
     "output_type": "stream",
     "text": [
      "The value counts for Fuel_type is\n",
      "\n",
      "Petrol      2912\n",
      "Diesel      1722\n",
      "CNG          136\n",
      "Electric      14\n",
      "LPG            2\n",
      "Name: Fuel_type, dtype: int64 \n",
      "\n"
     ]
    },
    {
     "data": {
      "image/png": "[encoded data removed]",
      "text/plain": [
       "<Figure size 1800x2160 with 1 Axes>"
      ]
     },
     "metadata": {
      "needs_background": "light"
     },
     "output_type": "display_data"
    }
   ],
   "source": [
    "data_cat = data[['Brand', 'No_of_owner', 'Insurance', 'Year', 'Fuel_type']]\n",
    "\n",
    "plotnumber = 1\n",
    "\n",
    "for column in data_cat :\n",
    "    plt.figure(figsize = (25,30))\n",
    "    if plotnumber <=5:\n",
    "        ax = plt.subplot(5,1,plotnumber)\n",
    "        sns.countplot(data_cat[column])\n",
    "        plt.xlabel(column,fontsize = 25)\n",
    "        print(f\"The value counts for {column} is\\n\")\n",
    "        print(data_cat[column].value_counts(),'\\n')\n",
    "        plt.show()\n",
    "    plotnumber +=1"
   ]
  },
  {
   "cell_type": "markdown",
   "id": "0c0715f4",
   "metadata": {},
   "source": [
    "### 2. For continuous data"
   ]
  },
  {
   "cell_type": "code",
   "execution_count": 22,
   "id": "8fdcca88",
   "metadata": {},
   "outputs": [
    {
     "data": {
      "image/png": "[encoded data removed]",
      "text/plain": [
       "<Figure size 864x576 with 4 Axes>"
      ]
     },
     "metadata": {
      "needs_background": "light"
     },
     "output_type": "display_data"
    }
   ],
   "source": [
    "data_cont = ['Engine', 'Kilo_driven', 'Mileage', 'Price']\n",
    "\n",
    "plt.figure(figsize = (12,8))\n",
    "plotnumber = 1\n",
    "\n",
    "for column in data[data_cont] :\n",
    "    if plotnumber <=4 :\n",
    "        ax = plt.subplot(2,2,plotnumber)\n",
    "        sns.distplot(data[data_cont][column])\n",
    "        plt.xlabel(column,fontsize = 20)\n",
    "    plotnumber +=1\n",
    "plt.show()"
   ]
  },
  {
   "cell_type": "markdown",
   "id": "1f862015",
   "metadata": {},
   "source": [
    "## Encoding the data"
   ]
  },
  {
   "cell_type": "code",
   "execution_count": 23,
   "id": "cec93bcb",
   "metadata": {},
   "outputs": [],
   "source": [
    "x = data.drop('Price',axis = 1)"
   ]
  },
  {
   "cell_type": "code",
   "execution_count": 24,
   "id": "fc2415de",
   "metadata": {},
   "outputs": [],
   "source": [
    "from sklearn.preprocessing import OrdinalEncoder\n",
    "\n",
    "oe = OrdinalEncoder()\n",
    "\n",
    "for i in x.columns:\n",
    "    if data[i].dtypes == 'object':\n",
    "        data[i] = oe.fit_transform(data[i].values.reshape(-1,1))"
   ]
  },
  {
   "cell_type": "code",
   "execution_count": 25,
   "id": "c8b03ce7",
   "metadata": {
    "scrolled": true
   },
   "outputs": [
    {
     "data": {
      "text/html": [
       "<div>\n",
       "<style scoped>\n",
       "    .dataframe tbody tr th:only-of-type {\n",
       "        vertical-align: middle;\n",
       "    }\n",
       "\n",
       "    .dataframe tbody tr th {\n",
       "        vertical-align: top;\n",
       "    }\n",
       "\n",
       "    .dataframe thead th {\n",
       "        text-align: right;\n",
       "    }\n",
       "</style>\n",
       "<table border=\"1\" class=\"dataframe\">\n",
       "  <thead>\n",
       "    <tr style=\"text-align: right;\">\n",
       "      <th></th>\n",
       "      <th>Brand</th>\n",
       "      <th>Engine</th>\n",
       "      <th>No_of_owner</th>\n",
       "      <th>Insurance</th>\n",
       "      <th>Year</th>\n",
       "      <th>Kilo_driven</th>\n",
       "      <th>Fuel_type</th>\n",
       "      <th>Mileage</th>\n",
       "      <th>Price</th>\n",
       "    </tr>\n",
       "  </thead>\n",
       "  <tbody>\n",
       "    <tr>\n",
       "      <th>0</th>\n",
       "      <td>17.0</td>\n",
       "      <td>1197.0</td>\n",
       "      <td>1.0</td>\n",
       "      <td>0.0</td>\n",
       "      <td>2016.0</td>\n",
       "      <td>16000.0</td>\n",
       "      <td>4.0</td>\n",
       "      <td>3982.00</td>\n",
       "      <td>1.61</td>\n",
       "    </tr>\n",
       "    <tr>\n",
       "      <th>1</th>\n",
       "      <td>17.0</td>\n",
       "      <td>1197.0</td>\n",
       "      <td>1.0</td>\n",
       "      <td>0.0</td>\n",
       "      <td>2021.0</td>\n",
       "      <td>4000.0</td>\n",
       "      <td>1.0</td>\n",
       "      <td>2925.00</td>\n",
       "      <td>1.33</td>\n",
       "    </tr>\n",
       "    <tr>\n",
       "      <th>2</th>\n",
       "      <td>17.0</td>\n",
       "      <td>4663.0</td>\n",
       "      <td>1.0</td>\n",
       "      <td>0.0</td>\n",
       "      <td>2017.0</td>\n",
       "      <td>5500.0</td>\n",
       "      <td>4.0</td>\n",
       "      <td>7.81</td>\n",
       "      <td>1.42</td>\n",
       "    </tr>\n",
       "    <tr>\n",
       "      <th>3</th>\n",
       "      <td>17.0</td>\n",
       "      <td>1197.0</td>\n",
       "      <td>1.0</td>\n",
       "      <td>0.0</td>\n",
       "      <td>2020.0</td>\n",
       "      <td>8000.0</td>\n",
       "      <td>4.0</td>\n",
       "      <td>3982.00</td>\n",
       "      <td>2.71</td>\n",
       "    </tr>\n",
       "    <tr>\n",
       "      <th>4</th>\n",
       "      <td>21.0</td>\n",
       "      <td>1984.0</td>\n",
       "      <td>1.0</td>\n",
       "      <td>0.0</td>\n",
       "      <td>2017.0</td>\n",
       "      <td>25000.0</td>\n",
       "      <td>4.0</td>\n",
       "      <td>13.60</td>\n",
       "      <td>58.00</td>\n",
       "    </tr>\n",
       "  </tbody>\n",
       "</table>\n",
       "</div>"
      ],
      "text/plain": [
       "   Brand  Engine  No_of_owner  Insurance    Year  Kilo_driven  Fuel_type  \\\n",
       "0   17.0  1197.0          1.0        0.0  2016.0      16000.0        4.0   \n",
       "1   17.0  1197.0          1.0        0.0  2021.0       4000.0        1.0   \n",
       "2   17.0  4663.0          1.0        0.0  2017.0       5500.0        4.0   \n",
       "3   17.0  1197.0          1.0        0.0  2020.0       8000.0        4.0   \n",
       "4   21.0  1984.0          1.0        0.0  2017.0      25000.0        4.0   \n",
       "\n",
       "   Mileage  Price  \n",
       "0  3982.00   1.61  \n",
       "1  2925.00   1.33  \n",
       "2     7.81   1.42  \n",
       "3  3982.00   2.71  \n",
       "4    13.60  58.00  "
      ]
     },
     "execution_count": 25,
     "metadata": {},
     "output_type": "execute_result"
    }
   ],
   "source": [
    "data.head()"
   ]
  },
  {
   "cell_type": "code",
   "execution_count": 26,
   "id": "dc1b3bd8",
   "metadata": {},
   "outputs": [
    {
     "data": {
      "image/png": "[encoded data removed]",
      "text/plain": [
       "<Figure size 720x360 with 1 Axes>"
      ]
     },
     "metadata": {
      "needs_background": "light"
     },
     "output_type": "display_data"
    }
   ],
   "source": [
    "corr = data.drop('Price', axis = 1).corrwith(data['Price']).sort_values(ascending = False)\n",
    "\n",
    "corr.plot(kind = 'bar', grid = True, figsize = (10,5),\n",
    "          title = \"Correlation with target\")\n",
    "plt.show()"
   ]
  },
  {
   "cell_type": "code",
   "execution_count": 27,
   "id": "4259f811",
   "metadata": {},
   "outputs": [
    {
     "data": {
      "text/plain": [
       "Brand           0.161317\n",
       "Engine          1.145749\n",
       "No_of_owner     1.290657\n",
       "Insurance       1.880612\n",
       "Year           -0.807026\n",
       "Kilo_driven     2.721274\n",
       "Fuel_type      -0.491542\n",
       "Mileage         7.218255\n",
       "Price          10.510227\n",
       "dtype: float64"
      ]
     },
     "execution_count": 27,
     "metadata": {},
     "output_type": "execute_result"
    }
   ],
   "source": [
    "# checking skewness\n",
    "\n",
    "data.skew()"
   ]
  },
  {
   "cell_type": "code",
   "execution_count": 28,
   "id": "3bf19d48",
   "metadata": {},
   "outputs": [
    {
     "data": {
      "image/png": "[encoded data removed]",
      "text/plain": [
       "<Figure size 864x576 with 4 Axes>"
      ]
     },
     "metadata": {
      "needs_background": "light"
     },
     "output_type": "display_data"
    }
   ],
   "source": [
    "# Visualize the outliers using boxplot\n",
    "plt.figure(figsize = (12,8))\n",
    "graph = 1\n",
    "\n",
    "for column in data[data_cont]:\n",
    "    if graph <= 4:\n",
    "        ax = plt.subplot(1,4,graph)\n",
    "        sns.boxplot(data=data[data_cont][column])\n",
    "        \n",
    "        plt.xlabel(column,fontsize = 12)\n",
    "    graph +=1\n",
    "plt.show()"
   ]
  },
  {
   "cell_type": "code",
   "execution_count": 29,
   "id": "9a7fa3ab",
   "metadata": {},
   "outputs": [
    {
     "data": {
      "text/plain": [
       "Brand              9.00\n",
       "Engine           759.00\n",
       "No_of_owner        1.00\n",
       "Insurance          0.00\n",
       "Year               4.00\n",
       "Kilo_driven    34400.00\n",
       "Fuel_type          3.00\n",
       "Mileage            4.71\n",
       "Price              8.55\n",
       "dtype: float64"
      ]
     },
     "execution_count": 29,
     "metadata": {},
     "output_type": "execute_result"
    }
   ],
   "source": [
    "# Find the IQR to identify the outliers\n",
    "\n",
    "# 1st quantile\n",
    "q1 = data.quantile(0.25)\n",
    "\n",
    "# 3rd quantile\n",
    "q3 = data.quantile(0.75)\n",
    "\n",
    "#IQR\n",
    "iqr = q3 - q1\n",
    "iqr"
   ]
  },
  {
   "cell_type": "code",
   "execution_count": 30,
   "id": "99defd25",
   "metadata": {},
   "outputs": [],
   "source": [
    "engine_high = q3.Engine + (1.5*iqr.Engine)\n",
    "index = np.where(data['Engine']>engine_high)\n",
    "data = data.drop(data.index[index])"
   ]
  },
  {
   "cell_type": "code",
   "execution_count": 31,
   "id": "fc3a9a56",
   "metadata": {},
   "outputs": [],
   "source": [
    "Kilo_high = q3.Kilo_driven + (1.5*iqr.Kilo_driven)\n",
    "index = np.where(data['Kilo_driven']>Kilo_high)\n",
    "data = data.drop(data.index[index])"
   ]
  },
  {
   "cell_type": "code",
   "execution_count": 32,
   "id": "8e7056bc",
   "metadata": {},
   "outputs": [],
   "source": [
    "mileage_high = q3.Mileage + (1.5*iqr.Mileage)\n",
    "index = np.where(data['Mileage']>mileage_high)\n",
    "data = data.drop(data.index[index])"
   ]
  },
  {
   "cell_type": "code",
   "execution_count": 33,
   "id": "50999bf9",
   "metadata": {},
   "outputs": [],
   "source": [
    "price_high = q3.Price + (1.5*iqr.Price)\n",
    "index = np.where(data['Price']>price_high)\n",
    "data = data.drop(data.index[index])"
   ]
  },
  {
   "cell_type": "code",
   "execution_count": 34,
   "id": "3905ed76",
   "metadata": {},
   "outputs": [
    {
     "data": {
      "image/png": "[encoded data removed]",
      "text/plain": [
       "<Figure size 720x432 with 4 Axes>"
      ]
     },
     "metadata": {
      "needs_background": "light"
     },
     "output_type": "display_data"
    }
   ],
   "source": [
    "data_cont = ['Engine', 'Kilo_driven', 'Mileage', 'Price']\n",
    "\n",
    "plt.figure(figsize = (10,6))\n",
    "plotnumber = 1\n",
    "\n",
    "for column in data[data_cont] :\n",
    "    if plotnumber <=4 :\n",
    "        ax = plt.subplot(2,2,plotnumber)\n",
    "        sns.distplot(data[data_cont][column])\n",
    "        plt.xlabel(column,fontsize = 15)\n",
    "    plotnumber +=1\n",
    "plt.tight_layout()"
   ]
  },
  {
   "cell_type": "code",
   "execution_count": 35,
   "id": "3bb4afd8",
   "metadata": {},
   "outputs": [
    {
     "data": {
      "text/plain": [
       "Brand          0.275861\n",
       "Engine         1.066094\n",
       "No_of_owner    1.309527\n",
       "Insurance      1.905156\n",
       "Year          -0.765750\n",
       "Kilo_driven    0.215339\n",
       "Fuel_type     -0.752882\n",
       "Mileage        0.016684\n",
       "Price          1.219845\n",
       "dtype: float64"
      ]
     },
     "execution_count": 35,
     "metadata": {},
     "output_type": "execute_result"
    }
   ],
   "source": [
    "data.skew()"
   ]
  },
  {
   "cell_type": "code",
   "execution_count": 36,
   "id": "08ebcd77",
   "metadata": {},
   "outputs": [
    {
     "data": {
      "text/plain": [
       "Brand          0.275861\n",
       "Engine         0.073084\n",
       "No_of_owner    1.309527\n",
       "Insurance      1.905156\n",
       "Year          -0.579891\n",
       "Kilo_driven    0.215339\n",
       "Fuel_type     -0.752882\n",
       "Mileage        0.016684\n",
       "Price          0.008072\n",
       "dtype: float64"
      ]
     },
     "execution_count": 36,
     "metadata": {},
     "output_type": "execute_result"
    }
   ],
   "source": [
    "data_skew = ['Engine','Year','Price']\n",
    "from sklearn.preprocessing import PowerTransformer\n",
    "scaler = PowerTransformer(method = 'yeo-johnson')\n",
    "data[data_skew] = scaler.fit_transform(data[data_skew].values)\n",
    "data.skew()"
   ]
  },
  {
   "cell_type": "code",
   "execution_count": 37,
   "id": "ef0e8918",
   "metadata": {},
   "outputs": [],
   "source": [
    "x = data.drop('Price', axis = 1)\n",
    "y = data['Price']"
   ]
  },
  {
   "cell_type": "code",
   "execution_count": 38,
   "id": "5a5480d6",
   "metadata": {},
   "outputs": [
    {
     "name": "stdout",
     "output_type": "stream",
     "text": [
      "Requirement already satisfied: xgboost in c:\\users\\hp\\anaconda3\\lib\\site-packages (1.6.1)\n",
      "Requirement already satisfied: numpy in c:\\users\\hp\\anaconda3\\lib\\site-packages (from xgboost) (1.20.3)\n",
      "Requirement already satisfied: scipy in c:\\users\\hp\\anaconda3\\lib\\site-packages (from xgboost) (1.7.1)\n"
     ]
    }
   ],
   "source": [
    "from sklearn.linear_model import LinearRegression\n",
    "from sklearn.svm import SVR\n",
    "import sys\n",
    "from sklearn import metrics\n",
    "!{sys.executable} -m pip install xgboost\n",
    "import xgboost as xgb\n",
    "from sklearn.metrics import r2_score,mean_squared_error\n",
    "from sklearn.model_selection import train_test_split, cross_val_score\n",
    "from sklearn.preprocessing import StandardScaler"
   ]
  },
  {
   "cell_type": "code",
   "execution_count": 39,
   "id": "0b4969da",
   "metadata": {},
   "outputs": [],
   "source": [
    "lr = LinearRegression()\n",
    "xgb = xgb.XGBRegressor()\n",
    "svr = SVR()"
   ]
  },
  {
   "cell_type": "code",
   "execution_count": 40,
   "id": "87248e69",
   "metadata": {},
   "outputs": [],
   "source": [
    "scaler = StandardScaler()\n",
    "x_scaled = scaler.fit_transform(x)"
   ]
  },
  {
   "cell_type": "code",
   "execution_count": 41,
   "id": "b4b1a7f9",
   "metadata": {},
   "outputs": [
    {
     "name": "stdout",
     "output_type": "stream",
     "text": [
      "At random state 0, the training accuracy is : 0.9744230517952034\n",
      "At random state 0, the testing accuracy is : 0.8300202555506508\n",
      "\n",
      "At random state 1, the training accuracy is : 0.9735487980063758\n",
      "At random state 1, the testing accuracy is : 0.8648270850261377\n",
      "\n",
      "At random state 2, the training accuracy is : 0.9712621303438437\n",
      "At random state 2, the testing accuracy is : 0.8339276534715585\n",
      "\n",
      "At random state 3, the training accuracy is : 0.9731444710172994\n",
      "At random state 3, the testing accuracy is : 0.8315720948125362\n",
      "\n",
      "At random state 4, the training accuracy is : 0.9719209484118354\n",
      "At random state 4, the testing accuracy is : 0.8335642421648768\n",
      "\n",
      "At random state 5, the training accuracy is : 0.9758493140779758\n",
      "At random state 5, the testing accuracy is : 0.8568246780700577\n",
      "\n",
      "At random state 6, the training accuracy is : 0.9744869494051648\n",
      "At random state 6, the testing accuracy is : 0.8458246819479506\n",
      "\n",
      "At random state 7, the training accuracy is : 0.9730021281237595\n",
      "At random state 7, the testing accuracy is : 0.8177105773259488\n",
      "\n",
      "At random state 8, the training accuracy is : 0.9733740004529787\n",
      "At random state 8, the testing accuracy is : 0.8412337189346553\n",
      "\n",
      "At random state 9, the training accuracy is : 0.9744599099358788\n",
      "At random state 9, the testing accuracy is : 0.8047390091114263\n",
      "\n",
      "At random state 10, the training accuracy is : 0.9731961891341395\n",
      "At random state 10, the testing accuracy is : 0.8474467959703972\n",
      "\n",
      "At random state 11, the training accuracy is : 0.9726664404889293\n",
      "At random state 11, the testing accuracy is : 0.8596186870525849\n",
      "\n",
      "At random state 12, the training accuracy is : 0.9723548379948973\n",
      "At random state 12, the testing accuracy is : 0.835870099726059\n",
      "\n",
      "At random state 13, the training accuracy is : 0.9695604182774405\n",
      "At random state 13, the testing accuracy is : 0.878267427066468\n",
      "\n",
      "At random state 14, the training accuracy is : 0.9764168791107295\n",
      "At random state 14, the testing accuracy is : 0.8510177863777048\n",
      "\n",
      "At random state 15, the training accuracy is : 0.9750089953155473\n",
      "At random state 15, the testing accuracy is : 0.8440983407211293\n",
      "\n",
      "At random state 16, the training accuracy is : 0.974569194730914\n",
      "At random state 16, the testing accuracy is : 0.8390943995568296\n",
      "\n",
      "At random state 17, the training accuracy is : 0.9766265634892898\n",
      "At random state 17, the testing accuracy is : 0.8327071310229012\n",
      "\n",
      "At random state 18, the training accuracy is : 0.9765097472706735\n",
      "At random state 18, the testing accuracy is : 0.8283034064062865\n",
      "\n",
      "At random state 19, the training accuracy is : 0.9757556801242429\n",
      "At random state 19, the testing accuracy is : 0.8639293878637364\n",
      "\n"
     ]
    }
   ],
   "source": [
    "for i in range(0,20):\n",
    "    x_train,x_test,y_train,y_test = train_test_split(x_scaled,y,test_size = 0.25, random_state = i)\n",
    "    xgb.fit(x_train,y_train)\n",
    "    y_train_pred = xgb.predict(x_train)\n",
    "    y_test_pred = xgb.predict(x_test)\n",
    "    print(f\"At random state {i}, the training accuracy is : {r2_score(y_train,y_train_pred)}\")\n",
    "    print(f\"At random state {i}, the testing accuracy is : {r2_score(y_test,y_test_pred)}\\n\")"
   ]
  },
  {
   "cell_type": "code",
   "execution_count": 42,
   "id": "41d4848c",
   "metadata": {},
   "outputs": [
    {
     "data": {
      "text/html": [
       "<style>#sk-container-id-1 {color: black;background-color: white;}#sk-container-id-1 pre{padding: 0;}#sk-container-id-1 div.sk-toggleable {background-color: white;}#sk-container-id-1 label.sk-toggleable__label {cursor: pointer;display: block;width: 100%;margin-bottom: 0;padding: 0.3em;box-sizing: border-box;text-align: center;}#sk-container-id-1 label.sk-toggleable__label-arrow:before {content: \"▸\";float: left;margin-right: 0.25em;color: #696969;}#sk-container-id-1 label.sk-toggleable__label-arrow:hover:before {color: black;}#sk-container-id-1 div.sk-estimator:hover label.sk-toggleable__label-arrow:before {color: black;}#sk-container-id-1 div.sk-toggleable__content {max-height: 0;max-width: 0;overflow: hidden;text-align: left;background-color: #f0f8ff;}#sk-container-id-1 div.sk-toggleable__content pre {margin: 0.2em;color: black;border-radius: 0.25em;background-color: #f0f8ff;}#sk-container-id-1 input.sk-toggleable__control:checked~div.sk-toggleable__content {max-height: 200px;max-width: 100%;overflow: auto;}#sk-container-id-1 input.sk-toggleable__control:checked~label.sk-toggleable__label-arrow:before {content: \"▾\";}#sk-container-id-1 div.sk-estimator input.sk-toggleable__control:checked~label.sk-toggleable__label {background-color: #d4ebff;}#sk-container-id-1 div.sk-label input.sk-toggleable__control:checked~label.sk-toggleable__label {background-color: #d4ebff;}#sk-container-id-1 input.sk-hidden--visually {border: 0;clip: rect(1px 1px 1px 1px);clip: rect(1px, 1px, 1px, 1px);height: 1px;margin: -1px;overflow: hidden;padding: 0;position: absolute;width: 1px;}#sk-container-id-1 div.sk-estimator {font-family: monospace;background-color: #f0f8ff;border: 1px dotted black;border-radius: 0.25em;box-sizing: border-box;margin-bottom: 0.5em;}#sk-container-id-1 div.sk-estimator:hover {background-color: #d4ebff;}#sk-container-id-1 div.sk-parallel-item::after {content: \"\";width: 100%;border-bottom: 1px solid gray;flex-grow: 1;}#sk-container-id-1 div.sk-label:hover label.sk-toggleable__label {background-color: #d4ebff;}#sk-container-id-1 div.sk-serial::before {content: \"\";position: absolute;border-left: 1px solid gray;box-sizing: border-box;top: 0;bottom: 0;left: 50%;z-index: 0;}#sk-container-id-1 div.sk-serial {display: flex;flex-direction: column;align-items: center;background-color: white;padding-right: 0.2em;padding-left: 0.2em;position: relative;}#sk-container-id-1 div.sk-item {position: relative;z-index: 1;}#sk-container-id-1 div.sk-parallel {display: flex;align-items: stretch;justify-content: center;background-color: white;position: relative;}#sk-container-id-1 div.sk-item::before, #sk-container-id-1 div.sk-parallel-item::before {content: \"\";position: absolute;border-left: 1px solid gray;box-sizing: border-box;top: 0;bottom: 0;left: 50%;z-index: -1;}#sk-container-id-1 div.sk-parallel-item {display: flex;flex-direction: column;z-index: 1;position: relative;background-color: white;}#sk-container-id-1 div.sk-parallel-item:first-child::after {align-self: flex-end;width: 50%;}#sk-container-id-1 div.sk-parallel-item:last-child::after {align-self: flex-start;width: 50%;}#sk-container-id-1 div.sk-parallel-item:only-child::after {width: 0;}#sk-container-id-1 div.sk-dashed-wrapped {border: 1px dashed gray;margin: 0 0.4em 0.5em 0.4em;box-sizing: border-box;padding-bottom: 0.4em;background-color: white;}#sk-container-id-1 div.sk-label label {font-family: monospace;font-weight: bold;display: inline-block;line-height: 1.2em;}#sk-container-id-1 div.sk-label-container {text-align: center;}#sk-container-id-1 div.sk-container {/* jupyter's `normalize.less` sets `[hidden] { display: none; }` but bootstrap.min.css set `[hidden] { display: none !important; }` so we also need the `!important` here to be able to override the default hidden behavior on the sphinx rendered scikit-learn.org. See: https://github.com/scikit-learn/scikit-learn/issues/21755 */display: inline-block !important;position: relative;}#sk-container-id-1 div.sk-text-repr-fallback {display: none;}</style><div id=\"sk-container-id-1\" class=\"sk-top-container\"><div class=\"sk-text-repr-fallback\"><pre>XGBRegressor(base_score=0.5, booster=&#x27;gbtree&#x27;, colsample_bylevel=1,\n",
       "             colsample_bynode=1, colsample_bytree=1, enable_categorical=False,\n",
       "             gamma=0, gpu_id=-1, importance_type=None,\n",
       "             interaction_constraints=&#x27;&#x27;, learning_rate=0.300000012,\n",
       "             max_delta_step=0, max_depth=6, min_child_weight=1, missing=nan,\n",
       "             monotone_constraints=&#x27;()&#x27;, n_estimators=100, n_jobs=12,\n",
       "             num_parallel_tree=1, predictor=&#x27;auto&#x27;, random_state=0, reg_alpha=0,\n",
       "             reg_lambda=1, scale_pos_weight=1, subsample=1, tree_method=&#x27;exact&#x27;,\n",
       "             validate_parameters=1, verbosity=None)</pre><b>In a Jupyter environment, please rerun this cell to show the HTML representation or trust the notebook. <br />On GitHub, the HTML representation is unable to render, please try loading this page with nbviewer.org.</b></div><div class=\"sk-container\" hidden><div class=\"sk-item\"><div class=\"sk-estimator sk-toggleable\"><input class=\"sk-toggleable__control sk-hidden--visually\" id=\"sk-estimator-id-1\" type=\"checkbox\" checked><label for=\"sk-estimator-id-1\" class=\"sk-toggleable__label sk-toggleable__label-arrow\">XGBRegressor</label><div class=\"sk-toggleable__content\"><pre>XGBRegressor(base_score=0.5, booster=&#x27;gbtree&#x27;, colsample_bylevel=1,\n",
       "             colsample_bynode=1, colsample_bytree=1, enable_categorical=False,\n",
       "             gamma=0, gpu_id=-1, importance_type=None,\n",
       "             interaction_constraints=&#x27;&#x27;, learning_rate=0.300000012,\n",
       "             max_delta_step=0, max_depth=6, min_child_weight=1, missing=nan,\n",
       "             monotone_constraints=&#x27;()&#x27;, n_estimators=100, n_jobs=12,\n",
       "             num_parallel_tree=1, predictor=&#x27;auto&#x27;, random_state=0, reg_alpha=0,\n",
       "             reg_lambda=1, scale_pos_weight=1, subsample=1, tree_method=&#x27;exact&#x27;,\n",
       "             validate_parameters=1, verbosity=None)</pre></div></div></div></div></div>"
      ],
      "text/plain": [
       "XGBRegressor(base_score=0.5, booster='gbtree', colsample_bylevel=1,\n",
       "             colsample_bynode=1, colsample_bytree=1, enable_categorical=False,\n",
       "             gamma=0, gpu_id=-1, importance_type=None,\n",
       "             interaction_constraints='', learning_rate=0.300000012,\n",
       "             max_delta_step=0, max_depth=6, min_child_weight=1, missing=nan,\n",
       "             monotone_constraints='()', n_estimators=100, n_jobs=12,\n",
       "             num_parallel_tree=1, predictor='auto', random_state=0, reg_alpha=0,\n",
       "             reg_lambda=1, scale_pos_weight=1, subsample=1, tree_method='exact',\n",
       "             validate_parameters=1, verbosity=None)"
      ]
     },
     "execution_count": 42,
     "metadata": {},
     "output_type": "execute_result"
    }
   ],
   "source": [
    "x_train,x_test,y_train,y_test = train_test_split(x_scaled,y,test_size = 0.25, random_state = 13)\n",
    "xgb.fit(x_train, y_train)"
   ]
  },
  {
   "cell_type": "code",
   "execution_count": 43,
   "id": "3fc3000b",
   "metadata": {},
   "outputs": [
    {
     "name": "stdout",
     "output_type": "stream",
     "text": [
      "The accuracy score is 87.83 %\n"
     ]
    }
   ],
   "source": [
    "y_test_pred = xgb.predict(x_test)\n",
    "print(f\"The accuracy score is {r2_score(y_test,y_test_pred)*100:.2f} %\")"
   ]
  },
  {
   "cell_type": "markdown",
   "id": "3d510e3b",
   "metadata": {},
   "source": [
    "## Cross Validation"
   ]
  },
  {
   "cell_type": "code",
   "execution_count": 44,
   "id": "32e46ddc",
   "metadata": {},
   "outputs": [
    {
     "name": "stdout",
     "output_type": "stream",
     "text": [
      "At cv = 2,cv_score = 73.3264 and accuracy for testing = 87.8267\n",
      "\n",
      "At cv = 3,cv_score = 79.9254 and accuracy for testing = 87.8267\n",
      "\n",
      "At cv = 4,cv_score = 78.9013 and accuracy for testing = 87.8267\n",
      "\n",
      "At cv = 5,cv_score = 79.9138 and accuracy for testing = 87.8267\n",
      "\n",
      "At cv = 6,cv_score = 81.2306 and accuracy for testing = 87.8267\n",
      "\n",
      "At cv = 7,cv_score = 81.7630 and accuracy for testing = 87.8267\n",
      "\n",
      "At cv = 8,cv_score = 82.1168 and accuracy for testing = 87.8267\n",
      "\n",
      "At cv = 9,cv_score = 81.5586 and accuracy for testing = 87.8267\n",
      "\n",
      "At cv = 10,cv_score = 81.6145 and accuracy for testing = 87.8267\n",
      "\n",
      "At cv = 11,cv_score = 82.2031 and accuracy for testing = 87.8267\n",
      "\n",
      "At cv = 12,cv_score = 82.0887 and accuracy for testing = 87.8267\n",
      "\n",
      "At cv = 13,cv_score = 81.9663 and accuracy for testing = 87.8267\n",
      "\n",
      "At cv = 14,cv_score = 82.5877 and accuracy for testing = 87.8267\n",
      "\n"
     ]
    }
   ],
   "source": [
    "test_acc = r2_score(y_test,y_test_pred)\n",
    "\n",
    "for i in range (2,15):\n",
    "    cv_score = cross_val_score(xgb,x_scaled,y,cv = i)\n",
    "    cv_mean  = cv_score.mean()\n",
    "    print(f\"At cv = {i},cv_score = {cv_mean*100:.4f} and accuracy for testing = {test_acc*100:.4f}\\n\")"
   ]
  },
  {
   "cell_type": "code",
   "execution_count": 45,
   "id": "3656d229",
   "metadata": {},
   "outputs": [
    {
     "data": {
      "text/plain": [
       "0.8258767408560568"
      ]
     },
     "execution_count": 45,
     "metadata": {},
     "output_type": "execute_result"
    }
   ],
   "source": [
    "cv_score = cross_val_score(xgb,x_scaled,y,cv = 14)\n",
    "cv_mean = cv_score.mean()\n",
    "cv_mean"
   ]
  },
  {
   "cell_type": "markdown",
   "id": "b29061fc",
   "metadata": {},
   "source": [
    "# Regularization\n",
    "\n",
    "## L1 form"
   ]
  },
  {
   "cell_type": "code",
   "execution_count": 46,
   "id": "96ca5169",
   "metadata": {},
   "outputs": [
    {
     "data": {
      "text/html": [
       "<style>#sk-container-id-2 {color: black;background-color: white;}#sk-container-id-2 pre{padding: 0;}#sk-container-id-2 div.sk-toggleable {background-color: white;}#sk-container-id-2 label.sk-toggleable__label {cursor: pointer;display: block;width: 100%;margin-bottom: 0;padding: 0.3em;box-sizing: border-box;text-align: center;}#sk-container-id-2 label.sk-toggleable__label-arrow:before {content: \"▸\";float: left;margin-right: 0.25em;color: #696969;}#sk-container-id-2 label.sk-toggleable__label-arrow:hover:before {color: black;}#sk-container-id-2 div.sk-estimator:hover label.sk-toggleable__label-arrow:before {color: black;}#sk-container-id-2 div.sk-toggleable__content {max-height: 0;max-width: 0;overflow: hidden;text-align: left;background-color: #f0f8ff;}#sk-container-id-2 div.sk-toggleable__content pre {margin: 0.2em;color: black;border-radius: 0.25em;background-color: #f0f8ff;}#sk-container-id-2 input.sk-toggleable__control:checked~div.sk-toggleable__content {max-height: 200px;max-width: 100%;overflow: auto;}#sk-container-id-2 input.sk-toggleable__control:checked~label.sk-toggleable__label-arrow:before {content: \"▾\";}#sk-container-id-2 div.sk-estimator input.sk-toggleable__control:checked~label.sk-toggleable__label {background-color: #d4ebff;}#sk-container-id-2 div.sk-label input.sk-toggleable__control:checked~label.sk-toggleable__label {background-color: #d4ebff;}#sk-container-id-2 input.sk-hidden--visually {border: 0;clip: rect(1px 1px 1px 1px);clip: rect(1px, 1px, 1px, 1px);height: 1px;margin: -1px;overflow: hidden;padding: 0;position: absolute;width: 1px;}#sk-container-id-2 div.sk-estimator {font-family: monospace;background-color: #f0f8ff;border: 1px dotted black;border-radius: 0.25em;box-sizing: border-box;margin-bottom: 0.5em;}#sk-container-id-2 div.sk-estimator:hover {background-color: #d4ebff;}#sk-container-id-2 div.sk-parallel-item::after {content: \"\";width: 100%;border-bottom: 1px solid gray;flex-grow: 1;}#sk-container-id-2 div.sk-label:hover label.sk-toggleable__label {background-color: #d4ebff;}#sk-container-id-2 div.sk-serial::before {content: \"\";position: absolute;border-left: 1px solid gray;box-sizing: border-box;top: 0;bottom: 0;left: 50%;z-index: 0;}#sk-container-id-2 div.sk-serial {display: flex;flex-direction: column;align-items: center;background-color: white;padding-right: 0.2em;padding-left: 0.2em;position: relative;}#sk-container-id-2 div.sk-item {position: relative;z-index: 1;}#sk-container-id-2 div.sk-parallel {display: flex;align-items: stretch;justify-content: center;background-color: white;position: relative;}#sk-container-id-2 div.sk-item::before, #sk-container-id-2 div.sk-parallel-item::before {content: \"\";position: absolute;border-left: 1px solid gray;box-sizing: border-box;top: 0;bottom: 0;left: 50%;z-index: -1;}#sk-container-id-2 div.sk-parallel-item {display: flex;flex-direction: column;z-index: 1;position: relative;background-color: white;}#sk-container-id-2 div.sk-parallel-item:first-child::after {align-self: flex-end;width: 50%;}#sk-container-id-2 div.sk-parallel-item:last-child::after {align-self: flex-start;width: 50%;}#sk-container-id-2 div.sk-parallel-item:only-child::after {width: 0;}#sk-container-id-2 div.sk-dashed-wrapped {border: 1px dashed gray;margin: 0 0.4em 0.5em 0.4em;box-sizing: border-box;padding-bottom: 0.4em;background-color: white;}#sk-container-id-2 div.sk-label label {font-family: monospace;font-weight: bold;display: inline-block;line-height: 1.2em;}#sk-container-id-2 div.sk-label-container {text-align: center;}#sk-container-id-2 div.sk-container {/* jupyter's `normalize.less` sets `[hidden] { display: none; }` but bootstrap.min.css set `[hidden] { display: none !important; }` so we also need the `!important` here to be able to override the default hidden behavior on the sphinx rendered scikit-learn.org. See: https://github.com/scikit-learn/scikit-learn/issues/21755 */display: inline-block !important;position: relative;}#sk-container-id-2 div.sk-text-repr-fallback {display: none;}</style><div id=\"sk-container-id-2\" class=\"sk-top-container\"><div class=\"sk-text-repr-fallback\"><pre>LassoCV(max_iter=2, normalize=True)</pre><b>In a Jupyter environment, please rerun this cell to show the HTML representation or trust the notebook. <br />On GitHub, the HTML representation is unable to render, please try loading this page with nbviewer.org.</b></div><div class=\"sk-container\" hidden><div class=\"sk-item\"><div class=\"sk-estimator sk-toggleable\"><input class=\"sk-toggleable__control sk-hidden--visually\" id=\"sk-estimator-id-2\" type=\"checkbox\" checked><label for=\"sk-estimator-id-2\" class=\"sk-toggleable__label sk-toggleable__label-arrow\">LassoCV</label><div class=\"sk-toggleable__content\"><pre>LassoCV(max_iter=2, normalize=True)</pre></div></div></div></div></div>"
      ],
      "text/plain": [
       "LassoCV(max_iter=2, normalize=True)"
      ]
     },
     "execution_count": 46,
     "metadata": {},
     "output_type": "execute_result"
    }
   ],
   "source": [
    "from sklearn.linear_model import Ridge, Lasso, RidgeCV, LassoCV \n",
    "lasscv = LassoCV(alphas = None, max_iter = 2, normalize = True)\n",
    "lasscv.fit(x_train,y_train)"
   ]
  },
  {
   "cell_type": "code",
   "execution_count": 47,
   "id": "fe68869f",
   "metadata": {},
   "outputs": [
    {
     "data": {
      "text/plain": [
       "9.134538983374582e-06"
      ]
     },
     "execution_count": 47,
     "metadata": {},
     "output_type": "execute_result"
    }
   ],
   "source": [
    "alpha = lasscv.alpha_\n",
    "alpha"
   ]
  },
  {
   "cell_type": "code",
   "execution_count": 48,
   "id": "204042f2",
   "metadata": {},
   "outputs": [
    {
     "data": {
      "text/html": [
       "<style>#sk-container-id-3 {color: black;background-color: white;}#sk-container-id-3 pre{padding: 0;}#sk-container-id-3 div.sk-toggleable {background-color: white;}#sk-container-id-3 label.sk-toggleable__label {cursor: pointer;display: block;width: 100%;margin-bottom: 0;padding: 0.3em;box-sizing: border-box;text-align: center;}#sk-container-id-3 label.sk-toggleable__label-arrow:before {content: \"▸\";float: left;margin-right: 0.25em;color: #696969;}#sk-container-id-3 label.sk-toggleable__label-arrow:hover:before {color: black;}#sk-container-id-3 div.sk-estimator:hover label.sk-toggleable__label-arrow:before {color: black;}#sk-container-id-3 div.sk-toggleable__content {max-height: 0;max-width: 0;overflow: hidden;text-align: left;background-color: #f0f8ff;}#sk-container-id-3 div.sk-toggleable__content pre {margin: 0.2em;color: black;border-radius: 0.25em;background-color: #f0f8ff;}#sk-container-id-3 input.sk-toggleable__control:checked~div.sk-toggleable__content {max-height: 200px;max-width: 100%;overflow: auto;}#sk-container-id-3 input.sk-toggleable__control:checked~label.sk-toggleable__label-arrow:before {content: \"▾\";}#sk-container-id-3 div.sk-estimator input.sk-toggleable__control:checked~label.sk-toggleable__label {background-color: #d4ebff;}#sk-container-id-3 div.sk-label input.sk-toggleable__control:checked~label.sk-toggleable__label {background-color: #d4ebff;}#sk-container-id-3 input.sk-hidden--visually {border: 0;clip: rect(1px 1px 1px 1px);clip: rect(1px, 1px, 1px, 1px);height: 1px;margin: -1px;overflow: hidden;padding: 0;position: absolute;width: 1px;}#sk-container-id-3 div.sk-estimator {font-family: monospace;background-color: #f0f8ff;border: 1px dotted black;border-radius: 0.25em;box-sizing: border-box;margin-bottom: 0.5em;}#sk-container-id-3 div.sk-estimator:hover {background-color: #d4ebff;}#sk-container-id-3 div.sk-parallel-item::after {content: \"\";width: 100%;border-bottom: 1px solid gray;flex-grow: 1;}#sk-container-id-3 div.sk-label:hover label.sk-toggleable__label {background-color: #d4ebff;}#sk-container-id-3 div.sk-serial::before {content: \"\";position: absolute;border-left: 1px solid gray;box-sizing: border-box;top: 0;bottom: 0;left: 50%;z-index: 0;}#sk-container-id-3 div.sk-serial {display: flex;flex-direction: column;align-items: center;background-color: white;padding-right: 0.2em;padding-left: 0.2em;position: relative;}#sk-container-id-3 div.sk-item {position: relative;z-index: 1;}#sk-container-id-3 div.sk-parallel {display: flex;align-items: stretch;justify-content: center;background-color: white;position: relative;}#sk-container-id-3 div.sk-item::before, #sk-container-id-3 div.sk-parallel-item::before {content: \"\";position: absolute;border-left: 1px solid gray;box-sizing: border-box;top: 0;bottom: 0;left: 50%;z-index: -1;}#sk-container-id-3 div.sk-parallel-item {display: flex;flex-direction: column;z-index: 1;position: relative;background-color: white;}#sk-container-id-3 div.sk-parallel-item:first-child::after {align-self: flex-end;width: 50%;}#sk-container-id-3 div.sk-parallel-item:last-child::after {align-self: flex-start;width: 50%;}#sk-container-id-3 div.sk-parallel-item:only-child::after {width: 0;}#sk-container-id-3 div.sk-dashed-wrapped {border: 1px dashed gray;margin: 0 0.4em 0.5em 0.4em;box-sizing: border-box;padding-bottom: 0.4em;background-color: white;}#sk-container-id-3 div.sk-label label {font-family: monospace;font-weight: bold;display: inline-block;line-height: 1.2em;}#sk-container-id-3 div.sk-label-container {text-align: center;}#sk-container-id-3 div.sk-container {/* jupyter's `normalize.less` sets `[hidden] { display: none; }` but bootstrap.min.css set `[hidden] { display: none !important; }` so we also need the `!important` here to be able to override the default hidden behavior on the sphinx rendered scikit-learn.org. See: https://github.com/scikit-learn/scikit-learn/issues/21755 */display: inline-block !important;position: relative;}#sk-container-id-3 div.sk-text-repr-fallback {display: none;}</style><div id=\"sk-container-id-3\" class=\"sk-top-container\"><div class=\"sk-text-repr-fallback\"><pre>Lasso(alpha=9.134538983374582e-06)</pre><b>In a Jupyter environment, please rerun this cell to show the HTML representation or trust the notebook. <br />On GitHub, the HTML representation is unable to render, please try loading this page with nbviewer.org.</b></div><div class=\"sk-container\" hidden><div class=\"sk-item\"><div class=\"sk-estimator sk-toggleable\"><input class=\"sk-toggleable__control sk-hidden--visually\" id=\"sk-estimator-id-3\" type=\"checkbox\" checked><label for=\"sk-estimator-id-3\" class=\"sk-toggleable__label sk-toggleable__label-arrow\">Lasso</label><div class=\"sk-toggleable__content\"><pre>Lasso(alpha=9.134538983374582e-06)</pre></div></div></div></div></div>"
      ],
      "text/plain": [
       "Lasso(alpha=9.134538983374582e-06)"
      ]
     },
     "execution_count": 48,
     "metadata": {},
     "output_type": "execute_result"
    }
   ],
   "source": [
    "lasso_reg = Lasso(alpha)\n",
    "lasso_reg.fit(x_train,y_train)"
   ]
  },
  {
   "cell_type": "code",
   "execution_count": 49,
   "id": "bf714eaa",
   "metadata": {},
   "outputs": [
    {
     "data": {
      "text/plain": [
       "0.6261093815046923"
      ]
     },
     "execution_count": 49,
     "metadata": {},
     "output_type": "execute_result"
    }
   ],
   "source": [
    "lasso_reg.score(x_test,y_test)"
   ]
  },
  {
   "cell_type": "markdown",
   "id": "0ccd01c7",
   "metadata": {},
   "source": [
    "## L2 form"
   ]
  },
  {
   "cell_type": "code",
   "execution_count": 50,
   "id": "2c7e4a69",
   "metadata": {},
   "outputs": [
    {
     "data": {
      "text/html": [
       "<style>#sk-container-id-4 {color: black;background-color: white;}#sk-container-id-4 pre{padding: 0;}#sk-container-id-4 div.sk-toggleable {background-color: white;}#sk-container-id-4 label.sk-toggleable__label {cursor: pointer;display: block;width: 100%;margin-bottom: 0;padding: 0.3em;box-sizing: border-box;text-align: center;}#sk-container-id-4 label.sk-toggleable__label-arrow:before {content: \"▸\";float: left;margin-right: 0.25em;color: #696969;}#sk-container-id-4 label.sk-toggleable__label-arrow:hover:before {color: black;}#sk-container-id-4 div.sk-estimator:hover label.sk-toggleable__label-arrow:before {color: black;}#sk-container-id-4 div.sk-toggleable__content {max-height: 0;max-width: 0;overflow: hidden;text-align: left;background-color: #f0f8ff;}#sk-container-id-4 div.sk-toggleable__content pre {margin: 0.2em;color: black;border-radius: 0.25em;background-color: #f0f8ff;}#sk-container-id-4 input.sk-toggleable__control:checked~div.sk-toggleable__content {max-height: 200px;max-width: 100%;overflow: auto;}#sk-container-id-4 input.sk-toggleable__control:checked~label.sk-toggleable__label-arrow:before {content: \"▾\";}#sk-container-id-4 div.sk-estimator input.sk-toggleable__control:checked~label.sk-toggleable__label {background-color: #d4ebff;}#sk-container-id-4 div.sk-label input.sk-toggleable__control:checked~label.sk-toggleable__label {background-color: #d4ebff;}#sk-container-id-4 input.sk-hidden--visually {border: 0;clip: rect(1px 1px 1px 1px);clip: rect(1px, 1px, 1px, 1px);height: 1px;margin: -1px;overflow: hidden;padding: 0;position: absolute;width: 1px;}#sk-container-id-4 div.sk-estimator {font-family: monospace;background-color: #f0f8ff;border: 1px dotted black;border-radius: 0.25em;box-sizing: border-box;margin-bottom: 0.5em;}#sk-container-id-4 div.sk-estimator:hover {background-color: #d4ebff;}#sk-container-id-4 div.sk-parallel-item::after {content: \"\";width: 100%;border-bottom: 1px solid gray;flex-grow: 1;}#sk-container-id-4 div.sk-label:hover label.sk-toggleable__label {background-color: #d4ebff;}#sk-container-id-4 div.sk-serial::before {content: \"\";position: absolute;border-left: 1px solid gray;box-sizing: border-box;top: 0;bottom: 0;left: 50%;z-index: 0;}#sk-container-id-4 div.sk-serial {display: flex;flex-direction: column;align-items: center;background-color: white;padding-right: 0.2em;padding-left: 0.2em;position: relative;}#sk-container-id-4 div.sk-item {position: relative;z-index: 1;}#sk-container-id-4 div.sk-parallel {display: flex;align-items: stretch;justify-content: center;background-color: white;position: relative;}#sk-container-id-4 div.sk-item::before, #sk-container-id-4 div.sk-parallel-item::before {content: \"\";position: absolute;border-left: 1px solid gray;box-sizing: border-box;top: 0;bottom: 0;left: 50%;z-index: -1;}#sk-container-id-4 div.sk-parallel-item {display: flex;flex-direction: column;z-index: 1;position: relative;background-color: white;}#sk-container-id-4 div.sk-parallel-item:first-child::after {align-self: flex-end;width: 50%;}#sk-container-id-4 div.sk-parallel-item:last-child::after {align-self: flex-start;width: 50%;}#sk-container-id-4 div.sk-parallel-item:only-child::after {width: 0;}#sk-container-id-4 div.sk-dashed-wrapped {border: 1px dashed gray;margin: 0 0.4em 0.5em 0.4em;box-sizing: border-box;padding-bottom: 0.4em;background-color: white;}#sk-container-id-4 div.sk-label label {font-family: monospace;font-weight: bold;display: inline-block;line-height: 1.2em;}#sk-container-id-4 div.sk-label-container {text-align: center;}#sk-container-id-4 div.sk-container {/* jupyter's `normalize.less` sets `[hidden] { display: none; }` but bootstrap.min.css set `[hidden] { display: none !important; }` so we also need the `!important` here to be able to override the default hidden behavior on the sphinx rendered scikit-learn.org. See: https://github.com/scikit-learn/scikit-learn/issues/21755 */display: inline-block !important;position: relative;}#sk-container-id-4 div.sk-text-repr-fallback {display: none;}</style><div id=\"sk-container-id-4\" class=\"sk-top-container\"><div class=\"sk-text-repr-fallback\"><pre>RidgeCV(alphas=array([0.001, 0.011, 0.021, 0.031, 0.041, 0.051, 0.061, 0.071, 0.081,\n",
       "       0.091]),\n",
       "        normalize=True)</pre><b>In a Jupyter environment, please rerun this cell to show the HTML representation or trust the notebook. <br />On GitHub, the HTML representation is unable to render, please try loading this page with nbviewer.org.</b></div><div class=\"sk-container\" hidden><div class=\"sk-item\"><div class=\"sk-estimator sk-toggleable\"><input class=\"sk-toggleable__control sk-hidden--visually\" id=\"sk-estimator-id-4\" type=\"checkbox\" checked><label for=\"sk-estimator-id-4\" class=\"sk-toggleable__label sk-toggleable__label-arrow\">RidgeCV</label><div class=\"sk-toggleable__content\"><pre>RidgeCV(alphas=array([0.001, 0.011, 0.021, 0.031, 0.041, 0.051, 0.061, 0.071, 0.081,\n",
       "       0.091]),\n",
       "        normalize=True)</pre></div></div></div></div></div>"
      ],
      "text/plain": [
       "RidgeCV(alphas=array([0.001, 0.011, 0.021, 0.031, 0.041, 0.051, 0.061, 0.071, 0.081,\n",
       "       0.091]),\n",
       "        normalize=True)"
      ]
     },
     "execution_count": 50,
     "metadata": {},
     "output_type": "execute_result"
    }
   ],
   "source": [
    "# L2 form\n",
    "ridgecv = RidgeCV(alphas = np.arange(0.001,0.1,0.01),normalize = True) #arange = giving range for learning rate\n",
    "ridgecv.fit(x_train,y_train)"
   ]
  },
  {
   "cell_type": "code",
   "execution_count": 51,
   "id": "88fee821",
   "metadata": {},
   "outputs": [
    {
     "data": {
      "text/plain": [
       "0.020999999999999998"
      ]
     },
     "execution_count": 51,
     "metadata": {},
     "output_type": "execute_result"
    }
   ],
   "source": [
    "ridgecv.alpha_"
   ]
  },
  {
   "cell_type": "code",
   "execution_count": 52,
   "id": "b7636a95",
   "metadata": {},
   "outputs": [
    {
     "data": {
      "text/html": [
       "<style>#sk-container-id-5 {color: black;background-color: white;}#sk-container-id-5 pre{padding: 0;}#sk-container-id-5 div.sk-toggleable {background-color: white;}#sk-container-id-5 label.sk-toggleable__label {cursor: pointer;display: block;width: 100%;margin-bottom: 0;padding: 0.3em;box-sizing: border-box;text-align: center;}#sk-container-id-5 label.sk-toggleable__label-arrow:before {content: \"▸\";float: left;margin-right: 0.25em;color: #696969;}#sk-container-id-5 label.sk-toggleable__label-arrow:hover:before {color: black;}#sk-container-id-5 div.sk-estimator:hover label.sk-toggleable__label-arrow:before {color: black;}#sk-container-id-5 div.sk-toggleable__content {max-height: 0;max-width: 0;overflow: hidden;text-align: left;background-color: #f0f8ff;}#sk-container-id-5 div.sk-toggleable__content pre {margin: 0.2em;color: black;border-radius: 0.25em;background-color: #f0f8ff;}#sk-container-id-5 input.sk-toggleable__control:checked~div.sk-toggleable__content {max-height: 200px;max-width: 100%;overflow: auto;}#sk-container-id-5 input.sk-toggleable__control:checked~label.sk-toggleable__label-arrow:before {content: \"▾\";}#sk-container-id-5 div.sk-estimator input.sk-toggleable__control:checked~label.sk-toggleable__label {background-color: #d4ebff;}#sk-container-id-5 div.sk-label input.sk-toggleable__control:checked~label.sk-toggleable__label {background-color: #d4ebff;}#sk-container-id-5 input.sk-hidden--visually {border: 0;clip: rect(1px 1px 1px 1px);clip: rect(1px, 1px, 1px, 1px);height: 1px;margin: -1px;overflow: hidden;padding: 0;position: absolute;width: 1px;}#sk-container-id-5 div.sk-estimator {font-family: monospace;background-color: #f0f8ff;border: 1px dotted black;border-radius: 0.25em;box-sizing: border-box;margin-bottom: 0.5em;}#sk-container-id-5 div.sk-estimator:hover {background-color: #d4ebff;}#sk-container-id-5 div.sk-parallel-item::after {content: \"\";width: 100%;border-bottom: 1px solid gray;flex-grow: 1;}#sk-container-id-5 div.sk-label:hover label.sk-toggleable__label {background-color: #d4ebff;}#sk-container-id-5 div.sk-serial::before {content: \"\";position: absolute;border-left: 1px solid gray;box-sizing: border-box;top: 0;bottom: 0;left: 50%;z-index: 0;}#sk-container-id-5 div.sk-serial {display: flex;flex-direction: column;align-items: center;background-color: white;padding-right: 0.2em;padding-left: 0.2em;position: relative;}#sk-container-id-5 div.sk-item {position: relative;z-index: 1;}#sk-container-id-5 div.sk-parallel {display: flex;align-items: stretch;justify-content: center;background-color: white;position: relative;}#sk-container-id-5 div.sk-item::before, #sk-container-id-5 div.sk-parallel-item::before {content: \"\";position: absolute;border-left: 1px solid gray;box-sizing: border-box;top: 0;bottom: 0;left: 50%;z-index: -1;}#sk-container-id-5 div.sk-parallel-item {display: flex;flex-direction: column;z-index: 1;position: relative;background-color: white;}#sk-container-id-5 div.sk-parallel-item:first-child::after {align-self: flex-end;width: 50%;}#sk-container-id-5 div.sk-parallel-item:last-child::after {align-self: flex-start;width: 50%;}#sk-container-id-5 div.sk-parallel-item:only-child::after {width: 0;}#sk-container-id-5 div.sk-dashed-wrapped {border: 1px dashed gray;margin: 0 0.4em 0.5em 0.4em;box-sizing: border-box;padding-bottom: 0.4em;background-color: white;}#sk-container-id-5 div.sk-label label {font-family: monospace;font-weight: bold;display: inline-block;line-height: 1.2em;}#sk-container-id-5 div.sk-label-container {text-align: center;}#sk-container-id-5 div.sk-container {/* jupyter's `normalize.less` sets `[hidden] { display: none; }` but bootstrap.min.css set `[hidden] { display: none !important; }` so we also need the `!important` here to be able to override the default hidden behavior on the sphinx rendered scikit-learn.org. See: https://github.com/scikit-learn/scikit-learn/issues/21755 */display: inline-block !important;position: relative;}#sk-container-id-5 div.sk-text-repr-fallback {display: none;}</style><div id=\"sk-container-id-5\" class=\"sk-top-container\"><div class=\"sk-text-repr-fallback\"><pre>Ridge(alpha=0.020999999999999998)</pre><b>In a Jupyter environment, please rerun this cell to show the HTML representation or trust the notebook. <br />On GitHub, the HTML representation is unable to render, please try loading this page with nbviewer.org.</b></div><div class=\"sk-container\" hidden><div class=\"sk-item\"><div class=\"sk-estimator sk-toggleable\"><input class=\"sk-toggleable__control sk-hidden--visually\" id=\"sk-estimator-id-5\" type=\"checkbox\" checked><label for=\"sk-estimator-id-5\" class=\"sk-toggleable__label sk-toggleable__label-arrow\">Ridge</label><div class=\"sk-toggleable__content\"><pre>Ridge(alpha=0.020999999999999998)</pre></div></div></div></div></div>"
      ],
      "text/plain": [
       "Ridge(alpha=0.020999999999999998)"
      ]
     },
     "execution_count": 52,
     "metadata": {},
     "output_type": "execute_result"
    }
   ],
   "source": [
    "ridge_model = Ridge(ridgecv.alpha_)\n",
    "ridge_model.fit(x_train,y_train)"
   ]
  },
  {
   "cell_type": "code",
   "execution_count": 53,
   "id": "98a09d22",
   "metadata": {},
   "outputs": [
    {
     "data": {
      "text/plain": [
       "0.6261122046001555"
      ]
     },
     "execution_count": 53,
     "metadata": {},
     "output_type": "execute_result"
    }
   ],
   "source": [
    "ridge_model.score(x_test,y_test)"
   ]
  },
  {
   "cell_type": "markdown",
   "id": "58093219",
   "metadata": {},
   "source": [
    "### L1 and L2  are both around 0.6261 and they do not differ much, so our model does not overfit\n",
    "\n",
    "## Model Evaluation"
   ]
  },
  {
   "cell_type": "code",
   "execution_count": 54,
   "id": "df6eb626",
   "metadata": {},
   "outputs": [],
   "source": [
    "from sklearn.metrics import mean_squared_error, mean_absolute_error"
   ]
  },
  {
   "cell_type": "code",
   "execution_count": 55,
   "id": "e6ca4075",
   "metadata": {},
   "outputs": [
    {
     "data": {
      "text/plain": [
       "0.25551558858166257"
      ]
     },
     "execution_count": 55,
     "metadata": {},
     "output_type": "execute_result"
    }
   ],
   "source": [
    "y_pred = xgb.predict(x_test)\n",
    "mean_absolute_error(y_test,y_pred)"
   ]
  },
  {
   "cell_type": "code",
   "execution_count": 56,
   "id": "6c332d1b",
   "metadata": {},
   "outputs": [
    {
     "data": {
      "text/plain": [
       "0.1253530620546944"
      ]
     },
     "execution_count": 56,
     "metadata": {},
     "output_type": "execute_result"
    }
   ],
   "source": [
    "mean_squared_error(y_test,y_pred)"
   ]
  },
  {
   "cell_type": "code",
   "execution_count": 57,
   "id": "64b74da0",
   "metadata": {},
   "outputs": [
    {
     "data": {
      "text/plain": [
       "0.35405234366502136"
      ]
     },
     "execution_count": 57,
     "metadata": {},
     "output_type": "execute_result"
    }
   ],
   "source": [
    "np.sqrt(mean_squared_error(y_test,y_pred))"
   ]
  },
  {
   "cell_type": "markdown",
   "id": "c18377fe",
   "metadata": {},
   "source": [
    "## Saving the model"
   ]
  },
  {
   "cell_type": "code",
   "execution_count": 58,
   "id": "bb49e824",
   "metadata": {},
   "outputs": [],
   "source": [
    "import pickle\n",
    "filename = 'car_price_prediction.pickle'\n",
    "\n",
    "pickle.dump(xgb,open(filename,'wb'))"
   ]
  },
  {
   "cell_type": "markdown",
   "id": "448d6312",
   "metadata": {},
   "source": [
    "## Scatter plot between actual and predicted price"
   ]
  },
  {
   "cell_type": "code",
   "execution_count": 59,
   "id": "40bc722f",
   "metadata": {},
   "outputs": [
    {
     "data": {
      "text/plain": [
       "Text(0.5, 1.0, 'Predicted vs Actual model')"
      ]
     },
     "execution_count": 59,
     "metadata": {},
     "output_type": "execute_result"
    },
    {
     "data": {
      "image/png": "[encoded data removed]",
      "text/plain": [
       "<Figure size 432x288 with 1 Axes>"
      ]
     },
     "metadata": {
      "needs_background": "light"
     },
     "output_type": "display_data"
    }
   ],
   "source": [
    "plt.scatter(y_test,y_test_pred)\n",
    "plt.xlabel('Actual price')\n",
    "plt.ylabel('Predicted price')\n",
    "plt.title('Predicted vs Actual model')"
   ]
  },
  {
   "cell_type": "code",
   "execution_count": null,
   "id": "9f1738e5",
   "metadata": {},
   "outputs": [],
   "source": []
  }
 ],
 "metadata": {
  "kernelspec": {
   "display_name": "Python 3 (ipykernel)",
   "language": "python",
   "name": "python3"
  },
  "language_info": {
   "codemirror_mode": {
    "name": "ipython",
    "version": 3
   },
   "file_extension": ".py",
   "mimetype": "text/x-python",
   "name": "python",
   "nbconvert_exporter": "python",
   "pygments_lexer": "ipython3",
   "version": "3.9.7"
  }
 },
 "nbformat": 4,
 "nbformat_minor": 5
}
