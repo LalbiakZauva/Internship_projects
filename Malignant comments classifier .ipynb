{
 "cells": [
  {
   "cell_type": "code",
   "execution_count": 1,
   "id": "6db2fd79",
   "metadata": {},
   "outputs": [],
   "source": [
    "import numpy as np\n",
    "import pandas as pd\n",
    "import seaborn as sns\n",
    "import matplotlib.pyplot as plt\n",
    "import warnings\n",
    "warnings.filterwarnings('ignore')"
   ]
  },
  {
   "cell_type": "code",
   "execution_count": 2,
   "id": "839f8154",
   "metadata": {},
   "outputs": [
    {
     "data": {
      "text/html": [
       "<div>\n",
       "<style scoped>\n",
       "    .dataframe tbody tr th:only-of-type {\n",
       "        vertical-align: middle;\n",
       "    }\n",
       "\n",
       "    .dataframe tbody tr th {\n",
       "        vertical-align: top;\n",
       "    }\n",
       "\n",
       "    .dataframe thead th {\n",
       "        text-align: right;\n",
       "    }\n",
       "</style>\n",
       "<table border=\"1\" class=\"dataframe\">\n",
       "  <thead>\n",
       "    <tr style=\"text-align: right;\">\n",
       "      <th></th>\n",
       "      <th>id</th>\n",
       "      <th>comment_text</th>\n",
       "      <th>malignant</th>\n",
       "      <th>highly_malignant</th>\n",
       "      <th>rude</th>\n",
       "      <th>threat</th>\n",
       "      <th>abuse</th>\n",
       "      <th>loathe</th>\n",
       "    </tr>\n",
       "  </thead>\n",
       "  <tbody>\n",
       "    <tr>\n",
       "      <th>0</th>\n",
       "      <td>0000997932d777bf</td>\n",
       "      <td>Explanation\\nWhy the edits made under my usern...</td>\n",
       "      <td>0</td>\n",
       "      <td>0</td>\n",
       "      <td>0</td>\n",
       "      <td>0</td>\n",
       "      <td>0</td>\n",
       "      <td>0</td>\n",
       "    </tr>\n",
       "    <tr>\n",
       "      <th>1</th>\n",
       "      <td>000103f0d9cfb60f</td>\n",
       "      <td>D'aww! He matches this background colour I'm s...</td>\n",
       "      <td>0</td>\n",
       "      <td>0</td>\n",
       "      <td>0</td>\n",
       "      <td>0</td>\n",
       "      <td>0</td>\n",
       "      <td>0</td>\n",
       "    </tr>\n",
       "    <tr>\n",
       "      <th>2</th>\n",
       "      <td>000113f07ec002fd</td>\n",
       "      <td>Hey man, I'm really not trying to edit war. It...</td>\n",
       "      <td>0</td>\n",
       "      <td>0</td>\n",
       "      <td>0</td>\n",
       "      <td>0</td>\n",
       "      <td>0</td>\n",
       "      <td>0</td>\n",
       "    </tr>\n",
       "    <tr>\n",
       "      <th>3</th>\n",
       "      <td>0001b41b1c6bb37e</td>\n",
       "      <td>\"\\nMore\\nI can't make any real suggestions on ...</td>\n",
       "      <td>0</td>\n",
       "      <td>0</td>\n",
       "      <td>0</td>\n",
       "      <td>0</td>\n",
       "      <td>0</td>\n",
       "      <td>0</td>\n",
       "    </tr>\n",
       "    <tr>\n",
       "      <th>4</th>\n",
       "      <td>0001d958c54c6e35</td>\n",
       "      <td>You, sir, are my hero. Any chance you remember...</td>\n",
       "      <td>0</td>\n",
       "      <td>0</td>\n",
       "      <td>0</td>\n",
       "      <td>0</td>\n",
       "      <td>0</td>\n",
       "      <td>0</td>\n",
       "    </tr>\n",
       "  </tbody>\n",
       "</table>\n",
       "</div>"
      ],
      "text/plain": [
       "                 id                                       comment_text  \\\n",
       "0  0000997932d777bf  Explanation\\nWhy the edits made under my usern...   \n",
       "1  000103f0d9cfb60f  D'aww! He matches this background colour I'm s...   \n",
       "2  000113f07ec002fd  Hey man, I'm really not trying to edit war. It...   \n",
       "3  0001b41b1c6bb37e  \"\\nMore\\nI can't make any real suggestions on ...   \n",
       "4  0001d958c54c6e35  You, sir, are my hero. Any chance you remember...   \n",
       "\n",
       "   malignant  highly_malignant  rude  threat  abuse  loathe  \n",
       "0          0                 0     0       0      0       0  \n",
       "1          0                 0     0       0      0       0  \n",
       "2          0                 0     0       0      0       0  \n",
       "3          0                 0     0       0      0       0  \n",
       "4          0                 0     0       0      0       0  "
      ]
     },
     "execution_count": 2,
     "metadata": {},
     "output_type": "execute_result"
    }
   ],
   "source": [
    "train_data = pd.read_csv('C:/Users/HP/Documents/DataTrained/Intern Assignments/Questions/Malignant-Comments-Classifier-Project/Malignant Comments Classifier Project/train.csv')\n",
    "train_data.head()"
   ]
  },
  {
   "cell_type": "code",
   "execution_count": 1,
   "id": "830d2bea",
   "metadata": {},
   "outputs": [
    {
     "ename": "NameError",
     "evalue": "name 'train_data' is not defined",
     "output_type": "error",
     "traceback": [
      "\u001b[1;31m---------------------------------------------------------------------------\u001b[0m",
      "\u001b[1;31mNameError\u001b[0m                                 Traceback (most recent call last)",
      "\u001b[1;32m~\\AppData\\Local\\Temp/ipykernel_13264/2323419050.py\u001b[0m in \u001b[0;36m<module>\u001b[1;34m\u001b[0m\n\u001b[1;32m----> 1\u001b[1;33m \u001b[0mtrain_data\u001b[0m \u001b[1;33m=\u001b[0m \u001b[0mtrain_data\u001b[0m\u001b[1;33m.\u001b[0m\u001b[0mdrop\u001b[0m\u001b[1;33m(\u001b[0m\u001b[1;34m'id'\u001b[0m\u001b[1;33m,\u001b[0m\u001b[0maxis\u001b[0m \u001b[1;33m=\u001b[0m \u001b[1;36m1\u001b[0m\u001b[1;33m)\u001b[0m\u001b[1;33m\u001b[0m\u001b[1;33m\u001b[0m\u001b[0m\n\u001b[0m\u001b[0;32m      2\u001b[0m \u001b[0mtrain_data\u001b[0m\u001b[1;33m.\u001b[0m\u001b[0mhead\u001b[0m\u001b[1;33m(\u001b[0m\u001b[1;33m)\u001b[0m\u001b[1;33m\u001b[0m\u001b[1;33m\u001b[0m\u001b[0m\n",
      "\u001b[1;31mNameError\u001b[0m: name 'train_data' is not defined"
     ]
    }
   ],
   "source": [
    "train_data = train_data.drop('id',axis = 1)\n",
    "train_data.head()"
   ]
  },
  {
   "cell_type": "code",
   "execution_count": 4,
   "id": "15bb16fb",
   "metadata": {},
   "outputs": [
    {
     "data": {
      "text/plain": [
       "(159571, 7)"
      ]
     },
     "execution_count": 4,
     "metadata": {},
     "output_type": "execute_result"
    }
   ],
   "source": [
    "train_data.shape"
   ]
  },
  {
   "cell_type": "code",
   "execution_count": 5,
   "id": "70760f60",
   "metadata": {},
   "outputs": [
    {
     "name": "stdout",
     "output_type": "stream",
     "text": [
      "<class 'pandas.core.frame.DataFrame'>\n",
      "RangeIndex: 159571 entries, 0 to 159570\n",
      "Data columns (total 7 columns):\n",
      " #   Column            Non-Null Count   Dtype \n",
      "---  ------            --------------   ----- \n",
      " 0   comment_text      159571 non-null  object\n",
      " 1   malignant         159571 non-null  int64 \n",
      " 2   highly_malignant  159571 non-null  int64 \n",
      " 3   rude              159571 non-null  int64 \n",
      " 4   threat            159571 non-null  int64 \n",
      " 5   abuse             159571 non-null  int64 \n",
      " 6   loathe            159571 non-null  int64 \n",
      "dtypes: int64(6), object(1)\n",
      "memory usage: 8.5+ MB\n"
     ]
    }
   ],
   "source": [
    "train_data.info()"
   ]
  },
  {
   "cell_type": "code",
   "execution_count": 6,
   "id": "9daeca84",
   "metadata": {},
   "outputs": [
    {
     "name": "stdout",
     "output_type": "stream",
     "text": [
      "Value counts for  malignant  is\n",
      "\n",
      "0    144277\n",
      "1     15294\n",
      "Name: malignant, dtype: int64\n"
     ]
    },
    {
     "data": {
      "image/png": "[encoded data removed]",
      "text/plain": [
       "<Figure size 432x288 with 1 Axes>"
      ]
     },
     "metadata": {
      "needs_background": "light"
     },
     "output_type": "display_data"
    },
    {
     "name": "stdout",
     "output_type": "stream",
     "text": [
      "Value counts for  highly_malignant  is\n",
      "\n",
      "0    157976\n",
      "1      1595\n",
      "Name: highly_malignant, dtype: int64\n"
     ]
    },
    {
     "data": {
      "image/png": "[encoded data removed]",
      "text/plain": [
       "<Figure size 432x288 with 1 Axes>"
      ]
     },
     "metadata": {
      "needs_background": "light"
     },
     "output_type": "display_data"
    },
    {
     "name": "stdout",
     "output_type": "stream",
     "text": [
      "Value counts for  rude  is\n",
      "\n",
      "0    151122\n",
      "1      8449\n",
      "Name: rude, dtype: int64\n"
     ]
    },
    {
     "data": {
      "image/png": "[encoded data removed]",
      "text/plain": [
       "<Figure size 432x288 with 1 Axes>"
      ]
     },
     "metadata": {
      "needs_background": "light"
     },
     "output_type": "display_data"
    },
    {
     "name": "stdout",
     "output_type": "stream",
     "text": [
      "Value counts for  threat  is\n",
      "\n",
      "0    159093\n",
      "1       478\n",
      "Name: threat, dtype: int64\n"
     ]
    },
    {
     "data": {
      "image/png": "[encoded data removed]",
      "text/plain": [
       "<Figure size 432x288 with 1 Axes>"
      ]
     },
     "metadata": {
      "needs_background": "light"
     },
     "output_type": "display_data"
    },
    {
     "name": "stdout",
     "output_type": "stream",
     "text": [
      "Value counts for  abuse  is\n",
      "\n",
      "0    151694\n",
      "1      7877\n",
      "Name: abuse, dtype: int64\n"
     ]
    },
    {
     "data": {
      "image/png": "[encoded data removed]",
      "text/plain": [
       "<Figure size 432x288 with 1 Axes>"
      ]
     },
     "metadata": {
      "needs_background": "light"
     },
     "output_type": "display_data"
    },
    {
     "name": "stdout",
     "output_type": "stream",
     "text": [
      "Value counts for  loathe  is\n",
      "\n",
      "0    158166\n",
      "1      1405\n",
      "Name: loathe, dtype: int64\n"
     ]
    },
    {
     "data": {
      "image/png": "[encoded data removed]",
      "text/plain": [
       "<Figure size 432x288 with 1 Axes>"
      ]
     },
     "metadata": {
      "needs_background": "light"
     },
     "output_type": "display_data"
    }
   ],
   "source": [
    "labels = train_data[['malignant','highly_malignant','rude','threat','abuse','loathe']]\n",
    "\n",
    "for i in labels:\n",
    "    print('Value counts for ',i,' is\\n')\n",
    "    print(train_data[i].value_counts())\n",
    "    sns.countplot(train_data[i])\n",
    "    plt.show()"
   ]
  },
  {
   "cell_type": "markdown",
   "id": "63b05368",
   "metadata": {},
   "source": [
    "### Let's combine the dependent variables to get one target variable"
   ]
  },
  {
   "cell_type": "code",
   "execution_count": 7,
   "id": "7667f5f1",
   "metadata": {},
   "outputs": [
    {
     "data": {
      "text/plain": [
       "0    143346\n",
       "1     16225\n",
       "Name: offensive, dtype: int64"
      ]
     },
     "execution_count": 7,
     "metadata": {},
     "output_type": "execute_result"
    }
   ],
   "source": [
    "train_data['offensive'] = labels.sum(axis = 1)\n",
    "y = train_data['offensive'] > 0\n",
    "y = y.astype(int)\n",
    "y.value_counts()"
   ]
  },
  {
   "cell_type": "markdown",
   "id": "41441c43",
   "metadata": {},
   "source": [
    "## Data Cleaning\n",
    "#### 1. Checking duplicate entries and dropping them"
   ]
  },
  {
   "cell_type": "code",
   "execution_count": 8,
   "id": "63e4809f",
   "metadata": {},
   "outputs": [
    {
     "data": {
      "text/plain": [
       "0"
      ]
     },
     "execution_count": 8,
     "metadata": {},
     "output_type": "execute_result"
    }
   ],
   "source": [
    "train_data.duplicated().sum()"
   ]
  },
  {
   "cell_type": "markdown",
   "id": "a23b3866",
   "metadata": {},
   "source": [
    "#### 2. Checking null values and filling them"
   ]
  },
  {
   "cell_type": "code",
   "execution_count": 9,
   "id": "4529a706",
   "metadata": {},
   "outputs": [
    {
     "data": {
      "text/plain": [
       "0"
      ]
     },
     "execution_count": 9,
     "metadata": {},
     "output_type": "execute_result"
    }
   ],
   "source": [
    "train_data.isna().sum().sum()"
   ]
  },
  {
   "cell_type": "markdown",
   "id": "7f86daf3",
   "metadata": {},
   "source": [
    "## Data Preprocessing"
   ]
  },
  {
   "cell_type": "code",
   "execution_count": 10,
   "id": "add889c6",
   "metadata": {},
   "outputs": [],
   "source": [
    "import re\n",
    "def decontracted(phrase):\n",
    "    #specific\n",
    "    phrase = re.sub(r\"’\",\"'\",phrase)\n",
    "    phrase = re.sub(r\"”\",\"'\",phrase)\n",
    "    phrase = re.sub(r\"“\",\"'\",phrase)\n",
    "    phrase = re.sub(r\"won't\",\"will not\",phrase)\n",
    "    phrase = re.sub(r\"can\\'t'\",\"can not\",phrase)\n",
    "    \n",
    "    #general\n",
    "    phrase = re.sub(r\"n\\'t\",\" not\",phrase)\n",
    "    phrase = re.sub(r\"\\'re\",\" are\",phrase)\n",
    "    phrase = re.sub(r\"\\'s\",\"s\",phrase)\n",
    "    phrase = re.sub(r\"\\'d\",\" would\",phrase)\n",
    "    phrase = re.sub(r\"\\'ll\",\" will\",phrase)\n",
    "    phrase = re.sub(r\"\\'t\",\" not\",phrase)\n",
    "    phrase = re.sub(r\"\\'ve\",\" have\",phrase)\n",
    "    phrase = re.sub(r\"\\'m\",\" am\",phrase)\n",
    "    return phrase"
   ]
  },
  {
   "cell_type": "code",
   "execution_count": 11,
   "id": "c0324042",
   "metadata": {},
   "outputs": [],
   "source": [
    "import nltk\n",
    "from nltk.corpus import stopwords\n",
    "from nltk.stem import WordNetLemmatizer"
   ]
  },
  {
   "cell_type": "code",
   "execution_count": 12,
   "id": "d3d149f4",
   "metadata": {},
   "outputs": [],
   "source": [
    "stop_words = stopwords.words('english')\n",
    "lemmatizer = WordNetLemmatizer()"
   ]
  },
  {
   "cell_type": "code",
   "execution_count": 13,
   "id": "ee3a3d4c",
   "metadata": {},
   "outputs": [
    {
     "name": "stderr",
     "output_type": "stream",
     "text": [
      "100%|████████████████████████████████████████████████████████████████████████| 159571/159571 [00:54<00:00, 2943.51it/s]\n"
     ]
    }
   ],
   "source": [
    "from tqdm import tqdm\n",
    "preprocessed_comments = []\n",
    "for sentence in tqdm(train_data['comment_text'].values):\n",
    "    sent = decontracted(sentence)\n",
    "    sent = re.sub(r'http\\S+', '', sent) #remove hyperlinks\n",
    "    sent = re.sub('[^A-Za-z]+',' ',sent) #remove spacial character, numbers\n",
    "    sent = ' '.join(e for e in sent.split() if e not in stop_words) #removing stopwords\n",
    "    sent = ' '.join(lemmatizer.lemmatize(e) for e in sent.split()) #lemmatization\n",
    "    preprocessed_comments.append(sent.lower().strip()) #converting all to lower case"
   ]
  },
  {
   "cell_type": "code",
   "execution_count": 14,
   "id": "cf580f12",
   "metadata": {},
   "outputs": [],
   "source": [
    "train_data['comment_text'] = preprocessed_comments"
   ]
  },
  {
   "cell_type": "markdown",
   "id": "2e83fef9",
   "metadata": {},
   "source": [
    "## Splitting data into train, cv, test"
   ]
  },
  {
   "cell_type": "code",
   "execution_count": 15,
   "id": "16e87fc4",
   "metadata": {},
   "outputs": [],
   "source": [
    "from sklearn.model_selection import train_test_split\n",
    "x = train_data.drop(columns = ['malignant','highly_malignant','rude','threat','abuse','loathe'])\n",
    "output = y"
   ]
  },
  {
   "cell_type": "code",
   "execution_count": 16,
   "id": "534a403b",
   "metadata": {},
   "outputs": [
    {
     "data": {
      "text/plain": [
       "(159571, 2)"
      ]
     },
     "execution_count": 16,
     "metadata": {},
     "output_type": "execute_result"
    }
   ],
   "source": [
    "x.shape"
   ]
  },
  {
   "cell_type": "code",
   "execution_count": 17,
   "id": "8ee8a6c9",
   "metadata": {},
   "outputs": [],
   "source": [
    "train,test,train_output,test_output = train_test_split(x,\n",
    "                                                      output,\n",
    "                                                      test_size = 0.3,\n",
    "                                                      stratify = output, # makes sure that no bias is created while splitting\n",
    "                                                      random_state = 0)\n",
    "\n",
    "train_modified,cv,train_output_modified,cv_output = train_test_split(train,\n",
    "                                                    train_output,\n",
    "                                                    test_size = 0.3,\n",
    "                                                    stratify = train_output,\n",
    "                                                    random_state = 0)"
   ]
  },
  {
   "cell_type": "code",
   "execution_count": 18,
   "id": "79d7a35f",
   "metadata": {},
   "outputs": [
    {
     "data": {
      "text/plain": [
       "((111699, 2), (33510, 2), (47872, 2))"
      ]
     },
     "execution_count": 18,
     "metadata": {},
     "output_type": "execute_result"
    }
   ],
   "source": [
    "train.shape,cv.shape,test.shape"
   ]
  },
  {
   "cell_type": "code",
   "execution_count": 19,
   "id": "f656bd33",
   "metadata": {},
   "outputs": [
    {
     "data": {
      "text/plain": [
       "((111699,), (33510,), (47872,))"
      ]
     },
     "execution_count": 19,
     "metadata": {},
     "output_type": "execute_result"
    }
   ],
   "source": [
    "train_output.shape, cv_output.shape, test_output.shape"
   ]
  },
  {
   "cell_type": "markdown",
   "id": "c4ef97ec",
   "metadata": {},
   "source": [
    "## Data Encoding\n",
    "### 1. comment_text  - TFIDF Vectorization "
   ]
  },
  {
   "cell_type": "code",
   "execution_count": 20,
   "id": "c5b71952",
   "metadata": {},
   "outputs": [],
   "source": [
    "from sklearn.feature_extraction.text import TfidfVectorizer"
   ]
  },
  {
   "cell_type": "code",
   "execution_count": 21,
   "id": "3ed8d3e5",
   "metadata": {},
   "outputs": [],
   "source": [
    "comment_tfidf_vectorizer = TfidfVectorizer(min_df = 5)\n",
    "train_comment_tfidf = comment_tfidf_vectorizer.fit_transform(train['comment_text'].values)\n",
    "cv_comment_tfidf = comment_tfidf_vectorizer.transform(cv['comment_text'].values)\n",
    "test_comment_tfidf = comment_tfidf_vectorizer.transform(test['comment_text'].values)"
   ]
  },
  {
   "cell_type": "code",
   "execution_count": 22,
   "id": "aa443336",
   "metadata": {},
   "outputs": [],
   "source": [
    "# saving the tfidf vectorizer\n",
    "import pickle\n",
    "with open(\"comment_tfidf_vectorizer.pickle\",\"wb\") as fp:\n",
    "    pickle.dump(comment_tfidf_vectorizer,fp,protocol = pickle.HIGHEST_PROTOCOL)"
   ]
  },
  {
   "cell_type": "code",
   "execution_count": 23,
   "id": "80c781da",
   "metadata": {},
   "outputs": [
    {
     "data": {
      "text/plain": [
       "['aa',\n",
       " 'aaa',\n",
       " 'aah',\n",
       " 'aaliyah',\n",
       " 'aap',\n",
       " 'aardvark',\n",
       " 'aaron',\n",
       " 'ab',\n",
       " 'aba',\n",
       " 'abad']"
      ]
     },
     "execution_count": 23,
     "metadata": {},
     "output_type": "execute_result"
    }
   ],
   "source": [
    "comment_tfidf_vectorizer.get_feature_names()[:10]"
   ]
  },
  {
   "cell_type": "markdown",
   "id": "4384f17c",
   "metadata": {},
   "source": [
    "### 2. Word2Vec"
   ]
  },
  {
   "cell_type": "code",
   "execution_count": 24,
   "id": "c5eb3893",
   "metadata": {},
   "outputs": [],
   "source": [
    "from gensim.models import Word2Vec"
   ]
  },
  {
   "cell_type": "code",
   "execution_count": 25,
   "id": "bf012c33",
   "metadata": {},
   "outputs": [
    {
     "name": "stdout",
     "output_type": "stream",
     "text": [
      "Loading Glove Model\n"
     ]
    },
    {
     "name": "stderr",
     "output_type": "stream",
     "text": [
      "1917494it [04:02, 7917.74it/s]"
     ]
    },
    {
     "name": "stdout",
     "output_type": "stream",
     "text": [
      "Done  1917494 words loaded\n"
     ]
    },
    {
     "name": "stderr",
     "output_type": "stream",
     "text": [
      "\n"
     ]
    }
   ],
   "source": [
    "#using pre-trained glove model\n",
    "import numpy as np\n",
    "def loadGloveModel(gloveFile):\n",
    "    print(\"Loading Glove Model\")\n",
    "    f = open(gloveFile,'r',errors = 'ignore', encoding = 'utf8')\n",
    "    model = {}\n",
    "    for line in tqdm(f):\n",
    "        splitline = line.split()\n",
    "        word = splitline[0]\n",
    "        embedding = np.asarray([float(val) for val in splitline[1:]])\n",
    "        model[word] = embedding\n",
    "    print('Done ',len(model), 'words loaded')\n",
    "    return model\n",
    "model = loadGloveModel('C:/Users/HP/Documents/DataTrained/Data Science notes/Elective notes/glove.42B.300d.txt')"
   ]
  },
  {
   "cell_type": "code",
   "execution_count": 26,
   "id": "589a8ead",
   "metadata": {},
   "outputs": [],
   "source": [
    "# saving the glove model\n",
    "with open('model.pickle','wb') as fp:\n",
    "    pickle.dump(model,fp,protocol=pickle.HIGHEST_PROTOCOL)"
   ]
  },
  {
   "cell_type": "code",
   "execution_count": 27,
   "id": "66d1e2ee",
   "metadata": {},
   "outputs": [],
   "source": [
    "glove_words = set(model.keys())"
   ]
  },
  {
   "cell_type": "markdown",
   "id": "c6cdc376",
   "metadata": {},
   "source": [
    "### 2.1 - comment_text - Word2Vec"
   ]
  },
  {
   "cell_type": "code",
   "execution_count": 28,
   "id": "13fae805",
   "metadata": {},
   "outputs": [
    {
     "name": "stderr",
     "output_type": "stream",
     "text": [
      "100%|████████████████████████████████████████████████████████████████████████| 111699/111699 [00:42<00:00, 2639.00it/s]\n",
      "100%|██████████████████████████████████████████████████████████████████████████| 33510/33510 [00:12<00:00, 2643.43it/s]\n",
      "100%|██████████████████████████████████████████████████████████████████████████| 47872/47872 [00:17<00:00, 2688.36it/s]\n"
     ]
    }
   ],
   "source": [
    "avg_w2v_vectors_comment_train = []\n",
    "avg_w2v_vectors_comment_cv = []\n",
    "avg_w2v_vectors_comment_test = []\n",
    "\n",
    "for sentence in tqdm(train['comment_text'].values):\n",
    "    vector = np.zeros(300)\n",
    "    cnt_words = 0 \n",
    "    for word in sentence: \n",
    "        if word in glove_words:\n",
    "            vector +=model[word]\n",
    "            cnt_words += 1\n",
    "            \n",
    "    if cnt_words != 0:\n",
    "        vector /= cnt_words\n",
    "    avg_w2v_vectors_comment_train.append(vector)\n",
    "avg_w2v_vectors_comment_train = np.array(avg_w2v_vectors_comment_train)\n",
    "\n",
    "for sentence in tqdm(cv['comment_text'].values):\n",
    "    vector = np.zeros(300) \n",
    "    cnt_words = 0 \n",
    "    for word in sentence:\n",
    "        if word in glove_words:\n",
    "            vector +=model[word]\n",
    "            cnt_words += 1\n",
    "            \n",
    "    if cnt_words != 0:\n",
    "        vector /= cnt_words\n",
    "    avg_w2v_vectors_comment_cv.append(vector)\n",
    "avg_w2v_vectors_comment_cv = np.array(avg_w2v_vectors_comment_cv)\n",
    "\n",
    "for sentence in tqdm(test['comment_text'].values):\n",
    "    vector = np.zeros(300)\n",
    "    cnt_words = 0 \n",
    "    for word in sentence:\n",
    "        if word in glove_words:\n",
    "            vector +=model[word]\n",
    "            cnt_words += 1\n",
    "            \n",
    "    if cnt_words != 0:\n",
    "        vector /= cnt_words\n",
    "    avg_w2v_vectors_comment_test.append(vector)\n",
    "avg_w2v_vectors_comment_test = np.array(avg_w2v_vectors_comment_test)"
   ]
  },
  {
   "cell_type": "markdown",
   "id": "d5a1f5fb",
   "metadata": {},
   "source": [
    "## Modeling"
   ]
  },
  {
   "cell_type": "code",
   "execution_count": 29,
   "id": "2a2beda5",
   "metadata": {},
   "outputs": [],
   "source": [
    "from sklearn.naive_bayes import MultinomialNB\n",
    "from sklearn.tree import DecisionTreeClassifier\n",
    "from sklearn.neighbors import KNeighborsClassifier\n",
    "from sklearn.svm import SVC\n",
    "from sklearn.ensemble import BaggingClassifier, RandomForestClassifier, GradientBoostingClassifier, AdaBoostRegressor\n",
    "from sklearn.linear_model import LogisticRegression \n",
    "from sklearn.metrics import roc_auc_score, f1_score, classification_report"
   ]
  },
  {
   "cell_type": "markdown",
   "id": "7e22369a",
   "metadata": {},
   "source": [
    "### 1. Multinomial naive bayes with tfidf encoded features"
   ]
  },
  {
   "cell_type": "code",
   "execution_count": 30,
   "id": "19d24d9c",
   "metadata": {},
   "outputs": [
    {
     "name": "stdout",
     "output_type": "stream",
     "text": [
      "for alpha = 0.000010, train AUC = 0.981836\n",
      "for alpha = 0.000010, cv AUC = 0.983217\n",
      "for alpha = 0.000010, train f1 score = 0.784089\n",
      "for alpha = 0.000010, cv f1 score = 0.784849\n",
      "--------------------------------------------------\n",
      "for alpha = 0.000100, train AUC = 0.981618\n",
      "for alpha = 0.000100, cv AUC = 0.983020\n",
      "for alpha = 0.000100, train f1 score = 0.783824\n",
      "for alpha = 0.000100, cv f1 score = 0.784434\n",
      "--------------------------------------------------\n",
      "for alpha = 0.001000, train AUC = 0.981165\n",
      "for alpha = 0.001000, cv AUC = 0.982614\n",
      "for alpha = 0.001000, train f1 score = 0.783166\n",
      "for alpha = 0.001000, cv f1 score = 0.783470\n",
      "--------------------------------------------------\n",
      "for alpha = 0.010000, train AUC = 0.980109\n",
      "for alpha = 0.010000, cv AUC = 0.981660\n",
      "for alpha = 0.010000, train f1 score = 0.781808\n",
      "for alpha = 0.010000, cv f1 score = 0.782163\n",
      "--------------------------------------------------\n",
      "for alpha = 0.100000, train AUC = 0.977012\n",
      "for alpha = 0.100000, cv AUC = 0.978714\n",
      "for alpha = 0.100000, train f1 score = 0.770893\n",
      "for alpha = 0.100000, cv f1 score = 0.768326\n",
      "--------------------------------------------------\n",
      "for alpha = 1.000000, train AUC = 0.956885\n",
      "for alpha = 1.000000, cv AUC = 0.959378\n",
      "for alpha = 1.000000, train f1 score = 0.649707\n",
      "for alpha = 1.000000, cv f1 score = 0.648924\n",
      "--------------------------------------------------\n",
      "for alpha = 10.000000, train AUC = 0.862047\n",
      "for alpha = 10.000000, cv AUC = 0.866528\n",
      "for alpha = 10.000000, train f1 score = 0.204569\n",
      "for alpha = 10.000000, cv f1 score = 0.208728\n",
      "--------------------------------------------------\n",
      "for alpha = 100.000000, train AUC = 0.777610\n",
      "for alpha = 100.000000, cv AUC = 0.781383\n",
      "for alpha = 100.000000, train f1 score = 0.000880\n",
      "for alpha = 100.000000, cv f1 score = 0.001173\n",
      "--------------------------------------------------\n"
     ]
    }
   ],
   "source": [
    "alpha = [0.00001, 0.0001, 0.001, 0.01, 0.1, 1, 10, 100]\n",
    "for i in alpha:\n",
    "    nb_clf = MultinomialNB(alpha = i, fit_prior = True)\n",
    "    nb_clf.fit(train_comment_tfidf, train_output)\n",
    "    \n",
    "    train_prob = nb_clf.predict_proba(train_comment_tfidf)[:,1]\n",
    "    train_AUC = roc_auc_score(train_output, train_prob)\n",
    "    print('for alpha = %f, train AUC = %f' % (i, train_AUC))\n",
    "    \n",
    "    cv_prob = nb_clf.predict_proba(cv_comment_tfidf)[:,1]\n",
    "    cv_AUC = roc_auc_score(cv_output, cv_prob)\n",
    "    print('for alpha = %f, cv AUC = %f' % (i, cv_AUC))\n",
    "    \n",
    "    train_scores = nb_clf.predict(train_comment_tfidf)\n",
    "    train_f1 = f1_score(train_output, train_scores)\n",
    "    print('for alpha = %f, train f1 score = %f' % (i, train_f1))\n",
    "    \n",
    "    cv_scores = nb_clf.predict(cv_comment_tfidf)\n",
    "    cv_f1 = f1_score(cv_output, cv_scores)\n",
    "    print('for alpha = %f, cv f1 score = %f' % (i, cv_f1))\n",
    "    \n",
    "    print('-'*50)"
   ]
  },
  {
   "cell_type": "code",
   "execution_count": 31,
   "id": "263f7952",
   "metadata": {},
   "outputs": [
    {
     "name": "stdout",
     "output_type": "stream",
     "text": [
      "For alpha = 0.00001, test AUC = 0.894940\n",
      "For alpha = 0.00001, test f1 score = 0.668887\n"
     ]
    }
   ],
   "source": [
    "nb_clf_best = MultinomialNB(alpha = 0.00001, fit_prior = True)\n",
    "nb_clf_best.fit(train_comment_tfidf, train_output)\n",
    "\n",
    "test_prob = nb_clf_best.predict_proba(test_comment_tfidf)[:,1]\n",
    "test_AUC = roc_auc_score(test_output, test_prob)\n",
    "print(\"For alpha = 0.00001, test AUC = %f\" % (test_AUC))\n",
    "\n",
    "test_scores = nb_clf_best.predict(test_comment_tfidf)\n",
    "test_f1 = f1_score(test_output, test_scores)\n",
    "print(\"For alpha = 0.00001, test f1 score = %f\" % (test_f1))"
   ]
  },
  {
   "cell_type": "code",
   "execution_count": 32,
   "id": "012ad22c",
   "metadata": {},
   "outputs": [
    {
     "name": "stdout",
     "output_type": "stream",
     "text": [
      "              precision    recall  f1-score   support\n",
      "\n",
      "     Label 0       0.95      0.99      0.97     43004\n",
      "     Label 1       0.89      0.54      0.67      4868\n",
      "\n",
      "    accuracy                           0.95     47872\n",
      "   macro avg       0.92      0.76      0.82     47872\n",
      "weighted avg       0.94      0.95      0.94     47872\n",
      "\n"
     ]
    }
   ],
   "source": [
    "print(classification_report(test_output,test_scores,target_names=['Label 0','Label 1']))"
   ]
  },
  {
   "cell_type": "markdown",
   "id": "1a153dc2",
   "metadata": {},
   "source": [
    "### 2. Bagging Classifier with Word2Vec encoded feature"
   ]
  },
  {
   "cell_type": "code",
   "execution_count": 33,
   "id": "e6b0c356",
   "metadata": {},
   "outputs": [
    {
     "name": "stdout",
     "output_type": "stream",
     "text": [
      "for C = 1.000000, train AUC = 0.850121\n",
      "for C = 1.000000, cv AUC = 0.849303\n",
      "for c = 1.000000, train f1 score = 0.706868\n",
      "for C = 1.000000, cv f1 score = 0.704596\n",
      "--------------------------------------------------\n",
      "for C = 10.000000, train AUC = 0.999560\n",
      "for C = 10.000000, cv AUC = 0.999542\n",
      "for c = 10.000000, train f1 score = 0.932621\n",
      "for C = 10.000000, cv f1 score = 0.931142\n",
      "--------------------------------------------------\n",
      "for C = 20.000000, train AUC = 0.999980\n",
      "for C = 20.000000, cv AUC = 0.999984\n",
      "for c = 20.000000, train f1 score = 0.973080\n",
      "for C = 20.000000, cv f1 score = 0.977351\n",
      "--------------------------------------------------\n",
      "for C = 50.000000, train AUC = 0.999995\n",
      "for C = 50.000000, cv AUC = 0.999995\n",
      "for c = 50.000000, train f1 score = 0.996290\n",
      "for C = 50.000000, cv f1 score = 0.996616\n",
      "--------------------------------------------------\n",
      "for C = 100.000000, train AUC = 0.999998\n",
      "for C = 100.000000, cv AUC = 0.999998\n",
      "for c = 100.000000, train f1 score = 0.998810\n",
      "for C = 100.000000, cv f1 score = 0.999119\n",
      "--------------------------------------------------\n"
     ]
    }
   ],
   "source": [
    "n_estimators = [1, 10, 20, 50, 100]\n",
    "for i in n_estimators:\n",
    "    bg_clf = BaggingClassifier(base_estimator=None,n_estimators=i,max_samples=1.0,\n",
    "                               max_features=1.0,bootstrap=True,bootstrap_features=False)\n",
    "    bg_clf.fit(avg_w2v_vectors_comment_train, train_output)\n",
    "    \n",
    "    train_prob = bg_clf.predict_proba(avg_w2v_vectors_comment_train)[:,1]\n",
    "    train_AUC = roc_auc_score(train_output, train_prob)\n",
    "    print('for C = %f, train AUC = %f' % (i, train_AUC))\n",
    "    \n",
    "    cv_prob = bg_clf.predict_proba(avg_w2v_vectors_comment_cv)[:,1]\n",
    "    cv_AUC = roc_auc_score(cv_output, cv_prob)\n",
    "    print('for C = %f, cv AUC = %f' % (i, cv_AUC))\n",
    "    \n",
    "    train_scores = bg_clf.predict(avg_w2v_vectors_comment_train)\n",
    "    train_f1 = f1_score(train_output, train_scores)\n",
    "    print('for c = %f, train f1 score = %f' % (i, train_f1))\n",
    "    \n",
    "    cv_scores = bg_clf.predict(avg_w2v_vectors_comment_cv)\n",
    "    cv_f1 = f1_score(cv_output, cv_scores)\n",
    "    print('for C = %f, cv f1 score = %f' % (i, cv_f1))\n",
    "    \n",
    "    print('-'*50)"
   ]
  },
  {
   "cell_type": "code",
   "execution_count": 35,
   "id": "653cb97c",
   "metadata": {},
   "outputs": [
    {
     "name": "stdout",
     "output_type": "stream",
     "text": [
      "for n_estimator = 100.000000, test AUC = 0.762048\n",
      "For n_estimator = 100, test f1 score = 0.277431\n"
     ]
    }
   ],
   "source": [
    "bg_clf_best = BaggingClassifier(n_estimators = 100)\n",
    "bg_clf_best.fit(avg_w2v_vectors_comment_train, train_output)\n",
    "\n",
    "test_prob = bg_clf_best.predict_proba(avg_w2v_vectors_comment_test)[:,1]\n",
    "test_AUC = roc_auc_score(test_output, test_prob)\n",
    "print('for n_estimator = %f, test AUC = %f' % (i, test_AUC))\n",
    "\n",
    "test_scores = bg_clf_best.predict(avg_w2v_vectors_comment_test)\n",
    "test_f1 = f1_score(test_output, test_scores)\n",
    "print(\"For n_estimator = 100, test f1 score = %f\" % (test_f1))"
   ]
  },
  {
   "cell_type": "markdown",
   "id": "1c10b3c2",
   "metadata": {},
   "source": [
    "### 3. Random Forest Classifier with Word2Vec encoded feature"
   ]
  },
  {
   "cell_type": "code",
   "execution_count": 36,
   "id": "dfdc8e85",
   "metadata": {},
   "outputs": [
    {
     "name": "stdout",
     "output_type": "stream",
     "text": [
      "for n_estimator = 1.000000, train AUC = 0.844012\n",
      "for n_estimator = 1.000000, cv AUC = 0.844564\n",
      "for n_estimator = 1.000000, train f1 score = 0.703048\n",
      "for n_estimator = 1.000000, cv f1 score = 0.702963\n",
      "--------------------------------------------------\n",
      "for n_estimator = 10.000000, train AUC = 0.999672\n",
      "for n_estimator = 10.000000, cv AUC = 0.999696\n",
      "for n_estimator = 10.000000, train f1 score = 0.927393\n",
      "for n_estimator = 10.000000, cv f1 score = 0.928459\n",
      "--------------------------------------------------\n",
      "for n_estimator = 20.000000, train AUC = 0.999986\n",
      "for n_estimator = 20.000000, cv AUC = 0.999986\n",
      "for n_estimator = 20.000000, train f1 score = 0.973993\n",
      "for n_estimator = 20.000000, cv f1 score = 0.972574\n",
      "--------------------------------------------------\n",
      "for n_estimator = 30.000000, train AUC = 0.999995\n",
      "for n_estimator = 30.000000, cv AUC = 0.999998\n",
      "for n_estimator = 30.000000, train f1 score = 0.989149\n",
      "for n_estimator = 30.000000, cv f1 score = 0.989177\n",
      "--------------------------------------------------\n",
      "for n_estimator = 50.000000, train AUC = 0.999996\n",
      "for n_estimator = 50.000000, cv AUC = 0.999999\n",
      "for n_estimator = 50.000000, train f1 score = 0.996601\n",
      "for n_estimator = 50.000000, cv f1 score = 0.997059\n",
      "--------------------------------------------------\n",
      "for n_estimator = 100.000000, train AUC = 0.999999\n",
      "for n_estimator = 100.000000, cv AUC = 0.999999\n",
      "for n_estimator = 100.000000, train f1 score = 0.998810\n",
      "for n_estimator = 100.000000, cv f1 score = 0.998972\n",
      "--------------------------------------------------\n"
     ]
    }
   ],
   "source": [
    "n_estimators = [1, 10, 20, 30, 50, 100]\n",
    "for i in n_estimators:\n",
    "    rf_clf = RandomForestClassifier(n_estimators=i,criterion='gini',max_depth=None,\n",
    "                                    min_samples_split=2,min_samples_leaf=1,)\n",
    "    rf_clf.fit(avg_w2v_vectors_comment_train, train_output)\n",
    "    \n",
    "    train_prob = rf_clf.predict_proba(avg_w2v_vectors_comment_train)[:,1]\n",
    "    train_AUC = roc_auc_score(train_output, train_prob)\n",
    "    print('for n_estimator = %f, train AUC = %f' % (i, train_AUC))\n",
    "    \n",
    "    cv_prob = rf_clf.predict_proba(avg_w2v_vectors_comment_cv)[:,1]\n",
    "    cv_AUC = roc_auc_score(cv_output, cv_prob)\n",
    "    print('for n_estimator = %f, cv AUC = %f' % (i, cv_AUC))\n",
    "    \n",
    "    train_scores = rf_clf.predict(avg_w2v_vectors_comment_train)\n",
    "    train_f1 = f1_score(train_output, train_scores)\n",
    "    print('for n_estimator = %f, train f1 score = %f' % (i, train_f1))\n",
    "    \n",
    "    cv_scores = rf_clf.predict(avg_w2v_vectors_comment_cv)\n",
    "    cv_f1 = f1_score(cv_output, cv_scores)\n",
    "    print('for n_estimator = %f, cv f1 score = %f' % (i, cv_f1))\n",
    "    \n",
    "    print('-'*50)"
   ]
  },
  {
   "cell_type": "code",
   "execution_count": 37,
   "id": "b7df7a74",
   "metadata": {},
   "outputs": [
    {
     "name": "stdout",
     "output_type": "stream",
     "text": [
      "for n_estimator = 100.000000, test AUC = 0.768923\n",
      "For n_estimator = 100, test f1 score = 0.245657\n"
     ]
    }
   ],
   "source": [
    "rf_clf_best = RandomForestClassifier(n_estimators = 100,criterion='gini',max_depth=None,\n",
    "                                    min_samples_split=2,min_samples_leaf=1,)\n",
    "rf_clf_best.fit(avg_w2v_vectors_comment_train, train_output)\n",
    "\n",
    "test_prob = rf_clf_best.predict_proba(avg_w2v_vectors_comment_test)[:,1]\n",
    "test_AUC = roc_auc_score(test_output, test_prob)\n",
    "print('for n_estimator = %f, test AUC = %f' % (i, test_AUC))\n",
    "\n",
    "test_scores = rf_clf_best.predict(avg_w2v_vectors_comment_test)\n",
    "test_f1 = f1_score(test_output, test_scores)\n",
    "print(\"For n_estimator = 100, test f1 score = %f\" % (test_f1))"
   ]
  },
  {
   "cell_type": "code",
   "execution_count": 38,
   "id": "69ea4b85",
   "metadata": {},
   "outputs": [
    {
     "name": "stdout",
     "output_type": "stream",
     "text": [
      "for n_estimator = 100, train AUC =  0.7980353997464622\n",
      "for n_estimator = 100, cv AUC =  0.8020869615630694\n",
      "for n_estimator = 100, train f1 score = 0.2829339143064633\n",
      "for n_estimator = 100, cv f1 score =  0.28363283147158813\n"
     ]
    }
   ],
   "source": [
    "gb_clf = GradientBoostingClassifier(n_estimators=100,criterion='friedman_mse',min_samples_split=2,min_samples_leaf=1)\n",
    "gb_clf.fit(avg_w2v_vectors_comment_train, train_output)\n",
    "    \n",
    "train_prob = gb_clf.predict_proba(avg_w2v_vectors_comment_train)[:,1]\n",
    "train_AUC = roc_auc_score(train_output, train_prob)\n",
    "print('for n_estimator = 100, train AUC = ',(train_AUC))\n",
    "    \n",
    "cv_prob = gb_clf.predict_proba(avg_w2v_vectors_comment_cv)[:,1]\n",
    "cv_AUC = roc_auc_score(cv_output, cv_prob)\n",
    "print('for n_estimator = 100, cv AUC = ',(cv_AUC))\n",
    "    \n",
    "train_scores = gb_clf.predict(avg_w2v_vectors_comment_train)\n",
    "train_f1 = f1_score(train_output, train_scores)\n",
    "print('for n_estimator = 100, train f1 score =',(train_f1))\n",
    "    \n",
    "cv_scores = gb_clf.predict(avg_w2v_vectors_comment_cv)\n",
    "cv_f1 = f1_score(cv_output, cv_scores)\n",
    "print('for n_estimator = 100, cv f1 score = ',(cv_f1))"
   ]
  },
  {
   "cell_type": "code",
   "execution_count": 41,
   "id": "00a7ca5d",
   "metadata": {},
   "outputs": [
    {
     "name": "stdout",
     "output_type": "stream",
     "text": [
      "for n_estimator = 100, test AUC =  0.7814790828538469\n",
      "For n_estimator = 100, test f1 score =  0.25670825499914546\n"
     ]
    }
   ],
   "source": [
    "test_prob = gb_clf.predict_proba(avg_w2v_vectors_comment_test)[:,1]\n",
    "test_AUC = roc_auc_score(test_output, test_prob)\n",
    "print('for n_estimator = 100, test AUC = ',(test_AUC))\n",
    "\n",
    "test_scores = gb_clf.predict(avg_w2v_vectors_comment_test)\n",
    "test_f1 = f1_score(test_output, test_scores)\n",
    "print(\"For n_estimator = 100, test f1 score = \",(test_f1))"
   ]
  },
  {
   "cell_type": "code",
   "execution_count": 43,
   "id": "68ab99e4",
   "metadata": {},
   "outputs": [
    {
     "name": "stdout",
     "output_type": "stream",
     "text": [
      "train AUC =  0.7528625952373112\n",
      "cv AUC =  0.7538851030793688\n",
      "train f1 score = 0.18799970111335274\n",
      "cv f1 score =  0.18821767348976537\n"
     ]
    }
   ],
   "source": [
    "log_clf = LogisticRegression(penalty='l2',dual=False,tol=0.0001,C=1.0,fit_intercept=True,intercept_scaling=1,\n",
    "                             class_weight=None,random_state=None,solver='lbfgs',max_iter=100,multi_class='auto',\n",
    "                             verbose=0,warm_start=False,n_jobs=None,l1_ratio=None)\n",
    "log_clf.fit(avg_w2v_vectors_comment_train, train_output)\n",
    "    \n",
    "train_prob = log_clf.predict_proba(avg_w2v_vectors_comment_train)[:,1]\n",
    "train_AUC = roc_auc_score(train_output, train_prob)\n",
    "print('train AUC = ',(train_AUC))\n",
    "    \n",
    "cv_prob = log_clf.predict_proba(avg_w2v_vectors_comment_cv)[:,1]\n",
    "cv_AUC = roc_auc_score(cv_output, cv_prob)\n",
    "print('cv AUC = ',(cv_AUC))\n",
    "    \n",
    "train_scores = log_clf.predict(avg_w2v_vectors_comment_train)\n",
    "train_f1 = f1_score(train_output, train_scores)\n",
    "print('train f1 score =',(train_f1))\n",
    "    \n",
    "cv_scores = log_clf.predict(avg_w2v_vectors_comment_cv)\n",
    "cv_f1 = f1_score(cv_output, cv_scores)\n",
    "print('cv f1 score = ',(cv_f1))"
   ]
  },
  {
   "cell_type": "code",
   "execution_count": 44,
   "id": "7e3662e5",
   "metadata": {},
   "outputs": [
    {
     "name": "stdout",
     "output_type": "stream",
     "text": [
      "for n_estimator = 100, test AUC =  0.7548329068508044\n",
      "For n_estimator = 100, test f1 score =  0.18653576437587657\n"
     ]
    }
   ],
   "source": [
    "test_prob = log_clf.predict_proba(avg_w2v_vectors_comment_test)[:,1]\n",
    "test_AUC = roc_auc_score(test_output, test_prob)\n",
    "print('for n_estimator = 100, test AUC = ',(test_AUC))\n",
    "\n",
    "test_scores = log_clf.predict(avg_w2v_vectors_comment_test)\n",
    "test_f1 = f1_score(test_output, test_scores)\n",
    "print(\"For n_estimator = 100, test f1 score = \",(test_f1))"
   ]
  },
  {
   "cell_type": "code",
   "execution_count": null,
   "id": "db63dcd0",
   "metadata": {},
   "outputs": [],
   "source": []
  }
 ],
 "metadata": {
  "kernelspec": {
   "display_name": "Python 3 (ipykernel)",
   "language": "python",
   "name": "python3"
  },
  "language_info": {
   "codemirror_mode": {
    "name": "ipython",
    "version": 3
   },
   "file_extension": ".py",
   "mimetype": "text/x-python",
   "name": "python",
   "nbconvert_exporter": "python",
   "pygments_lexer": "ipython3",
   "version": "3.9.7"
  }
 },
 "nbformat": 4,
 "nbformat_minor": 5
}
